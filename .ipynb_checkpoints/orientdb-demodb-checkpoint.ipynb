{
 "cells": [
  {
   "cell_type": "markdown",
   "metadata": {},
   "source": [
    "# DemoDB\n",
    "\n",
    "## Introduction\n",
    "\n",
    "The demo database can help you understand better OrientDB features and capabilities and replaces the old demo database GratefulDeadConcerts included in version 2.2 and previous ones.\n",
    "\n",
    "Note: Random-generated data is used in the demodb, including data used for Emails, Names, Surnames, Phone Numbers and Reviews\n",
    "\n",
    "refs:\n",
    "\n",
    "https://orientdb.com/docs/3.0.x/gettingstarted/demodb/"
   ]
  },
  {
   "cell_type": "markdown",
   "metadata": {},
   "source": [
    "## Version\n",
    "demodb has a version that, in general, is not linked to the Server version you are running. You can check the version of the demodb included in your distribution by executing the following SQL query:\n",
    "\n",
    "<span style=\"color:red\">\n",
    "On error - install OrientDB first:\n",
    "</span> \n",
    "\n",
    "[OrientDB install](orientdb-install.ipynb)\n",
    " "
   ]
  },
  {
   "cell_type": "code",
   "execution_count": 125,
   "metadata": {
    "scrolled": true
   },
   "outputs": [
    {
     "name": "stdout",
     "output_type": "stream",
     "text": [
      "\n",
      "OrientDB console v.3.1.0-SNAPSHOT - Veloce (build f02ad980bcf5db727497e5877fc12898d8a5f31e, branch develop) https://www.orientdb.com\n",
      "Type 'help' to display all the supported commands.\n",
      "Connecting to database [remote:orientdb/demodb] with user 'admin'...OK\n",
      "+----+-------+\n",
      "|#   |Version|\n",
      "+----+-------+\n",
      "|0   |0.76   |\n",
      "+----+-------+\n",
      "\n",
      "1 item(s) found. Query executed in 0.006 sec(s).\n"
     ]
    }
   ],
   "source": [
    "/oc \"SELECT Version FROM DBInfo\""
   ]
  },
  {
   "cell_type": "markdown",
   "metadata": {},
   "source": []
  },
  {
   "cell_type": "markdown",
   "metadata": {},
   "source": [
    "## Data Model\n",
    "![](https://orientdb.com/docs/3.0.x/images/demo-dbs/social-travel-agency/DataModel.png)"
   ]
  },
  {
   "cell_type": "markdown",
   "metadata": {},
   "source": [
    "## Inheritance\n",
    "![](https://orientdb.com/docs/3.0.x/images/demo-dbs/social-travel-agency/Inheritance.png)"
   ]
  },
  {
   "cell_type": "markdown",
   "metadata": {},
   "source": [
    "## Profiles"
   ]
  },
  {
   "cell_type": "markdown",
   "metadata": {},
   "source": [
    "### &nbsp;&nbsp;&nbsp; Example 1\n",
    "\n",
    "https://orientdb.com/docs/3.0.x/gettingstarted/demodb/queries/DemoDB-Queries-Profiles.html#example-1"
   ]
  },
  {
   "cell_type": "code",
   "execution_count": 126,
   "metadata": {
    "scrolled": false
   },
   "outputs": [
    {
     "name": "stdout",
     "output_type": "stream",
     "text": [
      "\n",
      "OrientDB console v.3.1.0-SNAPSHOT - Veloce (build f02ad980bcf5db727497e5877fc12898d8a5f31e, branch develop) https://www.orientdb.com\n",
      "Type 'help' to display all the supported commands.\n",
      "Connecting to database [remote:orientdb/demodb] with user 'admin'...OK\n",
      "+----+----------------+-----------+\n",
      "|#   |NumberOfProfiles|YearOfBirth|\n",
      "+----+----------------+-----------+\n",
      "|0   |34              |1997       |\n",
      "|1   |29              |1953       |\n",
      "|2   |29              |1955       |\n",
      "|3   |28              |1951       |\n",
      "|4   |26              |1959       |\n",
      "|5   |25              |1996       |\n",
      "|6   |25              |1952       |\n",
      "|7   |24              |1969       |\n",
      "|8   |24              |1963       |\n",
      "|9   |23              |1983       |\n",
      "|10  |23              |1961       |\n",
      "|11  |22              |1995       |\n",
      "|12  |22              |1977       |\n",
      "|13  |22              |1984       |\n",
      "|14  |21              |1975       |\n",
      "|15  |21              |1965       |\n",
      "|16  |21              |1990       |\n",
      "|17  |21              |1981       |\n",
      "|18  |20              |1989       |\n",
      "|19  |20              |1962       |\n",
      "+----+----------------+-----------+\n",
      "LIMIT EXCEEDED: resultset contains more items not displayed (limit=20)\n",
      "\n",
      "20 item(s) found. Query executed in 0.08 sec(s).\n"
     ]
    }
   ],
   "source": [
    "# Find the 'year of birth' of the Profiles, and how many Profiles were born in the same year\n",
    "\n",
    "/oc \"\\\n",
    "SELECT count(*) AS NumberOfProfiles, Birthday.format('yyyy') AS YearOfBirth FROM Profiles \\\n",
    "GROUP BY YearOfBirth \\\n",
    "ORDER BY NumberOfProfiles DESC \\\n",
    "\""
   ]
  },
  {
   "cell_type": "markdown",
   "metadata": {},
   "source": [
    "### &nbsp;&nbsp;&nbsp;  Example 2\n",
    "\n",
    "https://orientdb.com/docs/3.0.x/gettingstarted/demodb/queries/DemoDB-Queries-Profiles.html#example-2"
   ]
  },
  {
   "cell_type": "code",
   "execution_count": 8,
   "metadata": {
    "scrolled": true
   },
   "outputs": [
    {
     "name": "stdout",
     "output_type": "stream",
     "text": [
      "\n",
      "OrientDB console v.3.1.0-SNAPSHOT - Veloce (build f02ad980bcf5db727497e5877fc12898d8a5f31e, branch develop) https://www.orientdb.com\n",
      "Type 'help' to display all the supported commands.\n",
      "Connecting to database [remote:orientdb/demodb] with user 'admin'...OK\n",
      "+----+-----------+--------+---------+-------------+\n",
      "|#   |Profile_RID|Name    |Surname  |FriendsNumber|\n",
      "+----+-----------+--------+---------+-------------+\n",
      "|0   |#18:467    |Jeremiah|Schneider|12           |\n",
      "|1   |#17:2      |Frank   |OrientDB |11           |\n",
      "|2   |#18:322    |Tom     |McGee    |11           |\n",
      "+----+-----------+--------+---------+-------------+\n",
      "\n",
      "3 item(s) found. Query executed in 0.259 sec(s).\n"
     ]
    }
   ],
   "source": [
    "# Find the top 3 Profiles that have the highest number of Friends:\n",
    "\n",
    "/oc \"\\\n",
    "SELECT @rid as Profile_RID, Name, Surname, both('HasFriend').size() AS FriendsNumber \\\n",
    "FROM Profiles \\\n",
    "ORDER BY FriendsNumber DESC \\\n",
    "LIMIT 3 \\\n",
    "\""
   ]
  },
  {
   "cell_type": "markdown",
   "metadata": {},
   "source": [
    "## Friendship"
   ]
  },
  {
   "cell_type": "markdown",
   "metadata": {},
   "source": [
    "### &nbsp;&nbsp;&nbsp;  Example 1\n",
    "\n",
    "https://orientdb.com/docs/3.0.x/gettingstarted/demodb/queries/DemoDB-Queries-Friendship.html#example-1"
   ]
  },
  {
   "cell_type": "code",
   "execution_count": 25,
   "metadata": {},
   "outputs": [
    {
     "name": "stdout",
     "output_type": "stream",
     "text": [
      "\n",
      "OrientDB console v.3.1.0-SNAPSHOT - Veloce (build f02ad980bcf5db727497e5877fc12898d8a5f31e, branch develop) https://www.orientdb.com\n",
      "Type 'help' to display all the supported commands.\n",
      "Connecting to database [remote:orientdb/demodb] with user 'admin'...OK\n",
      "+----+-----+--------+----+------+--------+--------+---------+---------+--------------+----------------------------------+---------------------------------------+\n",
      "|#   |@RID |@CLASS  |Id  |Gender|Name    |Surname |Bio      |in_HasPro|Email         |out_HasFriend                     |in_HasFriend                           |\n",
      "+----+-----+--------+----+------+--------+--------+---------+---------+--------------+----------------------------------+---------------------------------------+\n",
      "|0   |#17:1|Profiles|3   |Male  |Santo   |OrientDB|Orient...|[#54:2]  |santo@examp...|[#62:9,#61:10,#62:10,#61:11,#62...|[#62:0,#61:5]                          |\n",
      "|1   |#18:1|Profiles|4   |Male  |Enrico  |OrientDB|Orient...|         |enrico@exam...|[#62:13,#61:14,#62:14,#61:15,#6...|[#61:1,#62:5,#62:9]                    |\n",
      "|2   |#17:1|Profiles|3   |Male  |Santo   |OrientDB|Orient...|[#54:2]  |santo@examp...|[#62:9,#61:10,#62:10,#61:11,#62...|[#62:0,#61:5]                          |\n",
      "|3   |#17:2|Profiles|5   |Male  |Frank   |OrientDB|Orient...|[#54:0]  |frank@examp...|[#61:17,#62:17,#61:18,#62:18,#6...|[#62:1,#61:6,#61:10,#62:13,#61:17]     |\n",
      "|4   |#17:1|Profiles|3   |Male  |Santo   |OrientDB|Orient...|[#54:2]  |santo@examp...|[#62:9,#61:10,#62:10,#61:11,#62...|[#62:0,#61:5]                          |\n",
      "|5   |#18:2|Profiles|6   |Male  |Gabriele|OrientDB|Orient...|         |gabriele@ex...|[#61:20,#62:20,#61:21,#62:21,#6...|[#61:2,#62:6,#62:10,#61:14]            |\n",
      "|6   |#17:1|Profiles|3   |Male  |Santo   |OrientDB|Orient...|[#54:2]  |santo@examp...|[#62:9,#61:10,#62:10,#61:11,#62...|[#62:0,#61:5]                          |\n",
      "|7   |#17:3|Profiles|7   |Male  |Emanuele|OrientDB|Orient...|         |emanuele@ex...|[#62:22,#61:23,#62:23,#61:24]     |[#62:2,#61:7,#61:11,#62:14,#62:17,#6...|\n",
      "|8   |#17:1|Profiles|3   |Male  |Santo   |OrientDB|Orient...|[#54:2]  |santo@examp...|[#62:9,#61:10,#62:10,#61:11,#62...|[#62:0,#61:5]                          |\n",
      "|9   |#18:3|Profiles|8   |Male  |Paolo   |OrientDB|Orient...|         |paolo@examp...|[#62:24,#61:25,#62:25]            |[#61:3,#62:7,#62:11,#61:15,#61:18,#6...|\n",
      "|10  |#17:1|Profiles|3   |Male  |Santo   |OrientDB|Orient...|[#54:2]  |santo@examp...|[#62:9,#61:10,#62:10,#61:11,#62...|[#62:0,#61:5]                          |\n",
      "|11  |#17:4|Profiles|9   |Male  |Colin   |OrientDB|Orient...|[#53:0]  |colin@examp...|[#61:26,#62:26]                   |[#62:3,#61:8,#61:12,#62:15,#62:18,#6...|\n",
      "|12  |#17:1|Profiles|3   |Male  |Santo   |OrientDB|Orient...|[#54:2]  |santo@examp...|[#62:9,#61:10,#62:10,#61:11,#62...|[#62:0,#61:5]                          |\n",
      "|13  |#18:4|Profiles|10  |Male  |Andrey  |OrientDB|Orient...|[#53:2]  |andrey@exam...|[#61:27]                          |[#61:4,#62:8,#62:12,#61:16,#61:19,#6...|\n",
      "|14  |#17:1|Profiles|3   |Male  |Santo   |OrientDB|Orient...|[#54:2]  |santo@examp...|[#62:9,#61:10,#62:10,#61:11,#62...|[#62:0,#61:5]                          |\n",
      "|15  |#17:5|Profiles|11  |Male  |Sergey  |OrientDB|Orient...|         |sergey@exam...|                                  |[#62:4,#61:9,#61:13,#62:16,#62:19,#6...|\n",
      "|16  |#17:1|Profiles|3   |Male  |Santo   |OrientDB|Orient...|[#54:2]  |santo@examp...|[#62:9,#61:10,#62:10,#61:11,#62...|[#62:0,#61:5]                          |\n",
      "|17  |#17:0|Profiles|1   |Male  |Luca    |OrientDB|Orient...|[#53:1]  |luca@exampl...|[#61:0,#62:0,#61:1,#62:1,#61:2,...|                                       |\n",
      "|18  |#17:1|Profiles|3   |Male  |Santo   |OrientDB|Orient...|[#54:2]  |santo@examp...|[#62:9,#61:10,#62:10,#61:11,#62...|[#62:0,#61:5]                          |\n",
      "|19  |#18:0|Profiles|2   |Male  |Luigi   |OrientDB|Orient...|[#54:1]  |luigi@examp...|[#61:5,#62:5,#61:6,#62:6,#61:7,...|[#61:0]                                |\n",
      "+----+-----+--------+----+------+--------+--------+---------+---------+--------------+----------------------------------+---------------------------------------+\n",
      "LIMIT EXCEEDED: resultset contains more items not displayed (limit=20)\n",
      "\n",
      "20 item(s) found. Query executed in 0.071 sec(s).\n"
     ]
    }
   ],
   "source": [
    "# Find Santo's Friends:\n",
    "\n",
    "/oc \"\\\n",
    "MATCH {Class: Profiles, as: profile, where: (Name='Santo' AND Surname='OrientDB')}-HasFriend-{Class: Profiles, as: friend} \\\n",
    "RETURN \\$pathelements \\\n",
    "\""
   ]
  },
  {
   "cell_type": "markdown",
   "metadata": {},
   "source": [
    "### &nbsp;&nbsp;&nbsp;  Example 2\n",
    "\n",
    "https://orientdb.com/docs/3.0.x/gettingstarted/demodb/queries/DemoDB-Queries-Friendship.html#example-2"
   ]
  },
  {
   "cell_type": "code",
   "execution_count": 26,
   "metadata": {},
   "outputs": [
    {
     "name": "stdout",
     "output_type": "stream",
     "text": [
      "\n",
      "OrientDB console v.3.1.0-SNAPSHOT - Veloce (build f02ad980bcf5db727497e5877fc12898d8a5f31e, branch develop) https://www.orientdb.com\n",
      "Type 'help' to display all the supported commands.\n",
      "Connecting to database [remote:orientdb/demodb] with user 'admin'...OK\n",
      "+----+-----+---------+----+------+------+--------+---------+---------+---------+---------+---------+---------+---------+---------+---------+---------+---------+---------+---------+---------+\n",
      "|#   |@RID |@CLASS   |Id  |Name  |Gender|Surname |OrderedId|Phone    |Bio      |in_HasPro|out_HasPr|out_IsFro|Email    |in_HasCus|out_HasSt|out_MadeR|out_HasFr|in_HasFri|out_HasEa|out_HasVi|\n",
      "+----+-----+---------+----+------+------+--------+---------+---------+---------+---------+---------+---------+---------+---------+---------+---------+---------+---------+---------+---------+\n",
      "|0   |#37:0|Customers|    |      |      |        |1        |+14008...|         |         |[#53:0]  |[#43:0]  |         |[#55:0]  |[#47:0]  |         |         |         |[#49:0...|[#51:0...|\n",
      "|1   |#17:4|Profiles |9   |Colin |Male  |OrientDB|         |         |Orient...|[#53:0]  |         |         |colin@...|         |         |         |[#61:2...|[#62:3...|         |         |\n",
      "|2   |#17:1|Profiles |3   |Santo |Male  |OrientDB|         |         |Orient...|[#54:2]  |         |         |santo@...|         |         |         |[#62:9...|[#62:0...|         |         |\n",
      "|3   |#37:1|Customers|    |      |      |        |3        |+15442...|         |         |[#53:1]  |[#43:1]  |         |[#55:204]|[#48:3]  |[#59:1...|         |         |[#50:7...|[#52:1...|\n",
      "|4   |#17:0|Profiles |1   |Luca  |Male  |OrientDB|         |         |Orient...|[#53:1]  |         |         |luca@e...|         |         |         |[#61:0...|         |         |         |\n",
      "|5   |#17:1|Profiles |3   |Santo |Male  |OrientDB|         |         |Orient...|[#54:2]  |         |         |santo@...|         |         |         |[#62:9...|[#62:0...|         |         |\n",
      "|6   |#37:2|Customers|    |      |      |        |5        |+16946...|         |         |[#53:2]  |[#43:2]  |         |[#56:51] |[#47:6...|[#59:2...|         |         |[#49:1...|[#52:2...|\n",
      "|7   |#18:4|Profiles |10  |Andrey|Male  |OrientDB|         |         |Orient...|[#53:2]  |         |         |andrey...|         |         |         |[#61:27] |[#61:4...|         |         |\n",
      "|8   |#17:1|Profiles |3   |Santo |Male  |OrientDB|         |         |Orient...|[#54:2]  |         |         |santo@...|         |         |         |[#62:9...|[#62:0...|         |         |\n",
      "|9   |#38:0|Customers|    |      |      |        |2        |+15896...|         |         |[#54:0]  |[#44:0]  |         |[#55:5...|[#48:0...|[#59:0...|         |         |[#50:1...|[#51:2...|\n",
      "|10  |#17:2|Profiles |5   |Frank |Male  |OrientDB|         |         |Orient...|[#54:0]  |         |         |frank@...|         |         |         |[#61:1...|[#62:1...|         |         |\n",
      "|11  |#17:1|Profiles |3   |Santo |Male  |OrientDB|         |         |Orient...|[#54:2]  |         |         |santo@...|         |         |         |[#62:9...|[#62:0...|         |         |\n",
      "|12  |#38:1|Customers|    |      |      |        |4        |+13198...|         |         |[#54:1]  |[#44:1]  |         |[#56:0...|[#47:4...|         |         |         |[#49:9...|[#52:1...|\n",
      "|13  |#18:0|Profiles |2   |Luigi |Male  |OrientDB|         |         |Orient...|[#54:1]  |         |         |luigi@...|         |         |         |[#61:5...|[#61:0]  |         |         |\n",
      "|14  |#17:1|Profiles |3   |Santo |Male  |OrientDB|         |         |Orient...|[#54:2]  |         |         |santo@...|         |         |         |[#62:9...|[#62:0...|         |         |\n",
      "+----+-----+---------+----+------+------+--------+---------+---------+---------+---------+---------+---------+---------+---------+---------+---------+---------+---------+---------+---------+\n",
      "\n",
      "15 item(s) found. Query executed in 0.222 sec(s).\n"
     ]
    }
   ],
   "source": [
    "# Find Santo's Friends who are also Customers:\n",
    "\n",
    "/oc \"\\\n",
    "MATCH {Class: Profiles, as: profile, where: (Name='Santo' AND Surname='OrientDB')}-HasFriend-{Class: Profiles, as: friend}<-HasProfile-{class: Customers, as: customer} \\\n",
    "RETURN \\$pathelements \\\n",
    "\""
   ]
  },
  {
   "cell_type": "markdown",
   "metadata": {},
   "source": [
    "### &nbsp;&nbsp;&nbsp;  Example 3\n",
    "\n",
    "https://orientdb.com/docs/3.0.x/gettingstarted/demodb/queries/DemoDB-Queries-Friendship.html#example-3"
   ]
  },
  {
   "cell_type": "code",
   "execution_count": 27,
   "metadata": {},
   "outputs": [
    {
     "name": "stdout",
     "output_type": "stream",
     "text": [
      "\n",
      "OrientDB console v.3.1.0-SNAPSHOT - Veloce (build f02ad980bcf5db727497e5877fc12898d8a5f31e, branch develop) https://www.orientdb.com\n",
      "Type 'help' to display all the supported commands.\n",
      "Connecting to database [remote:orientdb/demodb] with user 'admin'...OK\n",
      "+----+-------+---------+----+----+------+--------+---------+---------+---------+---------+---------+---------+---------+---------+---------+---------+---------+---------+---------+---------+---------+---------+\n",
      "|#   |@RID   |@CLASS   |Id  |Code|Gender|Surname |OrderedId|Phone    |Name     |Bio      |in_HasPro|out_HasPr|out_IsFro|Email    |in_IsFrom|in_HasCus|out_HasSt|out_MadeR|out_HasFr|in_HasFri|out_HasEa|out_HasVi|\n",
      "+----+-------+---------+----+----+------+--------+---------+---------+---------+---------+---------+---------+---------+---------+---------+---------+---------+---------+---------+---------+---------+---------+\n",
      "|0   |#15:116|Countries|233 |US  |      |        |         |         |United...|         |         |         |         |         |[#43:0]  |         |         |         |         |         |         |         |\n",
      "|1   |#37:0  |Customers|    |    |      |        |1        |+14008...|         |         |         |[#53:0]  |[#43:0]  |         |         |[#55:0]  |[#47:0]  |         |         |         |[#49:0...|[#51:0...|\n",
      "|2   |#17:4  |Profiles |9   |    |Male  |OrientDB|         |         |Colin    |Orient...|[#53:0]  |         |         |colin@...|         |         |         |         |[#61:2...|[#62:3...|         |         |\n",
      "|3   |#17:1  |Profiles |3   |    |Male  |OrientDB|         |         |Santo    |Orient...|[#54:2]  |         |         |santo@...|         |         |         |         |[#62:9...|[#62:0...|         |         |\n",
      "|4   |#16:54 |Countries|110 |IT  |      |        |         |         |Italy    |         |         |         |         |         |[#44:0...|         |         |         |         |         |         |         |\n",
      "|5   |#38:0  |Customers|    |    |      |        |2        |+15896...|         |         |         |[#54:0]  |[#44:0]  |         |         |[#55:5...|[#48:0...|[#59:0...|         |         |[#50:1...|[#51:2...|\n",
      "|6   |#17:2  |Profiles |5   |    |Male  |OrientDB|         |         |Frank    |Orient...|[#54:0]  |         |         |frank@...|         |         |         |         |[#61:1...|[#62:1...|         |         |\n",
      "|7   |#17:1  |Profiles |3   |    |Male  |OrientDB|         |         |Santo    |Orient...|[#54:2]  |         |         |santo@...|         |         |         |         |[#62:9...|[#62:0...|         |         |\n",
      "|8   |#16:54 |Countries|110 |IT  |      |        |         |         |Italy    |         |         |         |         |         |[#44:0...|         |         |         |         |         |         |         |\n",
      "|9   |#37:1  |Customers|    |    |      |        |3        |+15442...|         |         |         |[#53:1]  |[#43:1]  |         |         |[#55:204]|[#48:3]  |[#59:1...|         |         |[#50:7...|[#52:1...|\n",
      "|10  |#17:0  |Profiles |1   |    |Male  |OrientDB|         |         |Luca     |Orient...|[#53:1]  |         |         |luca@e...|         |         |         |         |[#61:0...|         |         |         |\n",
      "|11  |#17:1  |Profiles |3   |    |Male  |OrientDB|         |         |Santo    |Orient...|[#54:2]  |         |         |santo@...|         |         |         |         |[#62:9...|[#62:0...|         |         |\n",
      "|12  |#16:54 |Countries|110 |IT  |      |        |         |         |Italy    |         |         |         |         |         |[#44:0...|         |         |         |         |         |         |         |\n",
      "|13  |#38:1  |Customers|    |    |      |        |4        |+13198...|         |         |         |[#54:1]  |[#44:1]  |         |         |[#56:0...|[#47:4...|         |         |         |[#49:9...|[#52:1...|\n",
      "|14  |#18:0  |Profiles |2   |    |Male  |OrientDB|         |         |Luigi    |Orient...|[#54:1]  |         |         |luigi@...|         |         |         |         |[#61:5...|[#61:0]  |         |         |\n",
      "|15  |#17:1  |Profiles |3   |    |Male  |OrientDB|         |         |Santo    |Orient...|[#54:2]  |         |         |santo@...|         |         |         |         |[#62:9...|[#62:0...|         |         |\n",
      "|16  |#16:114|Countries|230 |UA  |      |        |         |         |Ukraine  |         |         |         |         |         |[#43:2...|         |         |         |         |         |         |         |\n",
      "|17  |#37:2  |Customers|    |    |      |        |5        |+16946...|         |         |         |[#53:2]  |[#43:2]  |         |         |[#56:51] |[#47:6...|[#59:2...|         |         |[#49:1...|[#52:2...|\n",
      "|18  |#18:4  |Profiles |10  |    |Male  |OrientDB|         |         |Andrey   |Orient...|[#53:2]  |         |         |andrey...|         |         |         |         |[#61:27] |[#61:4...|         |         |\n",
      "|19  |#17:1  |Profiles |3   |    |Male  |OrientDB|         |         |Santo    |Orient...|[#54:2]  |         |         |santo@...|         |         |         |         |[#62:9...|[#62:0...|         |         |\n",
      "+----+-------+---------+----+----+------+--------+---------+---------+---------+---------+---------+---------+---------+---------+---------+---------+---------+---------+---------+---------+---------+---------+\n",
      "LIMIT EXCEEDED: resultset contains more items not displayed (limit=20)\n",
      "\n",
      "20 item(s) found. Query executed in 0.302 sec(s).\n"
     ]
    }
   ],
   "source": [
    "# Find Santo's Friends who are also Customers, and the Countries they are from:\n",
    "\n",
    "/oc \"\\\n",
    "MATCH {Class: Profiles, as: profile, where: (Name='Santo' AND Surname='OrientDB')}-HasFriend-{Class: Profiles, as: friend}<-HasProfile-{class: Customers, as: customer}-IsFromCountry->{Class: Countries, as: country} \\\n",
    "RETURN \\$pathelements \\\n",
    "\""
   ]
  },
  {
   "cell_type": "markdown",
   "metadata": {},
   "source": [
    "### &nbsp;&nbsp;&nbsp;  Example 4\n",
    "\n",
    "https://orientdb.com/docs/3.0.x/gettingstarted/demodb/queries/DemoDB-Queries-Friendship.html#example-4"
   ]
  },
  {
   "cell_type": "code",
   "execution_count": 31,
   "metadata": {},
   "outputs": [
    {
     "name": "stdout",
     "output_type": "stream",
     "text": [
      "\n",
      "OrientDB console v.3.1.0-SNAPSHOT - Veloce (build f02ad980bcf5db727497e5877fc12898d8a5f31e, branch develop) https://www.orientdb.com\n",
      "Type 'help' to display all the supported commands.\n",
      "Connecting to database [remote:orientdb/demodb] with user 'admin'...OK\n",
      "+----+-------+---------+----+------+------+------+--------+---------+---------+---------+---------+---------+---------+---------+---------+---------+---------+---------+---------+---------+---------+---------+---------+\n",
      "|#   |@RID   |@CLASS   |Id  |Amount|Name  |Gender|Surname |OrderedId|Phone    |Bio      |in_HasPro|out_HasPr|out_HasCu|out_IsFro|Email    |OrderDate|in_HasCus|out_HasSt|out_MadeR|out_HasFr|in_HasFri|out_HasEa|out_HasVi|\n",
      "+----+-------+---------+----+------+------+------+--------+---------+---------+---------+---------+---------+---------+---------+---------+---------+---------+---------+---------+---------+---------+---------+---------+\n",
      "|0   |#37:0  |Customers|    |      |      |      |        |1        |+14008...|         |         |[#53:0]  |         |[#43:0]  |         |         |[#55:0]  |[#47:0]  |         |         |         |[#49:0...|[#51:0...|\n",
      "|1   |#41:0  |Orders   |1   |536   |      |      |        |         |         |         |         |         |[#55:0]  |         |         |2013-0...|         |         |         |         |         |         |         |\n",
      "|2   |#17:4  |Profiles |9   |      |Colin |Male  |OrientDB|         |         |Orient...|[#53:0]  |         |         |         |colin@...|         |         |         |         |[#61:2...|[#62:3...|         |         |\n",
      "|3   |#17:1  |Profiles |3   |      |Santo |Male  |OrientDB|         |         |Orient...|[#54:2]  |         |         |         |santo@...|         |         |         |         |[#62:9...|[#62:0...|         |         |\n",
      "|4   |#37:1  |Customers|    |      |      |      |        |3        |+15442...|         |         |[#53:1]  |         |[#43:1]  |         |         |[#55:204]|[#48:3]  |[#59:1...|         |         |[#50:7...|[#52:1...|\n",
      "|5   |#41:204|Orders   |409 |243   |      |      |        |         |         |         |         |         |[#55:204]|         |         |2012-1...|         |         |         |         |         |         |         |\n",
      "|6   |#17:0  |Profiles |1   |      |Luca  |Male  |OrientDB|         |         |Orient...|[#53:1]  |         |         |         |luca@e...|         |         |         |         |[#61:0...|         |         |         |\n",
      "|7   |#17:1  |Profiles |3   |      |Santo |Male  |OrientDB|         |         |Orient...|[#54:2]  |         |         |         |santo@...|         |         |         |         |[#62:9...|[#62:0...|         |         |\n",
      "|8   |#37:2  |Customers|    |      |      |      |        |5        |+16946...|         |         |[#53:2]  |         |[#43:2]  |         |         |[#56:51] |[#47:6...|[#59:2...|         |         |[#49:1...|[#52:2...|\n",
      "|9   |#42:51 |Orders   |104 |851   |      |      |        |         |         |         |         |         |[#56:51] |         |         |2011-0...|         |         |         |         |         |         |         |\n",
      "|10  |#18:4  |Profiles |10  |      |Andrey|Male  |OrientDB|         |         |Orient...|[#53:2]  |         |         |         |andrey...|         |         |         |         |[#61:27] |[#61:4...|         |         |\n",
      "|11  |#17:1  |Profiles |3   |      |Santo |Male  |OrientDB|         |         |Orient...|[#54:2]  |         |         |         |santo@...|         |         |         |         |[#62:9...|[#62:0...|         |         |\n",
      "|12  |#38:0  |Customers|    |      |      |      |        |2        |+15896...|         |         |[#54:0]  |         |[#44:0]  |         |         |[#55:5...|[#48:0...|[#59:0...|         |         |[#50:1...|[#51:2...|\n",
      "|13  |#41:51 |Orders   |103 |588   |      |      |        |         |         |         |         |         |[#55:51] |         |         |2011-1...|         |         |         |         |         |         |         |\n",
      "|14  |#17:2  |Profiles |5   |      |Frank |Male  |OrientDB|         |         |Orient...|[#54:0]  |         |         |         |frank@...|         |         |         |         |[#61:1...|[#62:1...|         |         |\n",
      "|15  |#17:1  |Profiles |3   |      |Santo |Male  |OrientDB|         |         |Orient...|[#54:2]  |         |         |         |santo@...|         |         |         |         |[#62:9...|[#62:0...|         |         |\n",
      "|16  |#38:0  |Customers|    |      |      |      |        |2        |+15896...|         |         |[#54:0]  |         |[#44:0]  |         |         |[#55:5...|[#48:0...|[#59:0...|         |         |[#50:1...|[#51:2...|\n",
      "|17  |#41:102|Orders   |205 |207   |      |      |        |         |         |         |         |         |[#55:102]|         |         |2010-0...|         |         |         |         |         |         |         |\n",
      "|18  |#17:2  |Profiles |5   |      |Frank |Male  |OrientDB|         |         |Orient...|[#54:0]  |         |         |         |frank@...|         |         |         |         |[#61:1...|[#62:1...|         |         |\n",
      "|19  |#17:1  |Profiles |3   |      |Santo |Male  |OrientDB|         |         |Orient...|[#54:2]  |         |         |         |santo@...|         |         |         |         |[#62:9...|[#62:0...|         |         |\n",
      "+----+-------+---------+----+------+------+------+--------+---------+---------+---------+---------+---------+---------+---------+---------+---------+---------+---------+---------+---------+---------+---------+---------+\n",
      "LIMIT EXCEEDED: resultset contains more items not displayed (limit=20)\n",
      "\n",
      "20 item(s) found. Query executed in 0.446 sec(s).\n"
     ]
    }
   ],
   "source": [
    "# Find Santo's Friends who are also Customers, and the Orders they have placed:\n",
    "\n",
    "/oc \"\\\n",
    "MATCH {Class: Profiles, as: profile, where: (Name='Santo' AND Surname='OrientDB')}-HasFriend-{Class: Profiles, as: friend}<-HasProfile-{class: Customers, as: customer}<-HasCustomer-{Class: Orders, as: order} \\\n",
    "RETURN \\$pathelements \\\n",
    "\""
   ]
  },
  {
   "cell_type": "markdown",
   "metadata": {},
   "source": [
    "### &nbsp;&nbsp;&nbsp;  Example 5\n",
    "\n",
    "https://orientdb.com/docs/3.0.x/gettingstarted/demodb/queries/DemoDB-Queries-Friendship.html#example-5"
   ]
  },
  {
   "cell_type": "code",
   "execution_count": 32,
   "metadata": {},
   "outputs": [
    {
     "name": "stdout",
     "output_type": "stream",
     "text": [
      "\n",
      "OrientDB console v.3.1.0-SNAPSHOT - Veloce (build f02ad980bcf5db727497e5877fc12898d8a5f31e, branch develop) https://www.orientdb.com\n",
      "Type 'help' to display all the supported commands.\n",
      "Connecting to database [remote:orientdb/demodb] with user 'admin'...OK\n",
      "+----+------------------+--------------+-----------+--------------+\n",
      "|#   |Customer_OrderedId|NumberOfOrders|Friend_Name|Friend_Surname|\n",
      "+----+------------------+--------------+-----------+--------------+\n",
      "|0   |4                 |4             |[Luigi]    |[OrientDB]    |\n",
      "|1   |2                 |3             |[Frank]    |[OrientDB]    |\n",
      "|2   |1                 |1             |[Colin]    |[OrientDB]    |\n",
      "+----+------------------+--------------+-----------+--------------+\n",
      "\n",
      "3 item(s) found. Query executed in 0.137 sec(s).\n"
     ]
    }
   ],
   "source": [
    "# Among Santo's Friends, find the top 3 Customers that placed the highest number of Orders:\n",
    "\n",
    "/oc \"\\\n",
    "SELECT \\\n",
    "  OrderedId as Customer_OrderedId, \\\n",
    "  in('HasCustomer').size() as NumberOfOrders, \\\n",
    "  out('HasProfile').Name as Friend_Name, \\\n",
    "  out('HasProfile').Surname as Friend_Surname \\\n",
    "FROM ( \\\n",
    "  SELECT expand(customer) \\\n",
    "  FROM ( \\\n",
    "    MATCH {Class: Profiles, as: profile, where: (Name='Santo' AND Surname='OrientDB')}-HasFriend-{Class: Profiles, as: friend}<-HasProfile-{class: Customers, as: customer} \\\n",
    "    RETURN customer \\\n",
    "  ) \\\n",
    ") \\\n",
    "ORDER BY NumberOfOrders DESC \\\n",
    "LIMIT 3 \\\n",
    "\""
   ]
  },
  {
   "cell_type": "markdown",
   "metadata": {},
   "source": [
    "### &nbsp;&nbsp;&nbsp;  Example 6\n",
    "\n",
    "https://orientdb.com/docs/3.0.x/gettingstarted/demodb/queries/DemoDB-Queries-Friendship.html#example-6"
   ]
  },
  {
   "cell_type": "code",
   "execution_count": 33,
   "metadata": {},
   "outputs": [
    {
     "name": "stdout",
     "output_type": "stream",
     "text": [
      "\n",
      "OrientDB console v.3.1.0-SNAPSHOT - Veloce (build f02ad980bcf5db727497e5877fc12898d8a5f31e, branch develop) https://www.orientdb.com\n",
      "Type 'help' to display all the supported commands.\n",
      "Connecting to database [remote:orientdb/demodb] with user 'admin'...OK\n",
      "+----+------------------+--------------+-----------+--------------+\n",
      "|#   |Customer_OrderedId|NumberOfVisits|Friend_Name|Friend_Surname|\n",
      "+----+------------------+--------------+-----------+--------------+\n",
      "|0   |2                 |23            |[Frank]    |[OrientDB]    |\n",
      "|1   |4                 |16            |[Luigi]    |[OrientDB]    |\n",
      "|2   |3                 |8             |[Luca]     |[OrientDB]    |\n",
      "+----+------------------+--------------+-----------+--------------+\n",
      "\n",
      "3 item(s) found. Query executed in 0.067 sec(s).\n"
     ]
    }
   ],
   "source": [
    "# Among Santo's Friends, find the top 3 Customers that visited the highest number of Places:\n",
    "\n",
    "/oc \"\\\n",
    "SELECT \\\n",
    "  OrderedId as Customer_OrderedId, \\\n",
    "  out('HasVisited').size() as NumberOfVisits, \\\n",
    "  out('HasProfile').Name as Friend_Name, \\\n",
    "  out('HasProfile').Surname as Friend_Surname \\\n",
    "FROM ( \\\n",
    "  SELECT expand(customer) \\\n",
    "  FROM ( \\\n",
    "    MATCH {Class: Profiles, as: profile, where: (Name='Santo' AND Surname='OrientDB')}-HasFriend-{Class: Profiles, as: friend}<-HasProfile-{class: Customers, as: customer} \\\n",
    "    RETURN customer \\\n",
    "  ) \\\n",
    ") \\\n",
    "ORDER BY NumberOfVisits DESC \\\n",
    "LIMIT 3 \\\n",
    "\""
   ]
  },
  {
   "cell_type": "markdown",
   "metadata": {},
   "source": [
    "### &nbsp;&nbsp;&nbsp;  Example 7\n",
    "\n",
    "https://orientdb.com/docs/3.0.x/gettingstarted/demodb/queries/DemoDB-Queries-Friendship.html#example-7"
   ]
  },
  {
   "cell_type": "code",
   "execution_count": 34,
   "metadata": {},
   "outputs": [
    {
     "name": "stdout",
     "output_type": "stream",
     "text": [
      "\n",
      "OrientDB console v.3.1.0-SNAPSHOT - Veloce (build f02ad980bcf5db727497e5877fc12898d8a5f31e, branch develop) https://www.orientdb.com\n",
      "Type 'help' to display all the supported commands.\n",
      "Connecting to database [remote:orientdb/demodb] with user 'admin'...OK\n",
      "+----+----------+-----------+--------------+\n",
      "|#   |Friend_RID|Friend_Name|Friend_Surname|\n",
      "+----+----------+-----------+--------------+\n",
      "|0   |#17:3     |Emanuele   |OrientDB      |\n",
      "|1   |#18:1     |Enrico     |OrientDB      |\n",
      "|2   |#18:2     |Gabriele   |OrientDB      |\n",
      "|3   |#18:3     |Paolo      |OrientDB      |\n",
      "|4   |#17:5     |Sergey     |OrientDB      |\n",
      "+----+----------+-----------+--------------+\n",
      "\n",
      "5 item(s) found. Query executed in 0.013 sec(s).\n"
     ]
    }
   ],
   "source": [
    "# Find all the Friends of Customer identified with OrderedId 1 that are not Customers (so that a product can be proposed):\n",
    "\n",
    "/oc \"\\\n",
    "SELECT \\\n",
    "  @Rid as Friend_RID, \\\n",
    "  Name as Friend_Name, \\\n",
    "  Surname as Friend_Surname \\\n",
    "FROM ( \\\n",
    "  SELECT expand(customerFriend) \\\n",
    "  FROM ( \\\n",
    "    MATCH {Class:Customers, as: customer, where:(OrderedId=1)}-HasProfile-{Class:Profiles, as: profile}-HasFriend-{Class:Profiles, as: customerFriend} RETURN customerFriend \\\n",
    "  ) \\\n",
    ") \\\n",
    "WHERE in('HasProfile').size()=0 \\\n",
    "ORDER BY Friend_Name ASC \\\n",
    "\""
   ]
  },
  {
   "cell_type": "markdown",
   "metadata": {},
   "source": [
    "## Customers"
   ]
  },
  {
   "cell_type": "markdown",
   "metadata": {},
   "source": [
    "### &nbsp;&nbsp;&nbsp;  Example 1\n",
    "\n",
    "https://orientdb.com/docs/3.0.x/gettingstarted/demodb/queries/DemoDB-Queries-Customers.html#example-1"
   ]
  },
  {
   "cell_type": "code",
   "execution_count": 35,
   "metadata": {},
   "outputs": [
    {
     "name": "stdout",
     "output_type": "stream",
     "text": [
      "\n",
      "OrientDB console v.3.1.0-SNAPSHOT - Veloce (build f02ad980bcf5db727497e5877fc12898d8a5f31e, branch develop) https://www.orientdb.com\n",
      "Type 'help' to display all the supported commands.\n",
      "Connecting to database [remote:orientdb/demodb] with user 'admin'...OK\n",
      "+----+-------+---------+----+----+------+--------+---------+---------+---------+---------+---------+---------+---------+---------+---------+---------+---------+---------+---------+---------+---------+---------+---------+---------+---------+---------+\n",
      "|#   |@RID   |@CLASS   |Id  |Code|Gender|Surname |OrderedId|Phone    |out_HasSt|Bio      |in_HasPro|out_HasPr|in_HasCus|out_HasFr|in_IsFrom|out_IsFro|out_HasRe|Email    |out_HasEa|Type     |in_HasSta|out_HasVi|Name     |in_HasEat|in_HasFri|in_HasVis|\n",
      "+----+-------+---------+----+----+------+--------+---------+---------+---------+---------+---------+---------+---------+---------+---------+---------+---------+---------+---------+---------+---------+---------+---------+---------+---------+---------+\n",
      "|0   |#37:0  |Customers|    |    |      |        |1        |+14008...|[#47:0]  |         |         |[#53:0]  |[#55:0]  |         |         |[#43:0]  |         |         |[#49:0...|         |         |[#51:0...|         |         |         |         |\n",
      "|1   |#31:63 |Castles  |127 |    |      |        |         |         |         |         |         |         |         |         |         |         |         |         |         |castle   |         |         |Ch��te...|         |         |[#51:0...|\n",
      "|2   |#37:0  |Customers|    |    |      |        |1        |+14008...|[#47:0]  |         |         |[#53:0]  |[#55:0]  |         |         |[#43:0]  |         |         |[#49:0...|         |         |[#51:0...|         |         |         |         |\n",
      "|3   |#35:23 |Archae...|47  |    |      |        |         |         |         |         |         |         |         |         |         |         |         |         |         |archae...|         |         |Incisi...|         |         |[#52:0...|\n",
      "|4   |#37:0  |Customers|    |    |      |        |1        |+14008...|[#47:0]  |         |         |[#53:0]  |[#55:0]  |         |         |[#43:0]  |         |         |[#49:0...|         |         |[#51:0...|         |         |         |         |\n",
      "|5   |#30:30 |Monuments|62  |    |      |        |         |         |         |         |         |         |         |         |         |         |         |         |         |monument |         |         |Statua...|         |         |[#51:1...|\n",
      "|6   |#37:0  |Customers|    |    |      |        |1        |+14008...|[#47:0]  |         |         |[#53:0]  |[#55:0]  |         |         |[#43:0]  |         |         |[#49:0...|         |         |[#51:0...|         |         |         |         |\n",
      "|7   |#33:32 |Theatres |65  |    |      |        |         |         |         |         |         |         |         |         |         |         |         |         |         |theatre  |         |         |Teatro...|         |         |[#52:1...|\n",
      "|8   |#37:0  |Customers|    |    |      |        |1        |+14008...|[#47:0]  |         |         |[#53:0]  |[#55:0]  |         |         |[#43:0]  |         |         |[#49:0...|         |         |[#51:0...|         |         |         |         |\n",
      "|9   |#24:364|Hotels   |730 |    |      |        |         |         |         |         |         |         |         |         |         |         |         |         |         |alpine...|[#47:0...|         |Carrel   |         |         |         |\n",
      "|10  |#37:0  |Customers|    |    |      |        |1        |+14008...|[#47:0]  |         |         |[#53:0]  |[#55:0]  |         |         |[#43:0]  |         |         |[#49:0...|         |         |[#51:0...|         |         |         |         |\n",
      "|11  |#26:916|Restau...|1834|    |      |        |         |         |         |         |         |         |         |         |         |         |[#57:2...|         |         |pub      |         |         |Einsie...|[#49:0...|         |         |\n",
      "|12  |#37:0  |Customers|    |    |      |        |1        |+14008...|[#47:0]  |         |         |[#53:0]  |[#55:0]  |         |         |[#43:0]  |         |         |[#49:0...|         |         |[#51:0...|         |         |         |         |\n",
      "|13  |#25:549|Restau...|1099|    |      |        |         |         |         |         |         |         |         |         |         |         |[#58:229]|         |         |restau...|         |         |Baita ...|[#50:0...|         |         |\n",
      "|14  |#37:0  |Customers|    |    |      |        |1        |+14008...|[#47:0]  |         |         |[#53:0]  |[#55:0]  |         |         |[#43:0]  |         |         |[#49:0...|         |         |[#51:0...|         |         |         |         |\n",
      "|15  |#26:868|Restau...|1738|    |      |        |         |         |         |         |         |         |         |         |         |         |         |         |         |restau...|         |         |Locand...|[#49:1]  |         |         |\n",
      "|16  |#37:0  |Customers|    |    |      |        |1        |+14008...|[#47:0]  |         |         |[#53:0]  |[#55:0]  |         |         |[#43:0]  |         |         |[#49:0...|         |         |[#51:0...|         |         |         |         |\n",
      "|17  |#17:4  |Profiles |9   |    |Male  |OrientDB|         |         |         |Orient...|[#53:0]  |         |         |[#61:2...|         |         |         |colin@...|         |         |         |         |Colin    |         |[#62:3...|         |\n",
      "|18  |#37:0  |Customers|    |    |      |        |1        |+14008...|[#47:0]  |         |         |[#53:0]  |[#55:0]  |         |         |[#43:0]  |         |         |[#49:0...|         |         |[#51:0...|         |         |         |         |\n",
      "|19  |#15:116|Countries|233 |US  |      |        |         |         |         |         |         |         |         |         |[#43:0]  |         |         |         |         |         |         |         |United...|         |         |         |\n",
      "+----+-------+---------+----+----+------+--------+---------+---------+---------+---------+---------+---------+---------+---------+---------+---------+---------+---------+---------+---------+---------+---------+---------+---------+---------+---------+\n",
      "LIMIT EXCEEDED: resultset contains more items not displayed (limit=20)\n",
      "\n",
      "20 item(s) found. Query executed in 0.031 sec(s).\n"
     ]
    }
   ],
   "source": [
    "# Find everything that is connected (1st degree) to Customer with OrderedId 1:\n",
    "\n",
    "/oc \"\\\n",
    "MATCH {class: Customers, as: c, where: (OrderedId=1)}--{as: n} \\\n",
    "RETURN \\$pathelements \\\n",
    "\""
   ]
  },
  {
   "cell_type": "markdown",
   "metadata": {},
   "source": [
    "### &nbsp;&nbsp;&nbsp;  Example 2\n",
    "\n",
    "https://orientdb.com/docs/3.0.x/gettingstarted/demodb/queries/DemoDB-Queries-Customers.html#example-2"
   ]
  },
  {
   "cell_type": "code",
   "execution_count": 37,
   "metadata": {},
   "outputs": [
    {
     "name": "stdout",
     "output_type": "stream",
     "text": [
      "\n",
      "OrientDB console v.3.1.0-SNAPSHOT - Veloce (build f02ad980bcf5db727497e5877fc12898d8a5f31e, branch develop) https://www.orientdb.com\n",
      "Type 'help' to display all the supported commands.\n",
      "Connecting to database [remote:orientdb/demodb] with user 'admin'...OK\n",
      "+----+-------+---------+----+---------+---------+---------+---------+---------+---------+---------+---------+---------+---------+---------+---------+---------+---------+\n",
      "|#   |@RID   |@CLASS   |Id  |OrderedId|Phone    |out_HasSt|out_HasPr|in_HasCus|out_IsFro|out_HasRe|out_HasEa|Type     |in_HasSta|out_HasVi|Name     |in_HasEat|in_HasVis|\n",
      "+----+-------+---------+----+---------+---------+---------+---------+---------+---------+---------+---------+---------+---------+---------+---------+---------+---------+\n",
      "|0   |#37:0  |Customers|    |1        |+14008...|[#47:0]  |[#53:0]  |[#55:0]  |[#43:0]  |         |[#49:0...|         |         |[#51:0...|         |         |         |\n",
      "|1   |#31:63 |Castles  |127 |         |         |         |         |         |         |         |         |castle   |         |         |Ch��te...|         |[#51:0...|\n",
      "|2   |#37:0  |Customers|    |1        |+14008...|[#47:0]  |[#53:0]  |[#55:0]  |[#43:0]  |         |[#49:0...|         |         |[#51:0...|         |         |         |\n",
      "|3   |#35:23 |Archae...|47  |         |         |         |         |         |         |         |         |archae...|         |         |Incisi...|         |[#52:0...|\n",
      "|4   |#37:0  |Customers|    |1        |+14008...|[#47:0]  |[#53:0]  |[#55:0]  |[#43:0]  |         |[#49:0...|         |         |[#51:0...|         |         |         |\n",
      "|5   |#30:30 |Monuments|62  |         |         |         |         |         |         |         |         |monument |         |         |Statua...|         |[#51:1...|\n",
      "|6   |#37:0  |Customers|    |1        |+14008...|[#47:0]  |[#53:0]  |[#55:0]  |[#43:0]  |         |[#49:0...|         |         |[#51:0...|         |         |         |\n",
      "|7   |#33:32 |Theatres |65  |         |         |         |         |         |         |         |         |theatre  |         |         |Teatro...|         |[#52:1...|\n",
      "|8   |#37:0  |Customers|    |1        |+14008...|[#47:0]  |[#53:0]  |[#55:0]  |[#43:0]  |         |[#49:0...|         |         |[#51:0...|         |         |         |\n",
      "|9   |#24:364|Hotels   |730 |         |         |         |         |         |         |         |         |alpine...|[#47:0...|         |Carrel   |         |         |\n",
      "|10  |#37:0  |Customers|    |1        |+14008...|[#47:0]  |[#53:0]  |[#55:0]  |[#43:0]  |         |[#49:0...|         |         |[#51:0...|         |         |         |\n",
      "|11  |#26:916|Restau...|1834|         |         |         |         |         |         |[#57:2...|         |pub      |         |         |Einsie...|[#49:0...|         |\n",
      "|12  |#37:0  |Customers|    |1        |+14008...|[#47:0]  |[#53:0]  |[#55:0]  |[#43:0]  |         |[#49:0...|         |         |[#51:0...|         |         |         |\n",
      "|13  |#25:549|Restau...|1099|         |         |         |         |         |         |[#58:229]|         |restau...|         |         |Baita ...|[#50:0...|         |\n",
      "|14  |#37:0  |Customers|    |1        |+14008...|[#47:0]  |[#53:0]  |[#55:0]  |[#43:0]  |         |[#49:0...|         |         |[#51:0...|         |         |         |\n",
      "|15  |#26:868|Restau...|1738|         |         |         |         |         |         |         |         |restau...|         |         |Locand...|[#49:1]  |         |\n",
      "+----+-------+---------+----+---------+---------+---------+---------+---------+---------+---------+---------+---------+---------+---------+---------+---------+---------+\n",
      "\n",
      "16 item(s) found. Query executed in 0.025 sec(s).\n"
     ]
    }
   ],
   "source": [
    "# Find all Locations connected to Customer with OrderedId 1:\n",
    "\n",
    "/oc \"\\\n",
    "MATCH {class: Customers, as: customer, where: (OrderedId=1)}--{Class: Locations} \n",
    "RETURN \\$pathelements \\\n",
    "\""
   ]
  },
  {
   "cell_type": "markdown",
   "metadata": {},
   "source": [
    "### &nbsp;&nbsp;&nbsp;  Example 3\n",
    "\n",
    "https://orientdb.com/docs/3.0.x/gettingstarted/demodb/queries/DemoDB-Queries-Customers.html#example-3"
   ]
  },
  {
   "cell_type": "code",
   "execution_count": 38,
   "metadata": {},
   "outputs": [
    {
     "name": "stdout",
     "output_type": "stream",
     "text": [
      "\n",
      "OrientDB console v.3.1.0-SNAPSHOT - Veloce (build f02ad980bcf5db727497e5877fc12898d8a5f31e, branch develop) https://www.orientdb.com\n",
      "Type 'help' to display all the supported commands.\n",
      "Connecting to database [remote:orientdb/demodb] with user 'admin'...OK\n",
      "+----+-------+---------+----+---------+---------+---------+---------+---------+---------+---------+---------+---------+---------+---------+---------+---------+---------+---------+---------+---------+\n",
      "|#   |@RID   |@CLASS   |Id  |OrderedId|Phone    |in_HasRev|out_HasSt|in_MadeRe|out_HasPr|in_HasCus|out_IsFro|out_HasRe|out_HasEa|Type     |in_HasSta|out_HasVi|Name     |in_HasEat|Text     |in_HasVis|\n",
      "+----+-------+---------+----+---------+---------+---------+---------+---------+---------+---------+---------+---------+---------+---------+---------+---------+---------+---------+---------+---------+\n",
      "|0   |#37:0  |Customers|    |1        |+14008...|         |[#47:0]  |         |[#53:0]  |[#55:0]  |[#43:0]  |         |[#49:0...|         |         |[#51:0...|         |         |         |         |\n",
      "|1   |#31:63 |Castles  |127 |         |         |         |         |         |         |         |         |         |         |castle   |         |         |Ch��te...|         |         |[#51:0...|\n",
      "|2   |#37:0  |Customers|    |1        |+14008...|         |[#47:0]  |         |[#53:0]  |[#55:0]  |[#43:0]  |         |[#49:0...|         |         |[#51:0...|         |         |         |         |\n",
      "|3   |#35:23 |Archae...|47  |         |         |         |         |         |         |         |         |         |         |archae...|         |         |Incisi...|         |         |[#52:0...|\n",
      "|4   |#37:0  |Customers|    |1        |+14008...|         |[#47:0]  |         |[#53:0]  |[#55:0]  |[#43:0]  |         |[#49:0...|         |         |[#51:0...|         |         |         |         |\n",
      "|5   |#30:30 |Monuments|62  |         |         |         |         |         |         |         |         |         |         |monument |         |         |Statua...|         |         |[#51:1...|\n",
      "|6   |#37:0  |Customers|    |1        |+14008...|         |[#47:0]  |         |[#53:0]  |[#55:0]  |[#43:0]  |         |[#49:0...|         |         |[#51:0...|         |         |         |         |\n",
      "|7   |#33:32 |Theatres |65  |         |         |         |         |         |         |         |         |         |         |theatre  |         |         |Teatro...|         |         |[#52:1...|\n",
      "|8   |#37:0  |Customers|    |1        |+14008...|         |[#47:0]  |         |[#53:0]  |[#55:0]  |[#43:0]  |         |[#49:0...|         |         |[#51:0...|         |         |         |         |\n",
      "|9   |#24:364|Hotels   |730 |         |         |         |         |         |         |         |         |         |         |alpine...|[#47:0...|         |Carrel   |         |         |         |\n",
      "|10  |#37:0  |Customers|    |1        |+14008...|         |[#47:0]  |         |[#53:0]  |[#55:0]  |[#43:0]  |         |[#49:0...|         |         |[#51:0...|         |         |         |         |\n",
      "|11  |#26:916|Restau...|1834|         |         |         |         |         |         |         |         |[#57:2...|         |pub      |         |         |Einsie...|[#49:0...|         |         |\n",
      "|12  |#39:218|Reviews  |437 |         |         |[#57:218]|         |[#59:218]|         |         |         |         |         |         |         |         |         |         |This i...|         |\n",
      "|13  |#37:0  |Customers|    |1        |+14008...|         |[#47:0]  |         |[#53:0]  |[#55:0]  |[#43:0]  |         |[#49:0...|         |         |[#51:0...|         |         |         |         |\n",
      "|14  |#26:916|Restau...|1834|         |         |         |         |         |         |         |         |[#57:2...|         |pub      |         |         |Einsie...|[#49:0...|         |         |\n",
      "|15  |#40:602|Reviews  |1206|         |         |[#58:602]|         |[#60:602]|         |         |         |         |         |         |         |         |         |         |This i...|         |\n",
      "|16  |#37:0  |Customers|    |1        |+14008...|         |[#47:0]  |         |[#53:0]  |[#55:0]  |[#43:0]  |         |[#49:0...|         |         |[#51:0...|         |         |         |         |\n",
      "|17  |#25:549|Restau...|1099|         |         |         |         |         |         |         |         |[#58:229]|         |restau...|         |         |Baita ...|[#50:0...|         |         |\n",
      "|18  |#40:229|Reviews  |460 |         |         |[#58:229]|         |[#60:229]|         |         |         |         |         |         |         |         |         |         |This i...|         |\n",
      "|19  |#37:0  |Customers|    |1        |+14008...|         |[#47:0]  |         |[#53:0]  |[#55:0]  |[#43:0]  |         |[#49:0...|         |         |[#51:0...|         |         |         |         |\n",
      "+----+-------+---------+----+---------+---------+---------+---------+---------+---------+---------+---------+---------+---------+---------+---------+---------+---------+---------+---------+---------+\n",
      "LIMIT EXCEEDED: resultset contains more items not displayed (limit=20)\n",
      "\n",
      "20 item(s) found. Query executed in 0.066 sec(s).\n"
     ]
    }
   ],
   "source": [
    "# Find all Locations connected to Customer with OrderedId 1, and their Reviews (if any):\n",
    "\n",
    "/oc \"\\\n",
    "MATCH {class: Customers, as: c, where: (OrderedId=1)}--{class: Locations, as: loc}-HasReview->{class: Reviews, as: r, optional: true} \\\n",
    "RETURN \\$pathelements \\\n",
    "\""
   ]
  },
  {
   "cell_type": "markdown",
   "metadata": {},
   "source": [
    "### &nbsp;&nbsp;&nbsp;  Example 4\n",
    "\n",
    "https://orientdb.com/docs/3.0.x/gettingstarted/demodb/queries/DemoDB-Queries-Customers.html#example-4"
   ]
  },
  {
   "cell_type": "code",
   "execution_count": 39,
   "metadata": {},
   "outputs": [
    {
     "name": "stdout",
     "output_type": "stream",
     "text": [
      "\n",
      "OrientDB console v.3.1.0-SNAPSHOT - Veloce (build f02ad980bcf5db727497e5877fc12898d8a5f31e, branch develop) https://www.orientdb.com\n",
      "Type 'help' to display all the supported commands.\n",
      "Connecting to database [remote:orientdb/demodb] with user 'admin'...OK\n",
      "+----+-------+---------+----+------+---------+---------+---------+---------+---------+---------+-------------+-------------+-------------+--------------+-------------+\n",
      "|#   |@RID   |@CLASS   |Id  |Type  |OrderedId|Phone    |out_HasPr|out_IsFro|Name     |in_HasCus|out_MadeRevie|out_HasStayed|out_HasEaten |in_HasVisited |out_HasVisite|\n",
      "+----+-------+---------+----+------+---------+---------+---------+---------+---------+---------+-------------+-------------+-------------+--------------+-------------+\n",
      "|0   |#37:0  |Customers|    |      |1        |+14008...|[#53:0]  |[#43:0]  |         |[#55:0]  |             |[#47:0]      |[#49:0,#50...|              |[#51:0,#52...|\n",
      "|1   |#31:63 |Castles  |127 |castle|         |         |         |         |Ch��te...|         |             |             |             |[#51:0,#51:...|             |\n",
      "|2   |#38:12 |Customers|    |      |26       |+15991...|[#54:12] |[#44:12] |         |[#55:3]  |[#59:1,#59...|[#48:51]     |[#50:87,#4...|              |[#51:142,#...|\n",
      "|3   |#37:0  |Customers|    |      |1        |+14008...|[#53:0]  |[#43:0]  |         |[#55:0]  |             |[#47:0]      |[#49:0,#50...|              |[#51:0,#52...|\n",
      "|4   |#31:63 |Castles  |127 |castle|         |         |         |         |Ch��te...|         |             |             |             |[#51:0,#51:...|             |\n",
      "|5   |#38:63 |Customers|    |      |128      |+17441...|[#54:63] |[#44:63] |         |[#55:371]|             |[#47:263,#...|[#50:379,#...|              |[#51:817,#...|\n",
      "|6   |#37:0  |Customers|    |      |1        |+14008...|[#53:0]  |[#43:0]  |         |[#55:0]  |             |[#47:0]      |[#49:0,#50...|              |[#51:0,#52...|\n",
      "|7   |#31:63 |Castles  |127 |castle|         |         |         |         |Ch��te...|         |             |             |             |[#51:0,#51:...|             |\n",
      "|8   |#38:71 |Customers|    |      |144      |+19041...|[#54:71] |[#44:71] |         |[#56:322]|             |[#48:293,#...|[#50:419,#...|              |[#51:915,#...|\n",
      "|9   |#37:0  |Customers|    |      |1        |+14008...|[#53:0]  |[#43:0]  |         |[#55:0]  |             |[#47:0]      |[#49:0,#50...|              |[#51:0,#52...|\n",
      "|10  |#31:63 |Castles  |127 |castle|         |         |         |         |Ch��te...|         |             |             |             |[#51:0,#51:...|             |\n",
      "|11  |#38:76 |Customers|    |      |154      |+15904...|[#54:76] |[#44:76] |         |[#55:121]|             |[#47:315]    |[#50:455]    |              |[#51:972,#...|\n",
      "|12  |#37:0  |Customers|    |      |1        |+14008...|[#53:0]  |[#43:0]  |         |[#55:0]  |             |[#47:0]      |[#49:0,#50...|              |[#51:0,#52...|\n",
      "|13  |#31:63 |Castles  |127 |castle|         |         |         |         |Ch��te...|         |             |             |             |[#51:0,#51:...|             |\n",
      "|14  |#38:87 |Customers|    |      |176      |+12704...|[#54:87] |[#44:87] |         |[#56:2...|             |[#48:350,#...|[#50:507,#...|              |[#51:1086,...|\n",
      "|15  |#37:0  |Customers|    |      |1        |+14008...|[#53:0]  |[#43:0]  |         |[#55:0]  |             |[#47:0]      |[#49:0,#50...|              |[#51:0,#52...|\n",
      "|16  |#31:63 |Castles  |127 |castle|         |         |         |         |Ch��te...|         |             |             |             |[#51:0,#51:...|             |\n",
      "|17  |#38:106|Customers|    |      |214      |+17235...|[#54:106]|[#44:106]|         |[#55:2...|[#60:15,#5...|[#47:423,#...|[#49:620,#...|              |[#51:1324,...|\n",
      "|18  |#37:0  |Customers|    |      |1        |+14008...|[#53:0]  |[#43:0]  |         |[#55:0]  |             |[#47:0]      |[#49:0,#50...|              |[#51:0,#52...|\n",
      "|19  |#31:63 |Castles  |127 |castle|         |         |         |         |Ch��te...|         |             |             |             |[#51:0,#51:...|             |\n",
      "+----+-------+---------+----+------+---------+---------+---------+---------+---------+---------+-------------+-------------+-------------+--------------+-------------+\n",
      "LIMIT EXCEEDED: resultset contains more items not displayed (limit=20)\n",
      "\n",
      "20 item(s) found. Query executed in 0.2 sec(s).\n"
     ]
    }
   ],
   "source": [
    "# Find the other Customers that visited the Locations visited by Customer with OrderedId 1:\n",
    "\n",
    "/oc \"\\\n",
    "MATCH {class: Customers, as: customer, where: (OrderedId=1)}--{class: Locations, as: loc}--{class: Customers, as: otherCustomers, where: (OrderedId<>1)} \\\n",
    "RETURN \\$pathelements \\\n",
    "\""
   ]
  },
  {
   "cell_type": "markdown",
   "metadata": {},
   "source": [
    "### &nbsp;&nbsp;&nbsp;  Example 5\n",
    "\n",
    "https://orientdb.com/docs/3.0.x/gettingstarted/demodb/queries/DemoDB-Queries-Customers.html#example-5"
   ]
  },
  {
   "cell_type": "code",
   "execution_count": 40,
   "metadata": {},
   "outputs": [
    {
     "name": "stdout",
     "output_type": "stream",
     "text": [
      "\n",
      "OrientDB console v.3.1.0-SNAPSHOT - Veloce (build f02ad980bcf5db727497e5877fc12898d8a5f31e, branch develop) https://www.orientdb.com\n",
      "Type 'help' to display all the supported commands.\n",
      "Connecting to database [remote:orientdb/demodb] with user 'admin'...OK\n",
      "+----+-------+---------+----+---------+---------+---------+---------+---------+---------+---------+---------+---------+---------+----------+-------------+-------------+\n",
      "|#   |@RID   |@CLASS   |Id  |OrderedId|Type     |Phone    |out_HasPr|out_IsFro|out_HasRe|Name     |in_HasSta|in_HasCus|out_HasSt|out_MadeRe|out_HasEaten |out_HasVisite|\n",
      "+----+-------+---------+----+---------+---------+---------+---------+---------+---------+---------+---------+---------+---------+----------+-------------+-------------+\n",
      "|0   |#38:0  |Customers|    |2        |         |+15896...|[#54:0]  |[#44:0]  |         |         |         |[#55:5...|[#48:0...|[#59:0,...|[#50:1,#49...|[#51:2,#52...|\n",
      "|1   |#24:512|Hotels   |1026|         |hotel    |         |         |         |[#58:243]|Del Golfo|[#48:0...|         |         |          |             |             |\n",
      "|2   |#38:0  |Customers|    |2        |         |+15896...|[#54:0]  |[#44:0]  |         |         |         |[#55:5...|[#48:0...|[#59:0,...|[#50:1,#49...|[#51:2,#52...|\n",
      "|3   |#24:322|Hotels   |646 |         |hostel   |         |         |         |[#57:0...|Rifugi...|[#47:1...|         |         |          |             |             |\n",
      "|4   |#38:0  |Customers|    |2        |         |+15896...|[#54:0]  |[#44:0]  |         |         |         |[#55:5...|[#48:0...|[#59:0,...|[#50:1,#49...|[#51:2,#52...|\n",
      "|5   |#23:303|Hotels   |607 |         |alpine...|         |         |         |[#57:80] |Rifugi...|[#48:1]  |         |         |          |             |             |\n",
      "|6   |#38:0  |Customers|    |2        |         |+15896...|[#54:0]  |[#44:0]  |         |         |         |[#55:5...|[#48:0...|[#59:0,...|[#50:1,#49...|[#51:2,#52...|\n",
      "|7   |#23:179|Hotels   |359 |         |hotel    |         |         |         |[#58:159]|Hof im...|[#47:2...|         |         |          |             |             |\n",
      "|8   |#38:0  |Customers|    |2        |         |+15896...|[#54:0]  |[#44:0]  |         |         |         |[#55:5...|[#48:0...|[#59:0,...|[#50:1,#49...|[#51:2,#52...|\n",
      "|9   |#24:366|Hotels   |734 |         |alpine...|         |         |         |         |Nacamu...|[#48:2...|         |         |          |             |             |\n",
      "|10  |#38:0  |Customers|    |2        |         |+15896...|[#54:0]  |[#44:0]  |         |         |         |[#55:5...|[#48:0...|[#59:0,...|[#50:1,#49...|[#51:2,#52...|\n",
      "|11  |#24:289|Hotels   |580 |         |alpine...|         |         |         |[#58:4...|Malga ...|[#47:3...|         |         |          |             |             |\n",
      "+----+-------+---------+----+---------+---------+---------+---------+---------+---------+---------+---------+---------+---------+----------+-------------+-------------+\n",
      "\n",
      "12 item(s) found. Query executed in 0.018 sec(s).\n"
     ]
    }
   ],
   "source": [
    "# Find all the places where Customer with OrderedId 2 has stayed:\n",
    "\n",
    "/oc \"\\\n",
    "MATCH {as: n}<-HasStayed-{class: Customers, as: c, where: (OrderedId=2)} \\\n",
    "RETURN \\$pathelements \\\n",
    "\""
   ]
  },
  {
   "cell_type": "markdown",
   "metadata": {},
   "source": [
    "### &nbsp;&nbsp;&nbsp;  Example 6\n",
    "\n",
    "https://orientdb.com/docs/3.0.x/gettingstarted/demodb/queries/DemoDB-Queries-Customers.html#example-6"
   ]
  },
  {
   "cell_type": "code",
   "execution_count": 41,
   "metadata": {},
   "outputs": [
    {
     "name": "stdout",
     "output_type": "stream",
     "text": [
      "\n",
      "OrientDB console v.3.1.0-SNAPSHOT - Veloce (build f02ad980bcf5db727497e5877fc12898d8a5f31e, branch develop) https://www.orientdb.com\n",
      "Type 'help' to display all the supported commands.\n",
      "Connecting to database [remote:orientdb/demodb] with user 'admin'...OK\n",
      "+----+-------+---------+----+---------+---------+---------+---------+---------+---------+---------+---------+----------+-------------+--------------+-----------------+\n",
      "|#   |@RID   |@CLASS   |Id  |OrderedId|Type     |Phone    |out_HasSt|out_HasPr|in_HasCus|out_IsFro|out_HasRe|out_HasEat|out_HasVisite|Name          |in_HasEaten      |\n",
      "+----+-------+---------+----+---------+---------+---------+---------+---------+---------+---------+---------+----------+-------------+--------------+-----------------+\n",
      "|0   |#37:0  |Customers|    |1        |         |+14008...|[#47:0]  |[#53:0]  |[#55:0]  |[#43:0]  |         |[#49:0,...|[#51:0,#52...|              |                 |\n",
      "|1   |#26:916|Restau...|1834|         |pub      |         |         |         |         |         |[#57:2...|          |             |Einsiedeln    |[#49:0,#49:396...|\n",
      "|2   |#37:0  |Customers|    |1        |         |+14008...|[#47:0]  |[#53:0]  |[#55:0]  |[#43:0]  |         |[#49:0,...|[#51:0,#52...|              |                 |\n",
      "|3   |#25:549|Restau...|1099|         |restau...|         |         |         |         |         |[#58:229]|          |             |Baita GAM P...|[#50:0,#50:204...|\n",
      "|4   |#37:0  |Customers|    |1        |         |+14008...|[#47:0]  |[#53:0]  |[#55:0]  |[#43:0]  |         |[#49:0,...|[#51:0,#52...|              |                 |\n",
      "|5   |#26:868|Restau...|1738|         |restau...|         |         |         |         |         |         |          |             |Locanda del...|[#49:1]          |\n",
      "+----+-------+---------+----+---------+---------+---------+---------+---------+---------+---------+---------+----------+-------------+--------------+-----------------+\n",
      "\n",
      "6 item(s) found. Query executed in 0.04 sec(s).\n"
     ]
    }
   ],
   "source": [
    "# Find all places where Customer with OrderedId 1 has eaten:\n",
    "\n",
    "/oc \"\\\n",
    "MATCH {as: n}<-HasEaten-{class: Customers, as: c, where: (OrderedId=1)} \\\n",
    "RETURN \\$pathelements \\\n",
    "\""
   ]
  },
  {
   "cell_type": "markdown",
   "metadata": {},
   "source": [
    "### &nbsp;&nbsp;&nbsp;  Example 7\n",
    "\n",
    "https://orientdb.com/docs/3.0.x/gettingstarted/demodb/queries/DemoDB-Queries-Customers.html#example-7"
   ]
  },
  {
   "cell_type": "code",
   "execution_count": 45,
   "metadata": {},
   "outputs": [
    {
     "name": "stdout",
     "output_type": "stream",
     "text": [
      "\n",
      "OrientDB console v.3.1.0-SNAPSHOT - Veloce (build f02ad980bcf5db727497e5877fc12898d8a5f31e, branch develop) https://www.orientdb.com\n",
      "Type 'help' to display all the supported commands.\n",
      "Connecting to database [remote:orientdb/demodb] with user 'admin'...OK\n",
      "+----+----------+-------------+\n",
      "|#   |CustomerId|ReviewNumbers|\n",
      "+----+----------+-------------+\n",
      "|0   |384       |29           |\n",
      "|1   |322       |26           |\n",
      "|2   |332       |23           |\n",
      "+----+----------+-------------+\n",
      "\n",
      "3 item(s) found. Query executed in 0.019 sec(s).\n"
     ]
    }
   ],
   "source": [
    "# Find the 3 Customers who made more reviews:\n",
    "\n",
    "/oc \"\\\n",
    "SELECT \\\n",
    "  OrderedId as CustomerId, \\\n",
    "  out('MadeReview').size() AS ReviewNumbers \\\n",
    "FROM Customers \\\n",
    "ORDER BY ReviewNumbers DESC \\\n",
    "LIMIT 3 \\\n",
    "\""
   ]
  },
  {
   "cell_type": "markdown",
   "metadata": {},
   "source": [
    "### &nbsp;&nbsp;&nbsp;  Example 8\n",
    "\n",
    "https://orientdb.com/docs/3.0.x/gettingstarted/demodb/queries/DemoDB-Queries-Customers.html#example-8"
   ]
  },
  {
   "cell_type": "code",
   "execution_count": 46,
   "metadata": {},
   "outputs": [
    {
     "name": "stdout",
     "output_type": "stream",
     "text": [
      "\n",
      "OrientDB console v.3.1.0-SNAPSHOT - Veloce (build f02ad980bcf5db727497e5877fc12898d8a5f31e, branch develop) https://www.orientdb.com\n",
      "Type 'help' to display all the supported commands.\n",
      "Connecting to database [remote:orientdb/demodb] with user 'admin'...OK\n",
      "+----+-----+---------+----+------+---------+---------+----------+-----------+-----------+-----------+-------------+---------------+---------------+------------------+\n",
      "|#   |@RID |@CLASS   |Id  |Amount|OrderedId|Phone    |out_HasSta|in_HasCusto|out_HasProf|out_HasCust|out_IsFromCou|out_HasEaten   |OrderDate      |out_HasVisited    |\n",
      "+----+-----+---------+----+------+---------+---------+----------+-----------+-----------+-----------+-------------+---------------+---------------+------------------+\n",
      "|0   |#37:0|Customers|    |      |1        |+14008...|[#47:0]   |[#55:0]    |[#53:0]    |           |[#43:0]      |[#49:0,#50:0...|               |[#51:0,#52:0,#5...|\n",
      "|1   |#41:0|Orders   |1   |536   |         |         |          |           |           |[#55:0]    |             |               |2013-05-23 0...|                  |\n",
      "+----+-----+---------+----+------+---------+---------+----------+-----------+-----------+-----------+-------------+---------------+---------------+------------------+\n",
      "\n",
      "2 item(s) found. Query executed in 0.016 sec(s).\n"
     ]
    }
   ],
   "source": [
    "# Find all Orders placed by Customer with Id 2:\n",
    "\n",
    "/oc \"\\\n",
    "MATCH {class: Customers, as: c, where: (OrderedId=1)}<-HasCustomer-{class: Orders, as: o} \\\n",
    "RETURN \\$pathelements \\\n",
    "\""
   ]
  },
  {
   "cell_type": "markdown",
   "metadata": {},
   "source": [
    "### &nbsp;&nbsp;&nbsp;  Example 9\n",
    "\n",
    "https://orientdb.com/docs/3.0.x/gettingstarted/demodb/queries/DemoDB-Queries-Customers.html#example-9"
   ]
  },
  {
   "cell_type": "code",
   "execution_count": 47,
   "metadata": {},
   "outputs": [
    {
     "name": "stdout",
     "output_type": "stream",
     "text": [
      "\n",
      "OrientDB console v.3.1.0-SNAPSHOT - Veloce (build f02ad980bcf5db727497e5877fc12898d8a5f31e, branch develop) https://www.orientdb.com\n",
      "Type 'help' to display all the supported commands.\n",
      "Connecting to database [remote:orientdb/demodb] with user 'admin'...OK\n",
      "+----+-----------+\n",
      "|#   |TotalAmount|\n",
      "+----+-----------+\n",
      "|0   |1750       |\n",
      "+----+-----------+\n",
      "\n",
      "1 item(s) found. Query executed in 0.013 sec(s).\n"
     ]
    }
   ],
   "source": [
    "# Calculate the total revenues from Orders associated with Customer with Id 2:\n",
    "\n",
    "/oc \"\\\n",
    "SELECT sum(Amount) as TotalAmount \\\n",
    "FROM ( \\\n",
    "  SELECT expand(in('HasCustomer')) \\\n",
    "  FROM Customers \\\n",
    "  WHERE OrderedId=2 \\\n",
    ") \\\n",
    "\""
   ]
  },
  {
   "cell_type": "markdown",
   "metadata": {},
   "source": [
    "### &nbsp;&nbsp;&nbsp;  Example 10\n",
    "\n",
    "https://orientdb.com/docs/3.0.x/gettingstarted/demodb/queries/DemoDB-Queries-Customers.html#example-10"
   ]
  },
  {
   "cell_type": "code",
   "execution_count": 48,
   "metadata": {},
   "outputs": [
    {
     "name": "stdout",
     "output_type": "stream",
     "text": [
      "\n",
      "OrientDB console v.3.1.0-SNAPSHOT - Veloce (build f02ad980bcf5db727497e5877fc12898d8a5f31e, branch develop) https://www.orientdb.com\n",
      "Type 'help' to display all the supported commands.\n",
      "Connecting to database [remote:orientdb/demodb] with user 'admin'...OK\n",
      "+----+----------+--------------+\n",
      "|#   |CustomerId|NumberOfOrders|\n",
      "+----+----------+--------------+\n",
      "|0   |13        |6             |\n",
      "|1   |29        |6             |\n",
      "|2   |39        |6             |\n",
      "+----+----------+--------------+\n",
      "\n",
      "3 item(s) found. Query executed in 0.038 sec(s).\n"
     ]
    }
   ],
   "source": [
    "# Find the 3 Customers who placed most Orders:\n",
    "\n",
    "/oc \"\\\n",
    "SELECT \\\n",
    "  OrderedId as CustomerId, \\\n",
    "  in('HasCustomer').size() AS NumberOfOrders \\\n",
    "FROM Customers \\\n",
    "ORDER BY NumberOfOrders \\\n",
    "DESC LIMIT 3 \\\n",
    "\""
   ]
  },
  {
   "cell_type": "markdown",
   "metadata": {},
   "source": [
    "### &nbsp;&nbsp;&nbsp;  Example 11\n",
    "\n",
    "https://orientdb.com/docs/3.0.x/gettingstarted/demodb/queries/DemoDB-Queries-Customers.html#example-11"
   ]
  },
  {
   "cell_type": "code",
   "execution_count": 49,
   "metadata": {
    "scrolled": true
   },
   "outputs": [
    {
     "name": "stdout",
     "output_type": "stream",
     "text": [
      "\n",
      "OrientDB console v.3.1.0-SNAPSHOT - Veloce (build f02ad980bcf5db727497e5877fc12898d8a5f31e, branch develop) https://www.orientdb.com\n",
      "Type 'help' to display all the supported commands.\n",
      "Connecting to database [remote:orientdb/demodb] with user 'admin'...OK\n",
      "+----+-----------+-----------------+\n",
      "|#   |CountryName|NumberOfCustomers|\n",
      "+----+-----------+-----------------+\n",
      "|0   |Kyrgyzstan |7                |\n",
      "|1   |Burundi    |6                |\n",
      "|2   |Madagascar |6                |\n",
      "+----+-----------+-----------------+\n",
      "\n",
      "3 item(s) found. Query executed in 0.018 sec(s).\n"
     ]
    }
   ],
   "source": [
    "# Find the top 3 Countries from where Customers are from:\n",
    "\n",
    "/oc \"\\\n",
    "SELECT \\\n",
    "  Name as CountryName, \\\n",
    "  in('IsFromCountry').size() as NumberOfCustomers \\\n",
    "FROM Countries \\\n",
    "ORDER BY NumberOfCustomers DESC \\\n",
    "LIMIT 3 \\\n",
    "\""
   ]
  },
  {
   "cell_type": "markdown",
   "metadata": {},
   "source": [
    "## Countries"
   ]
  },
  {
   "cell_type": "markdown",
   "metadata": {},
   "source": [
    "### &nbsp;&nbsp;&nbsp;  Example 1\n",
    "\n",
    "https://orientdb.com/docs/3.0.x/gettingstarted/demodb/queries/DemoDB-Queries-Countries.html#example-1"
   ]
  },
  {
   "cell_type": "code",
   "execution_count": 52,
   "metadata": {},
   "outputs": [
    {
     "name": "stdout",
     "output_type": "stream",
     "text": [
      "\n",
      "OrientDB console v.3.1.0-SNAPSHOT - Veloce (build f02ad980bcf5db727497e5877fc12898d8a5f31e, branch develop) https://www.orientdb.com\n",
      "Type 'help' to display all the supported commands.\n",
      "Connecting to database [remote:orientdb/demodb] with user 'admin'...OK\n",
      "+----+-----------+-----------------+\n",
      "|#   |CountryName|NumberOfCustomers|\n",
      "+----+-----------+-----------------+\n",
      "|0   |Kyrgyzstan |7                |\n",
      "|1   |Burundi    |6                |\n",
      "|2   |Madagascar |6                |\n",
      "+----+-----------+-----------------+\n",
      "\n",
      "3 item(s) found. Query executed in 0.034 sec(s).\n"
     ]
    }
   ],
   "source": [
    "# Find the top 3 Countries from where Customers are from:\n",
    "\n",
    "/oc \"\\\n",
    "SELECT \\\n",
    "  Name as CountryName, \\\n",
    "  in('IsFromCountry').size() as NumberOfCustomers \\\n",
    "FROM Countries \\\n",
    "ORDER BY NumberOfCustomers DESC \\\n",
    "LIMIT 3 \\\n",
    "\""
   ]
  },
  {
   "cell_type": "markdown",
   "metadata": {},
   "source": [
    "### &nbsp;&nbsp;&nbsp;  Example 2\n",
    "\n",
    "https://orientdb.com/docs/3.0.x/gettingstarted/demodb/queries/DemoDB-Queries-Countries.html#example-2"
   ]
  },
  {
   "cell_type": "code",
   "execution_count": 53,
   "metadata": {
    "scrolled": false
   },
   "outputs": [
    {
     "name": "stdout",
     "output_type": "stream",
     "text": [
      "\n",
      "OrientDB console v.3.1.0-SNAPSHOT - Veloce (build f02ad980bcf5db727497e5877fc12898d8a5f31e, branch develop) https://www.orientdb.com\n",
      "Type 'help' to display all the supported commands.\n",
      "Connecting to database [remote:orientdb/demodb] with user 'admin'...OK\n",
      "+----+-------+---------+----+----+------+--------+---------+---------+---------+---------+---------+---------+---------+---------+---------+---------+---------+---------+---------+---------+---------+---------+\n",
      "|#   |@RID   |@CLASS   |Id  |Code|Gender|Surname |OrderedId|Phone    |Name     |Bio      |in_HasPro|out_HasPr|out_IsFro|Email    |in_IsFrom|in_HasCus|out_HasSt|out_MadeR|out_HasFr|in_HasFri|out_HasEa|out_HasVi|\n",
      "+----+-------+---------+----+----+------+--------+---------+---------+---------+---------+---------+---------+---------+---------+---------+---------+---------+---------+---------+---------+---------+---------+\n",
      "|0   |#15:116|Countries|233 |US  |      |        |         |         |United...|         |         |         |         |         |[#43:0]  |         |         |         |         |         |         |         |\n",
      "|1   |#37:0  |Customers|    |    |      |        |1        |+14008...|         |         |         |[#53:0]  |[#43:0]  |         |         |[#55:0]  |[#47:0]  |         |         |         |[#49:0...|[#51:0...|\n",
      "|2   |#17:4  |Profiles |9   |    |Male  |OrientDB|         |         |Colin    |Orient...|[#53:0]  |         |         |colin@...|         |         |         |         |[#61:2...|[#62:3...|         |         |\n",
      "|3   |#17:1  |Profiles |3   |    |Male  |OrientDB|         |         |Santo    |Orient...|[#54:2]  |         |         |santo@...|         |         |         |         |[#62:9...|[#62:0...|         |         |\n",
      "|4   |#16:54 |Countries|110 |IT  |      |        |         |         |Italy    |         |         |         |         |         |[#44:0...|         |         |         |         |         |         |         |\n",
      "|5   |#38:0  |Customers|    |    |      |        |2        |+15896...|         |         |         |[#54:0]  |[#44:0]  |         |         |[#55:5...|[#48:0...|[#59:0...|         |         |[#50:1...|[#51:2...|\n",
      "|6   |#17:2  |Profiles |5   |    |Male  |OrientDB|         |         |Frank    |Orient...|[#54:0]  |         |         |frank@...|         |         |         |         |[#61:1...|[#62:1...|         |         |\n",
      "|7   |#17:1  |Profiles |3   |    |Male  |OrientDB|         |         |Santo    |Orient...|[#54:2]  |         |         |santo@...|         |         |         |         |[#62:9...|[#62:0...|         |         |\n",
      "|8   |#16:54 |Countries|110 |IT  |      |        |         |         |Italy    |         |         |         |         |         |[#44:0...|         |         |         |         |         |         |         |\n",
      "|9   |#37:1  |Customers|    |    |      |        |3        |+15442...|         |         |         |[#53:1]  |[#43:1]  |         |         |[#55:204]|[#48:3]  |[#59:1...|         |         |[#50:7...|[#52:1...|\n",
      "|10  |#17:0  |Profiles |1   |    |Male  |OrientDB|         |         |Luca     |Orient...|[#53:1]  |         |         |luca@e...|         |         |         |         |[#61:0...|         |         |         |\n",
      "|11  |#17:1  |Profiles |3   |    |Male  |OrientDB|         |         |Santo    |Orient...|[#54:2]  |         |         |santo@...|         |         |         |         |[#62:9...|[#62:0...|         |         |\n",
      "|12  |#16:54 |Countries|110 |IT  |      |        |         |         |Italy    |         |         |         |         |         |[#44:0...|         |         |         |         |         |         |         |\n",
      "|13  |#38:1  |Customers|    |    |      |        |4        |+13198...|         |         |         |[#54:1]  |[#44:1]  |         |         |[#56:0...|[#47:4...|         |         |         |[#49:9...|[#52:1...|\n",
      "|14  |#18:0  |Profiles |2   |    |Male  |OrientDB|         |         |Luigi    |Orient...|[#54:1]  |         |         |luigi@...|         |         |         |         |[#61:5...|[#61:0]  |         |         |\n",
      "|15  |#17:1  |Profiles |3   |    |Male  |OrientDB|         |         |Santo    |Orient...|[#54:2]  |         |         |santo@...|         |         |         |         |[#62:9...|[#62:0...|         |         |\n",
      "|16  |#16:114|Countries|230 |UA  |      |        |         |         |Ukraine  |         |         |         |         |         |[#43:2...|         |         |         |         |         |         |         |\n",
      "|17  |#37:2  |Customers|    |    |      |        |5        |+16946...|         |         |         |[#53:2]  |[#43:2]  |         |         |[#56:51] |[#47:6...|[#59:2...|         |         |[#49:1...|[#52:2...|\n",
      "|18  |#18:4  |Profiles |10  |    |Male  |OrientDB|         |         |Andrey   |Orient...|[#53:2]  |         |         |andrey...|         |         |         |         |[#61:27] |[#61:4...|         |         |\n",
      "|19  |#17:1  |Profiles |3   |    |Male  |OrientDB|         |         |Santo    |Orient...|[#54:2]  |         |         |santo@...|         |         |         |         |[#62:9...|[#62:0...|         |         |\n",
      "+----+-------+---------+----+----+------+--------+---------+---------+---------+---------+---------+---------+---------+---------+---------+---------+---------+---------+---------+---------+---------+---------+\n",
      "LIMIT EXCEEDED: resultset contains more items not displayed (limit=20)\n",
      "\n",
      "20 item(s) found. Query executed in 0.196 sec(s).\n"
     ]
    }
   ],
   "source": [
    "# Find Santo's Friends who are also Customers, and the Countries they are from:\n",
    "\n",
    "/oc \"\\\n",
    "MATCH {Class: Profiles, as: profile, where: (Name='Santo' AND Surname='OrientDB')}-HasFriend-{Class: Profiles, as: friend}<-HasProfile-{class: Customers, as: customer}-IsFromCountry->{Class: Countries, as: country} \\\n",
    "RETURN \\$pathelements \\\n",
    "\""
   ]
  },
  {
   "cell_type": "markdown",
   "metadata": {},
   "source": [
    "## Orders\n",
    "\n",
    "### &nbsp;&nbsp;&nbsp;  Example 1\n",
    "\n",
    "https://orientdb.com/docs/3.0.x/gettingstarted/demodb/queries/DemoDB-Queries-Orders.html#example-1"
   ]
  },
  {
   "cell_type": "code",
   "execution_count": 54,
   "metadata": {},
   "outputs": [
    {
     "name": "stdout",
     "output_type": "stream",
     "text": [
      "\n",
      "OrientDB console v.3.1.0-SNAPSHOT - Veloce (build f02ad980bcf5db727497e5877fc12898d8a5f31e, branch develop) https://www.orientdb.com\n",
      "Type 'help' to display all the supported commands.\n",
      "Connecting to database [remote:orientdb/demodb] with user 'admin'...OK\n",
      "+----+------------+-----------------------+---------+-----------------+---------+\n",
      "|#   |OrdersNumber|TotalRevenuesFromOrders|MinAmount|AverageAmount    |MaxAmount|\n",
      "+----+------------+-----------------------+---------+-----------------+---------+\n",
      "|0   |812         |438635                 |100      |540.1908866995074|999      |\n",
      "+----+------------+-----------------------+---------+-----------------+---------+\n",
      "\n",
      "1 item(s) found. Query executed in 0.048 sec(s).\n"
     ]
    }
   ],
   "source": [
    "# Calculate the total revenues from Orders, and the min, max and average Order amount:\n",
    "\n",
    "/oc \"\\\n",
    "SELECT \n",
    "  count(*) as OrdersNumber, \n",
    "  sum(Amount) AS TotalRevenuesFromOrders, \n",
    "  min(Amount) as MinAmount,\n",
    "  (sum(Amount)/count(*)) as AverageAmount,\n",
    "  max(Amount) as MaxAmount\n",
    "FROM Orders\n",
    "\""
   ]
  },
  {
   "cell_type": "markdown",
   "metadata": {},
   "source": [
    "### &nbsp;&nbsp;&nbsp;  Example 2\n",
    "\n",
    "https://orientdb.com/docs/3.0.x/gettingstarted/demodb/queries/DemoDB-Queries-Orders.html#example-2"
   ]
  },
  {
   "cell_type": "code",
   "execution_count": 55,
   "metadata": {},
   "outputs": [
    {
     "name": "stdout",
     "output_type": "stream",
     "text": [
      "\n",
      "OrientDB console v.3.1.0-SNAPSHOT - Veloce (build f02ad980bcf5db727497e5877fc12898d8a5f31e, branch develop) https://www.orientdb.com\n",
      "Type 'help' to display all the supported commands.\n",
      "Connecting to database [remote:orientdb/demodb] with user 'admin'...OK\n",
      "+----+-----------+---------+\n",
      "|#   |OrdersCount|OrderYear|\n",
      "+----+-----------+---------+\n",
      "|0   |135        |2016     |\n",
      "|1   |122        |2012     |\n",
      "|2   |120        |2010     |\n",
      "|3   |114        |2011     |\n",
      "|4   |113        |2014     |\n",
      "|5   |109        |2013     |\n",
      "|6   |99         |2015     |\n",
      "+----+-----------+---------+\n",
      "\n",
      "7 item(s) found. Query executed in 0.053 sec(s).\n"
     ]
    }
   ],
   "source": [
    "# Find the year of the Orders, and how many Orders have been placed in the same year:\n",
    "\n",
    "/oc \"\\\n",
    "SELECT \n",
    "  count(*) as OrdersCount, \n",
    "  OrderDate.format('yyyy') AS OrderYear \n",
    "FROM Orders \n",
    "GROUP BY OrderYear \n",
    "ORDER BY OrdersCount DESC\n",
    "\""
   ]
  },
  {
   "cell_type": "markdown",
   "metadata": {},
   "source": [
    "### &nbsp;&nbsp;&nbsp;  Example 3\n",
    "\n",
    "https://orientdb.com/docs/3.0.x/gettingstarted/demodb/queries/DemoDB-Queries-Orders.html#example-3"
   ]
  },
  {
   "cell_type": "code",
   "execution_count": 56,
   "metadata": {},
   "outputs": [
    {
     "name": "stdout",
     "output_type": "stream",
     "text": [
      "\n",
      "OrientDB console v.3.1.0-SNAPSHOT - Veloce (build f02ad980bcf5db727497e5877fc12898d8a5f31e, branch develop) https://www.orientdb.com\n",
      "Type 'help' to display all the supported commands.\n",
      "Connecting to database [remote:orientdb/demodb] with user 'admin'...OK\n",
      "+----+----------+--------------+\n",
      "|#   |CustomerId|NumberOfOrders|\n",
      "+----+----------+--------------+\n",
      "|0   |13        |6             |\n",
      "|1   |29        |6             |\n",
      "|2   |39        |6             |\n",
      "+----+----------+--------------+\n",
      "\n",
      "3 item(s) found. Query executed in 0.038 sec(s).\n"
     ]
    }
   ],
   "source": [
    "#Find the 3 Customers who placed most Orders:\n",
    "\n",
    "/oc \"\\\n",
    "SELECT \n",
    "  OrderedId as CustomerId,\n",
    "  in(\"HasCustomer\").size() AS NumberOfOrders \n",
    "FROM Customers \n",
    "ORDER BY NumberOfOrders \n",
    "DESC LIMIT 3\n",
    "\""
   ]
  },
  {
   "cell_type": "markdown",
   "metadata": {},
   "source": [
    "### &nbsp;&nbsp;&nbsp;  Example 4\n",
    "\n",
    "https://orientdb.com/docs/3.0.x/gettingstarted/demodb/queries/DemoDB-Queries-Orders.html#example-4"
   ]
  },
  {
   "cell_type": "code",
   "execution_count": 57,
   "metadata": {},
   "outputs": [
    {
     "name": "stdout",
     "output_type": "stream",
     "text": [
      "\n",
      "OrientDB console v.3.1.0-SNAPSHOT - Veloce (build f02ad980bcf5db727497e5877fc12898d8a5f31e, branch develop) https://www.orientdb.com\n",
      "Type 'help' to display all the supported commands.\n",
      "Connecting to database [remote:orientdb/demodb] with user 'admin'...OK\n",
      "+----+-----------------+-----------+\n",
      "|#   |customerOrderedId|totalAmount|\n",
      "+----+-----------------+-----------+\n",
      "|0   |332              |4578       |\n",
      "|1   |322              |4218       |\n",
      "|2   |48               |4166       |\n",
      "+----+-----------------+-----------+\n",
      "\n",
      "3 item(s) found. Query executed in 0.062 sec(s).\n"
     ]
    }
   ],
   "source": [
    "#Find the top 3 Customers in terms of spending:\n",
    "\n",
    "/oc \"\\\n",
    "SELECT \n",
    "  customer.OrderedId as customerOrderedId, \n",
    "  SUM(order.Amount) as totalAmount \n",
    "FROM (\n",
    "  MATCH {Class: Customers, as: customer}<-HasCustomer-{class: Orders, as: order} \n",
    "  RETURN customer, order\n",
    ") \n",
    "GROUP BY customerOrderedId \n",
    "ORDER BY totalAmount DESC \n",
    "LIMIT 3\n",
    "\""
   ]
  },
  {
   "cell_type": "markdown",
   "metadata": {},
   "source": [
    "### &nbsp;&nbsp;&nbsp;  Example 5\n",
    "\n",
    "https://orientdb.com/docs/3.0.x/gettingstarted/demodb/queries/DemoDB-Queries-Orders.html#example-5"
   ]
  },
  {
   "cell_type": "code",
   "execution_count": 59,
   "metadata": {},
   "outputs": [
    {
     "name": "stdout",
     "output_type": "stream",
     "text": [
      "\n",
      "OrientDB console v.3.1.0-SNAPSHOT - Veloce (build f02ad980bcf5db727497e5877fc12898d8a5f31e, branch develop) https://www.orientdb.com\n",
      "Type 'help' to display all the supported commands.\n",
      "Connecting to database [remote:orientdb/demodb] with user 'admin'...OK\n",
      "+----+-----+---------+----+------+---------+---------+----------+-----------+-----------+-----------+-------------+---------------+---------------+------------------+\n",
      "|#   |@RID |@CLASS   |Id  |Amount|OrderedId|Phone    |out_HasSta|in_HasCusto|out_HasProf|out_HasCust|out_IsFromCou|out_HasEaten   |OrderDate      |out_HasVisited    |\n",
      "+----+-----+---------+----+------+---------+---------+----------+-----------+-----------+-----------+-------------+---------------+---------------+------------------+\n",
      "|0   |#37:0|Customers|    |      |1        |+14008...|[#47:0]   |[#55:0]    |[#53:0]    |           |[#43:0]      |[#49:0,#50:0...|               |[#51:0,#52:0,#5...|\n",
      "|1   |#41:0|Orders   |1   |536   |         |         |          |           |           |[#55:0]    |             |               |2013-05-23 0...|                  |\n",
      "+----+-----+---------+----+------+---------+---------+----------+-----------+-----------+-----------+-------------+---------------+---------------+------------------+\n",
      "\n",
      "2 item(s) found. Query executed in 0.02 sec(s).\n"
     ]
    }
   ],
   "source": [
    "# Find all Orders placed by Customer with Id 2:\n",
    "\n",
    "/oc \"\\\n",
    "MATCH {class: Customers, as: c, where: (OrderedId=1)}<-HasCustomer-{class: Orders, as: o} \n",
    "RETURN \\$pathelements\n",
    "\""
   ]
  },
  {
   "cell_type": "markdown",
   "metadata": {},
   "source": [
    "### &nbsp;&nbsp;&nbsp;  Example 6\n",
    "\n",
    "https://orientdb.com/docs/3.0.x/gettingstarted/demodb/queries/DemoDB-Queries-Orders.html#example-6"
   ]
  },
  {
   "cell_type": "code",
   "execution_count": 60,
   "metadata": {},
   "outputs": [
    {
     "name": "stdout",
     "output_type": "stream",
     "text": [
      "\n",
      "OrientDB console v.3.1.0-SNAPSHOT - Veloce (build f02ad980bcf5db727497e5877fc12898d8a5f31e, branch develop) https://www.orientdb.com\n",
      "Type 'help' to display all the supported commands.\n",
      "Connecting to database [remote:orientdb/demodb] with user 'admin'...OK\n",
      "+----+-----------+\n",
      "|#   |TotalAmount|\n",
      "+----+-----------+\n",
      "|0   |1750       |\n",
      "+----+-----------+\n",
      "\n",
      "1 item(s) found. Query executed in 0.018 sec(s).\n"
     ]
    }
   ],
   "source": [
    "# Calculate the total revenues from Orders associated with Customer with Id 2:\n",
    "\n",
    "/oc \"\\\n",
    "SELECT sum(Amount) as TotalAmount \n",
    "FROM (\n",
    "  SELECT expand(in('HasCustomer'))\n",
    "  FROM Customers\n",
    "  WHERE OrderedId=2\n",
    ")\n",
    "\""
   ]
  },
  {
   "cell_type": "markdown",
   "metadata": {},
   "source": [
    "## Attractions\n",
    "\n",
    "### &nbsp;&nbsp;&nbsp;  Example 1\n",
    "\n",
    "https://orientdb.com/docs/3.0.x/gettingstarted/demodb/queries/DemoDB-Queries-Attractions.html#example-1"
   ]
  },
  {
   "cell_type": "code",
   "execution_count": 61,
   "metadata": {},
   "outputs": [
    {
     "name": "stdout",
     "output_type": "stream",
     "text": [
      "\n",
      "OrientDB console v.3.1.0-SNAPSHOT - Veloce (build f02ad980bcf5db727497e5877fc12898d8a5f31e, branch develop) https://www.orientdb.com\n",
      "Type 'help' to display all the supported commands.\n",
      "Connecting to database [remote:orientdb/demodb] with user 'admin'...OK\n",
      "+----+------+---------+----+---------+---------+---------+---------+---------+---------+---------+---------+----------+------------+---------------------------------+\n",
      "|#   |@RID  |@CLASS   |Id  |OrderedId|Phone    |out_HasSt|out_HasPr|in_HasCus|out_IsFro|out_HasEa|Type     |Name      |out_HasVisit|in_HasVisited                    |\n",
      "+----+------+---------+----+---------+---------+---------+---------+---------+---------+---------+---------+----------+------------+---------------------------------+\n",
      "|0   |#37:0 |Customers|    |1        |+14008...|[#47:0]  |[#53:0]  |[#55:0]  |[#43:0]  |[#49:0...|         |          |[#51:0,#5...|                                 |\n",
      "|1   |#31:63|Castles  |127 |         |         |         |         |         |         |         |castle   |Ch��tea...|            |[#51:0,#51:142,#51:819,#51:915...|\n",
      "|2   |#37:0 |Customers|    |1        |+14008...|[#47:0]  |[#53:0]  |[#55:0]  |[#43:0]  |[#49:0...|         |          |[#51:0,#5...|                                 |\n",
      "|3   |#35:23|Archae...|47  |         |         |         |         |         |         |         |archae...|Incisio...|            |[#52:0,#51:38,#52:64,#51:247,#...|\n",
      "|4   |#37:0 |Customers|    |1        |+14008...|[#47:0]  |[#53:0]  |[#55:0]  |[#43:0]  |[#49:0...|         |          |[#51:0,#5...|                                 |\n",
      "|5   |#30:30|Monuments|62  |         |         |         |         |         |         |         |monument |Statua ...|            |[#51:1,#52:600,#52:614,#51:106...|\n",
      "|6   |#37:0 |Customers|    |1        |+14008...|[#47:0]  |[#53:0]  |[#55:0]  |[#43:0]  |[#49:0...|         |          |[#51:0,#5...|                                 |\n",
      "|7   |#33:32|Theatres |65  |         |         |         |         |         |         |         |theatre  |Teatro ...|            |[#52:1,#51:211,#52:323,#51:887...|\n",
      "+----+------+---------+----+---------+---------+---------+---------+---------+---------+---------+---------+----------+------------+---------------------------------+\n",
      "\n",
      "8 item(s) found. Query executed in 0.022 sec(s).\n"
     ]
    }
   ],
   "source": [
    "# Find all Attractions connected with Customer with OrderedId 1:\n",
    "\n",
    "/oc \"\\\n",
    "MATCH {class: Customers, as: customer, where: (OrderedId=1)}--{Class: Attractions, as: attraction}\n",
    "RETURN \\$pathelements\n",
    "\""
   ]
  },
  {
   "cell_type": "markdown",
   "metadata": {},
   "source": [
    "## Services\n"
   ]
  },
  {
   "cell_type": "markdown",
   "metadata": {},
   "source": [
    "### &nbsp;&nbsp;&nbsp;  Example 1\n",
    "\n",
    "https://orientdb.com/docs/3.0.x/gettingstarted/demodb/queries/DemoDB-Queries-Services.html#example-1"
   ]
  },
  {
   "cell_type": "code",
   "execution_count": 64,
   "metadata": {},
   "outputs": [
    {
     "name": "stdout",
     "output_type": "stream",
     "text": [
      "\n",
      "OrientDB console v.3.1.0-SNAPSHOT - Veloce (build f02ad980bcf5db727497e5877fc12898d8a5f31e, branch develop) https://www.orientdb.com\n",
      "Type 'help' to display all the supported commands.\n",
      "Connecting to database [remote:orientdb/demodb] with user 'admin'...OK\n",
      "+----+-------+---------+----+---------+---------+---------+---------+---------+---------+---------+---------+---------+---------+----------+-----------+---------------+\n",
      "|#   |@RID   |@CLASS   |Id  |OrderedId|Type     |Phone    |out_HasSt|out_HasPr|in_HasCus|out_IsFro|out_HasRe|out_HasEa|in_HasSta|out_HasVis|Name       |in_HasEaten    |\n",
      "+----+-------+---------+----+---------+---------+---------+---------+---------+---------+---------+---------+---------+---------+----------+-----------+---------------+\n",
      "|0   |#37:0  |Customers|    |1        |         |+14008...|[#47:0]  |[#53:0]  |[#55:0]  |[#43:0]  |         |[#49:0...|         |[#51:0,...|           |               |\n",
      "|1   |#24:364|Hotels   |730 |         |alpine...|         |         |         |         |         |         |         |[#47:0...|          |Carrel     |               |\n",
      "|2   |#37:0  |Customers|    |1        |         |+14008...|[#47:0]  |[#53:0]  |[#55:0]  |[#43:0]  |         |[#49:0...|         |[#51:0,...|           |               |\n",
      "|3   |#26:916|Restau...|1834|         |pub      |         |         |         |         |         |[#57:2...|         |         |          |Einsiedeln |[#49:0,#49:3...|\n",
      "|4   |#37:0  |Customers|    |1        |         |+14008...|[#47:0]  |[#53:0]  |[#55:0]  |[#43:0]  |         |[#49:0...|         |[#51:0,...|           |               |\n",
      "|5   |#25:549|Restau...|1099|         |restau...|         |         |         |         |         |[#58:229]|         |         |          |Baita GA...|[#50:0,#50:2...|\n",
      "|6   |#37:0  |Customers|    |1        |         |+14008...|[#47:0]  |[#53:0]  |[#55:0]  |[#43:0]  |         |[#49:0...|         |[#51:0,...|           |               |\n",
      "|7   |#26:868|Restau...|1738|         |restau...|         |         |         |         |         |         |         |         |          |Locanda ...|[#49:1]        |\n",
      "+----+-------+---------+----+---------+---------+---------+---------+---------+---------+---------+---------+---------+---------+----------+-----------+---------------+\n",
      "\n",
      "8 item(s) found. Query executed in 0.024 sec(s).\n"
     ]
    }
   ],
   "source": [
    "# Find all Services connected with Customer with OrderedId 1:\n",
    "\n",
    "/oc \"\\\n",
    "MATCH {class: Customers, as: customer, where: (OrderedId=1)}--{Class: Services, as: service}\n",
    "RETURN \\$pathelements\n",
    "\""
   ]
  },
  {
   "cell_type": "markdown",
   "metadata": {},
   "source": [
    "### &nbsp;&nbsp;&nbsp;  Example 2\n",
    "\n",
    "https://orientdb.com/docs/3.0.x/gettingstarted/demodb/queries/DemoDB-Queries-Services.html#example-2"
   ]
  },
  {
   "cell_type": "code",
   "execution_count": 66,
   "metadata": {},
   "outputs": [
    {
     "name": "stdout",
     "output_type": "stream",
     "text": [
      "\n",
      "OrientDB console v.3.1.0-SNAPSHOT - Veloce (build f02ad980bcf5db727497e5877fc12898d8a5f31e, branch develop) https://www.orientdb.com\n",
      "Type 'help' to display all the supported commands.\n",
      "Connecting to database [remote:orientdb/demodb] with user 'admin'...OK\n",
      "+----+---------------------+-----+----------------+\n",
      "|#   |Name                 |Type |NumberOfBookings|\n",
      "+----+---------------------+-----+----------------+\n",
      "|0   |Hotel Cavallino d'Oro|hotel|7               |\n",
      "|1   |Hotel Felicyta       |hotel|7               |\n",
      "|2   |Rifugio Pratorotondo |hotel|6               |\n",
      "+----+---------------------+-----+----------------+\n",
      "\n",
      "3 item(s) found. Query executed in 0.059 sec(s).\n"
     ]
    }
   ],
   "source": [
    "# Find the 3 Hotels that have been booked most times:\n",
    "\n",
    "/oc \"\\\n",
    "SELECT \n",
    "  Name, Type, in('HasStayed').size() AS NumberOfBookings \n",
    "FROM Hotels \n",
    "ORDER BY NumberOfBookings DESC \n",
    "LIMIT 3\n",
    "\""
   ]
  },
  {
   "cell_type": "markdown",
   "metadata": {},
   "source": [
    "### &nbsp;&nbsp;&nbsp;  Example 3\n",
    "\n",
    "https://orientdb.com/docs/3.0.x/gettingstarted/demodb/queries/DemoDB-Queries-Services.html#example-3"
   ]
  },
  {
   "cell_type": "code",
   "execution_count": 67,
   "metadata": {},
   "outputs": [
    {
     "name": "stdout",
     "output_type": "stream",
     "text": [
      "\n",
      "OrientDB console v.3.1.0-SNAPSHOT - Veloce (build f02ad980bcf5db727497e5877fc12898d8a5f31e, branch develop) https://www.orientdb.com\n",
      "Type 'help' to display all the supported commands.\n",
      "Connecting to database [remote:orientdb/demodb] with user 'admin'...OK\n",
      "+----+----------------------+-----------+-------------+\n",
      "|#   |Name                  |Type       |ReviewNumbers|\n",
      "+----+----------------------+-----------+-------------+\n",
      "|0   |Hotel Felicyta        |hotel      |5            |\n",
      "|1   |Rifugio Pian Cavallone|guest_house|3            |\n",
      "|2   |Bellarta              |hotel      |3            |\n",
      "+----+----------------------+-----------+-------------+\n",
      "\n",
      "3 item(s) found. Query executed in 0.042 sec(s).\n"
     ]
    }
   ],
   "source": [
    "# Find the 3 Hotels that have most reviews:\n",
    "\n",
    "/oc \"\\\n",
    "SELECT \n",
    "  Name, Type, out('HasReview').size() AS ReviewNumbers \n",
    "FROM Hotels \n",
    "ORDER BY ReviewNumbers DESC \n",
    "LIMIT 3\n",
    "\""
   ]
  },
  {
   "cell_type": "markdown",
   "metadata": {},
   "source": [
    "### &nbsp;&nbsp;&nbsp;  Example 4\n",
    "\n",
    "https://orientdb.com/docs/3.0.x/gettingstarted/demodb/queries/DemoDB-Queries-Services.html#example-4"
   ]
  },
  {
   "cell_type": "code",
   "execution_count": 69,
   "metadata": {},
   "outputs": [
    {
     "name": "stdout",
     "output_type": "stream",
     "text": [
      "\n",
      "OrientDB console v.3.1.0-SNAPSHOT - Veloce (build f02ad980bcf5db727497e5877fc12898d8a5f31e, branch develop) https://www.orientdb.com\n",
      "Type 'help' to display all the supported commands.\n",
      "Connecting to database [remote:orientdb/demodb] with user 'admin'...OK\n",
      "+----+----------+------------+\n",
      "|#   |Name      |CountryCount|\n",
      "+----+----------+------------+\n",
      "|0   |Croatia   |1           |\n",
      "|1   |Madagascar|1           |\n",
      "|2   |Canada    |1           |\n",
      "+----+----------+------------+\n",
      "\n",
      "3 item(s) found. Query executed in 0.007 sec(s).\n"
     ]
    }
   ],
   "source": [
    "# Find the top 3 nationality of the tourists that have eaten at Restaurant with Id 26:\n",
    "\n",
    "/oc \"\n",
    "SELECT \n",
    "  Name, \n",
    "  count(*) as CountryCount \n",
    "FROM (\n",
    "  SELECT \n",
    "    expand(out('IsFromCountry')) AS countries \n",
    "  FROM (\n",
    "    SELECT \n",
    "      expand(in('HasEaten')) AS customers \n",
    "    FROM Restaurants \n",
    "    WHERE Id='26' \n",
    "    UNWIND customers) \n",
    "  UNWIND countries) \n",
    "GROUP BY Name \n",
    "ORDER BY CountryCount DESC \n",
    "LIMIT 3\n",
    "\""
   ]
  },
  {
   "cell_type": "markdown",
   "metadata": {},
   "source": [
    "## Locations\n"
   ]
  },
  {
   "cell_type": "markdown",
   "metadata": {},
   "source": [
    "### &nbsp;&nbsp;&nbsp;  Example 1\n",
    "\n",
    "https://orientdb.com/docs/3.0.x/gettingstarted/demodb/queries/DemoDB-Queries-Locations.html#example-1"
   ]
  },
  {
   "cell_type": "code",
   "execution_count": 71,
   "metadata": {},
   "outputs": [
    {
     "name": "stdout",
     "output_type": "stream",
     "text": [
      "\n",
      "OrientDB console v.3.1.0-SNAPSHOT - Veloce (build f02ad980bcf5db727497e5877fc12898d8a5f31e, branch develop) https://www.orientdb.com\n",
      "Type 'help' to display all the supported commands.\n",
      "Connecting to database [remote:orientdb/demodb] with user 'admin'...OK\n",
      "+----+------+---------+----+------+--------+---------+---------+---------+---------+---------+---------+---------+---------+---------+---------+---------+---------+---------+---------+---------+---------+\n",
      "|#   |@RID  |@CLASS   |Id  |Gender|Surname |OrderedId|Phone    |out_HasSt|Bio      |in_HasFri|in_HasPro|out_HasPr|in_HasCus|out_IsFro|Email    |Type     |Name     |out_HasVi|out_HasEa|out_HasFr|in_HasVis|\n",
      "+----+------+---------+----+------+--------+---------+---------+---------+---------+---------+---------+---------+---------+---------+---------+---------+---------+---------+---------+---------+---------+\n",
      "|0   |#38:2 |Customers|    |      |        |6        |+11605...|[#48:7]  |         |         |         |[#54:2]  |[#56:102]|[#44:2]  |         |         |         |[#52:2...|[#49:2...|         |         |\n",
      "|1   |#31:55|Castles  |111 |      |        |         |         |         |         |         |         |         |         |         |         |castle   |Fixme    |         |         |         |[#52:2...|\n",
      "|2   |#17:1 |Profiles |3   |Male  |OrientDB|         |         |         |Orient...|[#62:0...|[#54:2]  |         |         |         |santo@...|         |Santo    |         |         |[#62:9...|         |\n",
      "|3   |#38:2 |Customers|    |      |        |6        |+11605...|[#48:7]  |         |         |         |[#54:2]  |[#56:102]|[#44:2]  |         |         |         |[#52:2...|[#49:2...|         |         |\n",
      "|4   |#35:18|Archae...|37  |      |        |         |         |         |         |         |         |         |         |         |         |archae...|Sito a...|         |         |         |[#52:6...|\n",
      "|5   |#17:1 |Profiles |3   |Male  |OrientDB|         |         |         |Orient...|[#62:0...|[#54:2]  |         |         |         |santo@...|         |Santo    |         |         |[#62:9...|         |\n",
      "|6   |#38:2 |Customers|    |      |        |6        |+11605...|[#48:7]  |         |         |         |[#54:2]  |[#56:102]|[#44:2]  |         |         |         |[#52:2...|[#49:2...|         |         |\n",
      "|7   |#30:27|Monuments|56  |      |        |         |         |         |         |         |         |         |         |         |         |monument |Tre Croci|         |         |         |[#52:1...|\n",
      "|8   |#17:1 |Profiles |3   |Male  |OrientDB|         |         |         |Orient...|[#62:0...|[#54:2]  |         |         |         |santo@...|         |Santo    |         |         |[#62:9...|         |\n",
      "|9   |#38:2 |Customers|    |      |        |6        |+11605...|[#48:7]  |         |         |         |[#54:2]  |[#56:102]|[#44:2]  |         |         |         |[#52:2...|[#49:2...|         |         |\n",
      "|10  |#34:16|Theatres |34  |      |        |         |         |         |         |         |         |         |         |         |         |theatre  |Teatro...|         |         |         |[#51:2...|\n",
      "|11  |#17:1 |Profiles |3   |Male  |OrientDB|         |         |         |Orient...|[#62:0...|[#54:2]  |         |         |         |santo@...|         |Santo    |         |         |[#62:9...|         |\n",
      "+----+------+---------+----+------+--------+---------+---------+---------+---------+---------+---------+---------+---------+---------+---------+---------+---------+---------+---------+---------+---------+\n",
      "\n",
      "12 item(s) found. Query executed in 0.393 sec(s).\n"
     ]
    }
   ],
   "source": [
    "# Find all Locations visited by Santo:\n",
    "\n",
    "/oc \"\n",
    "MATCH {Class: Profiles, as: profile\n",
    ", where: (Name='Santo' AND Surname='OrientDB')}<-HasProfile-{Class: Customers, as: customer}-HasVisited->{class: Locations, as: location} \n",
    "RETURN \\$pathelements\n",
    "\""
   ]
  },
  {
   "cell_type": "markdown",
   "metadata": {},
   "source": [
    "### &nbsp;&nbsp;&nbsp;  Example 2\n",
    "\n",
    "https://orientdb.com/docs/3.0.x/gettingstarted/demodb/queries/DemoDB-Queries-Locations.html#example-2"
   ]
  },
  {
   "cell_type": "code",
   "execution_count": 72,
   "metadata": {},
   "outputs": [
    {
     "name": "stdout",
     "output_type": "stream",
     "text": [
      "\n",
      "OrientDB console v.3.1.0-SNAPSHOT - Veloce (build f02ad980bcf5db727497e5877fc12898d8a5f31e, branch develop) https://www.orientdb.com\n",
      "Type 'help' to display all the supported commands.\n",
      "Connecting to database [remote:orientdb/demodb] with user 'admin'...OK\n",
      "+----+-------+---------+----+---------+---------+---------+---------+---------+---------+---------+---------+---------+---------+---------+---------+---------+---------+\n",
      "|#   |@RID   |@CLASS   |Id  |OrderedId|Phone    |out_HasSt|out_HasPr|in_HasCus|out_IsFro|out_HasRe|out_HasEa|Type     |in_HasSta|out_HasVi|Name     |in_HasEat|in_HasVis|\n",
      "+----+-------+---------+----+---------+---------+---------+---------+---------+---------+---------+---------+---------+---------+---------+---------+---------+---------+\n",
      "|0   |#37:0  |Customers|    |1        |+14008...|[#47:0]  |[#53:0]  |[#55:0]  |[#43:0]  |         |[#49:0...|         |         |[#51:0...|         |         |         |\n",
      "|1   |#31:63 |Castles  |127 |         |         |         |         |         |         |         |         |castle   |         |         |Ch��te...|         |[#51:0...|\n",
      "|2   |#37:0  |Customers|    |1        |+14008...|[#47:0]  |[#53:0]  |[#55:0]  |[#43:0]  |         |[#49:0...|         |         |[#51:0...|         |         |         |\n",
      "|3   |#35:23 |Archae...|47  |         |         |         |         |         |         |         |         |archae...|         |         |Incisi...|         |[#52:0...|\n",
      "|4   |#37:0  |Customers|    |1        |+14008...|[#47:0]  |[#53:0]  |[#55:0]  |[#43:0]  |         |[#49:0...|         |         |[#51:0...|         |         |         |\n",
      "|5   |#30:30 |Monuments|62  |         |         |         |         |         |         |         |         |monument |         |         |Statua...|         |[#51:1...|\n",
      "|6   |#37:0  |Customers|    |1        |+14008...|[#47:0]  |[#53:0]  |[#55:0]  |[#43:0]  |         |[#49:0...|         |         |[#51:0...|         |         |         |\n",
      "|7   |#33:32 |Theatres |65  |         |         |         |         |         |         |         |         |theatre  |         |         |Teatro...|         |[#52:1...|\n",
      "|8   |#37:0  |Customers|    |1        |+14008...|[#47:0]  |[#53:0]  |[#55:0]  |[#43:0]  |         |[#49:0...|         |         |[#51:0...|         |         |         |\n",
      "|9   |#24:364|Hotels   |730 |         |         |         |         |         |         |         |         |alpine...|[#47:0...|         |Carrel   |         |         |\n",
      "|10  |#37:0  |Customers|    |1        |+14008...|[#47:0]  |[#53:0]  |[#55:0]  |[#43:0]  |         |[#49:0...|         |         |[#51:0...|         |         |         |\n",
      "|11  |#26:916|Restau...|1834|         |         |         |         |         |         |[#57:2...|         |pub      |         |         |Einsie...|[#49:0...|         |\n",
      "|12  |#37:0  |Customers|    |1        |+14008...|[#47:0]  |[#53:0]  |[#55:0]  |[#43:0]  |         |[#49:0...|         |         |[#51:0...|         |         |         |\n",
      "|13  |#25:549|Restau...|1099|         |         |         |         |         |         |[#58:229]|         |restau...|         |         |Baita ...|[#50:0...|         |\n",
      "|14  |#37:0  |Customers|    |1        |+14008...|[#47:0]  |[#53:0]  |[#55:0]  |[#43:0]  |         |[#49:0...|         |         |[#51:0...|         |         |         |\n",
      "|15  |#26:868|Restau...|1738|         |         |         |         |         |         |         |         |restau...|         |         |Locand...|[#49:1]  |         |\n",
      "+----+-------+---------+----+---------+---------+---------+---------+---------+---------+---------+---------+---------+---------+---------+---------+---------+---------+\n",
      "\n",
      "16 item(s) found. Query executed in 0.029 sec(s).\n"
     ]
    }
   ],
   "source": [
    "# Find all Locations connected to Customer with OrderedId 1:\n",
    "\n",
    "/oc \"\n",
    "MATCH {class: Customers, as: customer, where: (OrderedId=1)}--{Class: Locations} \n",
    "RETURN \\$pathelements\n",
    "\""
   ]
  },
  {
   "cell_type": "markdown",
   "metadata": {},
   "source": [
    "### &nbsp;&nbsp;&nbsp;  Example 3\n",
    "\n",
    "https://orientdb.com/docs/3.0.x/gettingstarted/demodb/queries/DemoDB-Queries-Locations.html#example-3"
   ]
  },
  {
   "cell_type": "code",
   "execution_count": 73,
   "metadata": {},
   "outputs": [
    {
     "name": "stdout",
     "output_type": "stream",
     "text": [
      "\n",
      "OrientDB console v.3.1.0-SNAPSHOT - Veloce (build f02ad980bcf5db727497e5877fc12898d8a5f31e, branch develop) https://www.orientdb.com\n",
      "Type 'help' to display all the supported commands.\n",
      "Connecting to database [remote:orientdb/demodb] with user 'admin'...OK\n",
      "+----+-------+---------+----+---------+---------+---------+---------+---------+---------+---------+---------+---------+---------+---------+---------+---------+---------+---------+---------+---------+\n",
      "|#   |@RID   |@CLASS   |Id  |OrderedId|Phone    |in_HasRev|out_HasSt|in_MadeRe|out_HasPr|in_HasCus|out_IsFro|out_HasRe|out_HasEa|Type     |in_HasSta|out_HasVi|Name     |in_HasEat|Text     |in_HasVis|\n",
      "+----+-------+---------+----+---------+---------+---------+---------+---------+---------+---------+---------+---------+---------+---------+---------+---------+---------+---------+---------+---------+\n",
      "|0   |#37:0  |Customers|    |1        |+14008...|         |[#47:0]  |         |[#53:0]  |[#55:0]  |[#43:0]  |         |[#49:0...|         |         |[#51:0...|         |         |         |         |\n",
      "|1   |#31:63 |Castles  |127 |         |         |         |         |         |         |         |         |         |         |castle   |         |         |Ch��te...|         |         |[#51:0...|\n",
      "|2   |#37:0  |Customers|    |1        |+14008...|         |[#47:0]  |         |[#53:0]  |[#55:0]  |[#43:0]  |         |[#49:0...|         |         |[#51:0...|         |         |         |         |\n",
      "|3   |#35:23 |Archae...|47  |         |         |         |         |         |         |         |         |         |         |archae...|         |         |Incisi...|         |         |[#52:0...|\n",
      "|4   |#37:0  |Customers|    |1        |+14008...|         |[#47:0]  |         |[#53:0]  |[#55:0]  |[#43:0]  |         |[#49:0...|         |         |[#51:0...|         |         |         |         |\n",
      "|5   |#30:30 |Monuments|62  |         |         |         |         |         |         |         |         |         |         |monument |         |         |Statua...|         |         |[#51:1...|\n",
      "|6   |#37:0  |Customers|    |1        |+14008...|         |[#47:0]  |         |[#53:0]  |[#55:0]  |[#43:0]  |         |[#49:0...|         |         |[#51:0...|         |         |         |         |\n",
      "|7   |#33:32 |Theatres |65  |         |         |         |         |         |         |         |         |         |         |theatre  |         |         |Teatro...|         |         |[#52:1...|\n",
      "|8   |#37:0  |Customers|    |1        |+14008...|         |[#47:0]  |         |[#53:0]  |[#55:0]  |[#43:0]  |         |[#49:0...|         |         |[#51:0...|         |         |         |         |\n",
      "|9   |#24:364|Hotels   |730 |         |         |         |         |         |         |         |         |         |         |alpine...|[#47:0...|         |Carrel   |         |         |         |\n",
      "|10  |#37:0  |Customers|    |1        |+14008...|         |[#47:0]  |         |[#53:0]  |[#55:0]  |[#43:0]  |         |[#49:0...|         |         |[#51:0...|         |         |         |         |\n",
      "|11  |#26:916|Restau...|1834|         |         |         |         |         |         |         |         |[#57:2...|         |pub      |         |         |Einsie...|[#49:0...|         |         |\n",
      "|12  |#39:218|Reviews  |437 |         |         |[#57:218]|         |[#59:218]|         |         |         |         |         |         |         |         |         |         |This i...|         |\n",
      "|13  |#37:0  |Customers|    |1        |+14008...|         |[#47:0]  |         |[#53:0]  |[#55:0]  |[#43:0]  |         |[#49:0...|         |         |[#51:0...|         |         |         |         |\n",
      "|14  |#26:916|Restau...|1834|         |         |         |         |         |         |         |         |[#57:2...|         |pub      |         |         |Einsie...|[#49:0...|         |         |\n",
      "|15  |#40:602|Reviews  |1206|         |         |[#58:602]|         |[#60:602]|         |         |         |         |         |         |         |         |         |         |This i...|         |\n",
      "|16  |#37:0  |Customers|    |1        |+14008...|         |[#47:0]  |         |[#53:0]  |[#55:0]  |[#43:0]  |         |[#49:0...|         |         |[#51:0...|         |         |         |         |\n",
      "|17  |#25:549|Restau...|1099|         |         |         |         |         |         |         |         |[#58:229]|         |restau...|         |         |Baita ...|[#50:0...|         |         |\n",
      "|18  |#40:229|Reviews  |460 |         |         |[#58:229]|         |[#60:229]|         |         |         |         |         |         |         |         |         |         |This i...|         |\n",
      "|19  |#37:0  |Customers|    |1        |+14008...|         |[#47:0]  |         |[#53:0]  |[#55:0]  |[#43:0]  |         |[#49:0...|         |         |[#51:0...|         |         |         |         |\n",
      "+----+-------+---------+----+---------+---------+---------+---------+---------+---------+---------+---------+---------+---------+---------+---------+---------+---------+---------+---------+---------+\n",
      "LIMIT EXCEEDED: resultset contains more items not displayed (limit=20)\n",
      "\n",
      "20 item(s) found. Query executed in 0.045 sec(s).\n"
     ]
    }
   ],
   "source": [
    "# Find all Locations connected to Customer with OrderedId 1, and their Reviews (if any):\n",
    "\n",
    "/oc \"\n",
    "MATCH {class: Customers, as: c, where: (OrderedId=1)}--{class: Locations, as: loc}-HasReview->{class: Reviews, as: r, optional: true} \n",
    "RETURN \\$pathelements\n",
    "\""
   ]
  },
  {
   "cell_type": "markdown",
   "metadata": {},
   "source": [
    "### &nbsp;&nbsp;&nbsp;  Example 4\n",
    "\n",
    "https://orientdb.com/docs/3.0.x/gettingstarted/demodb/queries/DemoDB-Queries-Locations.html#example-4"
   ]
  },
  {
   "cell_type": "code",
   "execution_count": 74,
   "metadata": {},
   "outputs": [
    {
     "name": "stdout",
     "output_type": "stream",
     "text": [
      "\n",
      "OrientDB console v.3.1.0-SNAPSHOT - Veloce (build f02ad980bcf5db727497e5877fc12898d8a5f31e, branch develop) https://www.orientdb.com\n",
      "Type 'help' to display all the supported commands.\n",
      "Connecting to database [remote:orientdb/demodb] with user 'admin'...OK\n",
      "+----+------+---------+----+---------+---------+---------+---------+---------+---------+---------+---------+-----------+--------------+--------------+----------------+\n",
      "|#   |@RID  |@CLASS   |Id  |OrderedId|Phone    |out_HasPr|out_IsFro|Type     |in_HasCus|Name     |out_HasSt|out_MadeRev|out_HasVisited|out_HasEaten  |in_HasVisited   |\n",
      "+----+------+---------+----+---------+---------+---------+---------+---------+---------+---------+---------+-----------+--------------+--------------+----------------+\n",
      "|0   |#38:0 |Customers|    |2        |+15896...|[#54:0]  |[#44:0]  |         |[#55:5...|         |[#48:0...|[#59:0,#...|[#51:2,#52:...|[#50:1,#49:...|                |\n",
      "|1   |#31:42|Castles  |85  |         |         |         |         |castle   |         |Boimont  |         |           |              |              |[#51:2,#52:37...|\n",
      "|2   |#38:0 |Customers|    |2        |+15896...|[#54:0]  |[#44:0]  |         |[#55:5...|         |[#48:0...|[#59:0,#...|[#51:2,#52:...|[#50:1,#49:...|                |\n",
      "|3   |#36:4 |Archae...|10  |         |         |         |         |archae...|         |Domus ...|         |           |              |              |[#52:2,#52:14...|\n",
      "|4   |#38:0 |Customers|    |2        |+15896...|[#54:0]  |[#44:0]  |         |[#55:5...|         |[#48:0...|[#59:0,#...|[#51:2,#52:...|[#50:1,#49:...|                |\n",
      "|5   |#29:47|Monuments|95  |         |         |         |         |monument |         |Madonn...|         |           |              |              |[#51:3,#51:15...|\n",
      "|6   |#38:0 |Customers|    |2        |+15896...|[#54:0]  |[#44:0]  |         |[#55:5...|         |[#48:0...|[#59:0,#...|[#51:2,#52:...|[#50:1,#49:...|                |\n",
      "|7   |#33:18|Theatres |37  |         |         |         |         |theatre  |         |Teatro...|         |           |              |              |[#52:3,#52:76...|\n",
      "|8   |#38:0 |Customers|    |2        |+15896...|[#54:0]  |[#44:0]  |         |[#55:5...|         |[#48:0...|[#59:0,#...|[#51:2,#52:...|[#50:1,#49:...|                |\n",
      "|9   |#31:11|Castles  |23  |         |         |         |         |castle   |         |Torre ...|         |           |              |              |[#51:4,#52:24...|\n",
      "|10  |#38:0 |Customers|    |2        |+15896...|[#54:0]  |[#44:0]  |         |[#55:5...|         |[#48:0...|[#59:0,#...|[#51:2,#52:...|[#50:1,#49:...|                |\n",
      "|11  |#36:5 |Archae...|12  |         |         |         |         |archae...|         |Mausol...|         |           |              |              |[#52:4,#52:51...|\n",
      "|12  |#38:0 |Customers|    |2        |+15896...|[#54:0]  |[#44:0]  |         |[#55:5...|         |[#48:0...|[#59:0,#...|[#51:2,#52:...|[#50:1,#49:...|                |\n",
      "|13  |#30:17|Monuments|36  |         |         |         |         |monument |         |Teatro...|         |           |              |              |[#51:5,#51:11...|\n",
      "|14  |#38:0 |Customers|    |2        |+15896...|[#54:0]  |[#44:0]  |         |[#55:5...|         |[#48:0...|[#59:0,#...|[#51:2,#52:...|[#50:1,#49:...|                |\n",
      "|15  |#33:44|Theatres |89  |         |         |         |         |theatre  |         |Grotta...|         |           |              |              |[#52:5,#51:27...|\n",
      "|16  |#38:0 |Customers|    |2        |+15896...|[#54:0]  |[#44:0]  |         |[#55:5...|         |[#48:0...|[#59:0,#...|[#51:2,#52:...|[#50:1,#49:...|                |\n",
      "|17  |#31:4 |Castles  |9   |         |         |         |         |castle   |         |Borgo ...|         |           |              |              |[#51:6,#51:78...|\n",
      "|18  |#38:0 |Customers|    |2        |+15896...|[#54:0]  |[#44:0]  |         |[#55:5...|         |[#48:0...|[#59:0,#...|[#51:2,#52:...|[#50:1,#49:...|                |\n",
      "|19  |#35:18|Archae...|37  |         |         |         |         |archae...|         |Sito a...|         |           |              |              |[#52:6,#51:28...|\n",
      "+----+------+---------+----+---------+---------+---------+---------+---------+---------+---------+---------+-----------+--------------+--------------+----------------+\n",
      "LIMIT EXCEEDED: resultset contains more items not displayed (limit=20)\n",
      "\n",
      "20 item(s) found. Query executed in 0.052 sec(s).\n"
     ]
    }
   ],
   "source": [
    "# Find all Locations visited by Customer with OrderedId 2:\n",
    "\n",
    "/oc \"\n",
    "MATCH {Class: Locations, as: location}<-HasVisited-{class: Customers, as: customer, where: (OrderedId=2)}\n",
    "RETURN \\$pathelements\n",
    "\""
   ]
  },
  {
   "cell_type": "markdown",
   "metadata": {},
   "source": [
    "### &nbsp;&nbsp;&nbsp;  Example 5\n",
    "\n",
    "https://orientdb.com/docs/3.0.x/gettingstarted/demodb/queries/DemoDB-Queries-Locations.html#example-5"
   ]
  },
  {
   "cell_type": "code",
   "execution_count": 75,
   "metadata": {},
   "outputs": [
    {
     "name": "stdout",
     "output_type": "stream",
     "text": [
      "\n",
      "OrientDB console v.3.1.0-SNAPSHOT - Veloce (build f02ad980bcf5db727497e5877fc12898d8a5f31e, branch develop) https://www.orientdb.com\n",
      "Type 'help' to display all the supported commands.\n",
      "Connecting to database [remote:orientdb/demodb] with user 'admin'...OK\n",
      "+----+------+---------+----+------+--------+---------+---------+---------+---------+---------+---------+---------+---------+---------+---------+---------+---------+---------+---------+---------+---------+---------+\n",
      "|#   |@RID  |@CLASS   |Id  |Gender|Surname |OrderedId|Phone    |Bio      |in_HasPro|out_HasPr|in_HasCus|out_IsFro|out_MadeR|Email    |out_HasSt|out_HasEa|Type     |Name     |out_HasVi|out_HasFr|in_HasFri|in_HasVis|\n",
      "+----+------+---------+----+------+--------+---------+---------+---------+---------+---------+---------+---------+---------+---------+---------+---------+---------+---------+---------+---------+---------+---------+\n",
      "|0   |#37:0 |Customers|    |      |        |1        |+14008...|         |         |[#53:0]  |[#55:0]  |[#43:0]  |         |         |[#47:0]  |[#49:0...|         |         |[#51:0...|         |         |         |\n",
      "|1   |#31:63|Castles  |127 |      |        |         |         |         |         |         |         |         |         |         |         |         |castle   |Ch��te...|         |         |         |[#51:0...|\n",
      "|2   |#17:4 |Profiles |9   |Male  |OrientDB|         |         |Orient...|[#53:0]  |         |         |         |         |colin@...|         |         |         |Colin    |         |[#61:2...|[#62:3...|         |\n",
      "|3   |#17:1 |Profiles |3   |Male  |OrientDB|         |         |Orient...|[#54:2]  |         |         |         |         |santo@...|         |         |         |Santo    |         |[#62:9...|[#62:0...|         |\n",
      "|4   |#37:0 |Customers|    |      |        |1        |+14008...|         |         |[#53:0]  |[#55:0]  |[#43:0]  |         |         |[#47:0]  |[#49:0...|         |         |[#51:0...|         |         |         |\n",
      "|5   |#35:23|Archae...|47  |      |        |         |         |         |         |         |         |         |         |         |         |         |archae...|Incisi...|         |         |         |[#52:0...|\n",
      "|6   |#17:4 |Profiles |9   |Male  |OrientDB|         |         |Orient...|[#53:0]  |         |         |         |         |colin@...|         |         |         |Colin    |         |[#61:2...|[#62:3...|         |\n",
      "|7   |#17:1 |Profiles |3   |Male  |OrientDB|         |         |Orient...|[#54:2]  |         |         |         |         |santo@...|         |         |         |Santo    |         |[#62:9...|[#62:0...|         |\n",
      "|8   |#37:0 |Customers|    |      |        |1        |+14008...|         |         |[#53:0]  |[#55:0]  |[#43:0]  |         |         |[#47:0]  |[#49:0...|         |         |[#51:0...|         |         |         |\n",
      "|9   |#30:30|Monuments|62  |      |        |         |         |         |         |         |         |         |         |         |         |         |monument |Statua...|         |         |         |[#51:1...|\n",
      "|10  |#17:4 |Profiles |9   |Male  |OrientDB|         |         |Orient...|[#53:0]  |         |         |         |         |colin@...|         |         |         |Colin    |         |[#61:2...|[#62:3...|         |\n",
      "|11  |#17:1 |Profiles |3   |Male  |OrientDB|         |         |Orient...|[#54:2]  |         |         |         |         |santo@...|         |         |         |Santo    |         |[#62:9...|[#62:0...|         |\n",
      "|12  |#37:0 |Customers|    |      |        |1        |+14008...|         |         |[#53:0]  |[#55:0]  |[#43:0]  |         |         |[#47:0]  |[#49:0...|         |         |[#51:0...|         |         |         |\n",
      "|13  |#33:32|Theatres |65  |      |        |         |         |         |         |         |         |         |         |         |         |         |theatre  |Teatro...|         |         |         |[#52:1...|\n",
      "|14  |#17:4 |Profiles |9   |Male  |OrientDB|         |         |Orient...|[#53:0]  |         |         |         |         |colin@...|         |         |         |Colin    |         |[#61:2...|[#62:3...|         |\n",
      "|15  |#17:1 |Profiles |3   |Male  |OrientDB|         |         |Orient...|[#54:2]  |         |         |         |         |santo@...|         |         |         |Santo    |         |[#62:9...|[#62:0...|         |\n",
      "|16  |#37:2 |Customers|    |      |        |5        |+16946...|         |         |[#53:2]  |[#56:51] |[#43:2]  |[#59:2...|         |[#47:6...|[#49:1...|         |         |[#52:2...|         |         |         |\n",
      "|17  |#31:25|Castles  |51  |      |        |         |         |         |         |         |         |         |         |         |         |         |castle   |Castel...|         |         |         |[#52:2...|\n",
      "|18  |#18:4 |Profiles |10  |Male  |OrientDB|         |         |Orient...|[#53:2]  |         |         |         |         |andrey...|         |         |         |Andrey   |         |[#61:27] |[#61:4...|         |\n",
      "|19  |#17:1 |Profiles |3   |Male  |OrientDB|         |         |Orient...|[#54:2]  |         |         |         |         |santo@...|         |         |         |Santo    |         |[#62:9...|[#62:0...|         |\n",
      "+----+------+---------+----+------+--------+---------+---------+---------+---------+---------+---------+---------+---------+---------+---------+---------+---------+---------+---------+---------+---------+---------+\n",
      "LIMIT EXCEEDED: resultset contains more items not displayed (limit=20)\n",
      "\n",
      "20 item(s) found. Query executed in 0.5 sec(s).\n"
     ]
    }
   ],
   "source": [
    "# Find all Locations visited by Santo's friends:\n",
    "\n",
    "/oc \"\n",
    "MATCH {Class: Profiles, as: profile, where: (Name='Santo' and Surname='OrientDB')}-HasFriend->{Class: Profiles, as: friend}<-HasProfile-{Class: Customers, as: customer}-HasVisited->{Class: Locations, as: location} \n",
    "RETURN \\$pathelements\n",
    "\""
   ]
  },
  {
   "cell_type": "markdown",
   "metadata": {},
   "source": [
    "## Reviews\n"
   ]
  },
  {
   "cell_type": "markdown",
   "metadata": {},
   "source": [
    "### &nbsp;&nbsp;&nbsp;  Example 1\n",
    "\n",
    "https://orientdb.com/docs/3.0.x/gettingstarted/demodb/queries/DemoDB-Queries-Reviews.html#example-1"
   ]
  },
  {
   "cell_type": "code",
   "execution_count": 76,
   "metadata": {},
   "outputs": [
    {
     "name": "stdout",
     "output_type": "stream",
     "text": [
      "\n",
      "OrientDB console v.3.1.0-SNAPSHOT - Veloce (build f02ad980bcf5db727497e5877fc12898d8a5f31e, branch develop) https://www.orientdb.com\n",
      "Type 'help' to display all the supported commands.\n",
      "Connecting to database [remote:orientdb/demodb] with user 'admin'...OK\n",
      "+----+-----+-----+\n",
      "|#   |Stars|Count|\n",
      "+----+-----+-----+\n",
      "|0   |2    |272  |\n",
      "|1   |3    |261  |\n",
      "|2   |4    |250  |\n",
      "|3   |5    |246  |\n",
      "|4   |1    |244  |\n",
      "+----+-----+-----+\n",
      "\n",
      "5 item(s) found. Query executed in 0.061 sec(s).\n"
     ]
    }
   ],
   "source": [
    "# Find number of Reviews per star:\n",
    "\n",
    "/oc \"\n",
    "SELECT \n",
    "  Stars, count(*) as Count \n",
    "FROM HasReview \n",
    "GROUP BY Stars \n",
    "ORDER BY Count DESC\n",
    "\""
   ]
  },
  {
   "cell_type": "markdown",
   "metadata": {},
   "source": [
    "### &nbsp;&nbsp;&nbsp;  Example 2\n",
    "\n",
    "https://orientdb.com/docs/3.0.x/gettingstarted/demodb/queries/DemoDB-Queries-Reviews.html#example-2"
   ]
  },
  {
   "cell_type": "code",
   "execution_count": 77,
   "metadata": {},
   "outputs": [
    {
     "name": "stdout",
     "output_type": "stream",
     "text": [
      "\n",
      "OrientDB console v.3.1.0-SNAPSHOT - Veloce (build f02ad980bcf5db727497e5877fc12898d8a5f31e, branch develop) https://www.orientdb.com\n",
      "Type 'help' to display all the supported commands.\n",
      "Connecting to database [remote:orientdb/demodb] with user 'admin'...OK\n",
      "+----+-------+-------+----+----------+-----------+-----------+-------------+------------------+---------------------+--------------------------------------------+\n",
      "|#   |@RID   |@CLASS |Id  |Type      |in_HasRevie|in_MadeRevi|out_HasReview|Name              |in_HasStayed         |Text                                        |\n",
      "+----+-------+-------+----+----------+-----------+-----------+-------------+------------------+---------------------+--------------------------------------------+\n",
      "|0   |#39:0  |Reviews|1   |          |[#57:0]    |[#59:0]    |             |                  |                     |This is a Review made by Customer with Or...|\n",
      "|1   |#24:322|Hotels |646 |hostel    |           |           |[#57:0,#58...|Rifugio Capanna...|[#47:1,#48:284]      |                                            |\n",
      "|2   |#39:1  |Reviews|3   |          |[#57:1]    |[#59:1]    |             |                  |                     |This is a Review made by Customer with Or...|\n",
      "|3   |#23:433|Hotels |867 |hotel     |           |           |[#57:1,#57...|Villa Anna Maria  |[#48:51,#47:354]     |                                            |\n",
      "|4   |#39:2  |Reviews|5   |          |[#57:2]    |[#59:2]    |             |                  |                     |This is a Review made by Customer with Or...|\n",
      "|5   |#24:261|Hotels |524 |hotel     |           |           |[#57:2]      |Hotel 'Le Conch...|[#48:76,#48:562,#4...|                                            |\n",
      "|6   |#39:3  |Reviews|7   |          |[#57:3]    |[#59:3]    |             |                  |                     |This is a Review made by Customer with Or...|\n",
      "|7   |#23:252|Hotels |505 |hotel     |           |           |[#57:3]      |Santoni (garni)   |[#48:5,#47:110,#48...|                                            |\n",
      "|8   |#39:4  |Reviews|9   |          |[#57:4]    |[#59:4]    |             |                  |                     |This is a Review made by Customer with Or...|\n",
      "|9   |#24:118|Hotels |238 |alpine_hut|           |           |[#57:4]      |Rifugio Mariotti  |[#48:125]            |                                            |\n",
      "|10  |#39:5  |Reviews|11  |          |[#57:5]    |[#59:5]    |             |                  |                     |This is a Review made by Customer with Or...|\n",
      "|11  |#24:47 |Hotels |96  |hotel     |           |           |[#57:5,#58...|Convitto della ...|[#47:141,#47:501]    |                                            |\n",
      "|12  |#39:6  |Reviews|13  |          |[#57:6]    |[#59:6]    |             |                  |                     |This is a Review made by Customer with Or...|\n",
      "|13  |#23:217|Hotels |435 |alpine_hut|           |           |[#57:6,#58...|Malga Romeno      |[#48:65,#48:165,#4...|                                            |\n",
      "|14  |#39:7  |Reviews|15  |          |[#57:7]    |[#59:7]    |             |                  |                     |This is a Review made by Customer with Or...|\n",
      "|15  |#23:366|Hotels |733 |alpine_hut|           |           |[#57:7,#58...|Prarayer          |[#47:186,#48:457,#...|                                            |\n",
      "|16  |#39:8  |Reviews|17  |          |[#57:8]    |[#59:8]    |             |                  |                     |This is a Review made by Customer with Or...|\n",
      "|17  |#24:264|Hotels |530 |hotel     |           |           |[#57:8]      |Hotel Daniela     |[#47:46,#47:208,#4...|                                            |\n",
      "|18  |#39:9  |Reviews|19  |          |[#57:9]    |[#59:9]    |             |                  |                     |This is a Review made by Customer with Or...|\n",
      "|19  |#24:265|Hotels |532 |guest_h...|           |           |[#57:9,#57...|Il Fauno          |[#47:75,#48:250]     |                                            |\n",
      "+----+-------+-------+----+----------+-----------+-----------+-------------+------------------+---------------------+--------------------------------------------+\n",
      "LIMIT EXCEEDED: resultset contains more items not displayed (limit=20)\n",
      "\n",
      "20 item(s) found. Query executed in 0.442 sec(s).\n"
     ]
    }
   ],
   "source": [
    "# Find all reviewed Services:\n",
    "\n",
    "/oc \"\n",
    "MATCH {class: Services, as: s}-HasReview->{class: Reviews, as: r} \n",
    "RETURN \\$pathelements\n",
    "\""
   ]
  },
  {
   "cell_type": "markdown",
   "metadata": {},
   "source": [
    "### &nbsp;&nbsp;&nbsp;  Example 3\n",
    "\n",
    "https://orientdb.com/docs/3.0.x/gettingstarted/demodb/queries/DemoDB-Queries-Reviews.html#example-3"
   ]
  },
  {
   "cell_type": "code",
   "execution_count": 78,
   "metadata": {},
   "outputs": [
    {
     "name": "stdout",
     "output_type": "stream",
     "text": [
      "\n",
      "OrientDB console v.3.1.0-SNAPSHOT - Veloce (build f02ad980bcf5db727497e5877fc12898d8a5f31e, branch develop) https://www.orientdb.com\n",
      "Type 'help' to display all the supported commands.\n",
      "Connecting to database [remote:orientdb/demodb] with user 'admin'...OK\n",
      "+----+-------+---------+----+---------+---------+---------+---------+---------+---------+---------+---------+---------+---------+---------+---------+---------+---------+---------+---------+---------+\n",
      "|#   |@RID   |@CLASS   |Id  |OrderedId|Type     |Phone    |in_HasRev|in_MadeRe|out_HasPr|out_IsFro|in_HasCus|Name     |out_HasSt|in_HasEat|out_MadeR|out_HasRe|in_HasSta|out_HasEa|Text     |out_HasVi|\n",
      "+----+-------+---------+----+---------+---------+---------+---------+---------+---------+---------+---------+---------+---------+---------+---------+---------+---------+---------+---------+---------+\n",
      "|0   |#37:1  |Customers|    |3        |         |+15442...|         |         |[#53:1]  |[#43:1]  |[#55:204]|         |[#48:3]  |         |[#59:1...|         |         |[#50:7...|         |[#52:1...|\n",
      "|1   |#39:111|Reviews  |223 |         |         |         |[#57:111]|[#59:111]|         |         |         |         |         |         |         |         |         |         |This i...|         |\n",
      "|2   |#26:32 |Restau...|66  |         |pub      |         |         |         |         |         |         |Isla T...|         |[#50:7...|         |[#57:111]|         |         |         |         |\n",
      "|3   |#37:1  |Customers|    |3        |         |+15442...|         |         |[#53:1]  |[#43:1]  |[#55:204]|         |[#48:3]  |         |[#59:1...|         |         |[#50:7...|         |[#52:1...|\n",
      "|4   |#40:190|Reviews  |382 |         |         |         |[#58:190]|[#60:190]|         |         |         |         |         |         |         |         |         |         |This i...|         |\n",
      "|5   |#26:782|Restau...|1566|         |fast_food|         |         |         |         |         |         |Pizzer...|         |[#49:8...|         |[#58:1...|         |         |         |         |\n",
      "|6   |#37:1  |Customers|    |3        |         |+15442...|         |         |[#53:1]  |[#43:1]  |[#55:204]|         |[#48:3]  |         |[#59:1...|         |         |[#50:7...|         |[#52:1...|\n",
      "|7   |#39:270|Reviews  |541 |         |         |         |[#57:270]|[#59:270]|         |         |         |         |         |         |         |         |         |         |This i...|         |\n",
      "|8   |#25:53 |Restau...|107 |         |restau...|         |         |         |         |         |         |Plan T...|         |[#50:8]  |         |[#57:270]|         |         |         |         |\n",
      "|9   |#37:2  |Customers|    |5        |         |+16946...|         |         |[#53:2]  |[#43:2]  |[#56:51] |         |[#47:6...|         |[#59:2...|         |         |[#49:1...|         |[#52:2...|\n",
      "|10  |#39:239|Reviews  |479 |         |         |         |[#57:239]|[#59:239]|         |         |         |         |         |         |         |         |         |         |This i...|         |\n",
      "|11  |#24:310|Hotels   |622 |         |hotel    |         |         |         |         |         |         |Hotel ...|         |         |         |[#57:1...|[#48:6...|         |         |         |\n",
      "|12  |#37:2  |Customers|    |5        |         |+16946...|         |         |[#53:2]  |[#43:2]  |[#56:51] |         |[#47:6...|         |[#59:2...|         |         |[#49:1...|         |[#52:2...|\n",
      "|13  |#40:318|Reviews  |638 |         |         |         |[#58:318]|[#60:318]|         |         |         |         |         |         |         |         |         |         |This i...|         |\n",
      "|14  |#23:21 |Hotels   |43  |         |hotel    |         |         |         |         |         |         |Alberg...|         |         |         |[#58:318]|[#47:7...|         |         |         |\n",
      "|15  |#37:3  |Customers|    |7        |         |+13371...|         |         |[#53:3]  |[#43:3]  |[#56:1...|         |[#47:8...|         |[#60:3...|         |         |[#50:2...|         |[#52:2...|\n",
      "|16  |#40:349|Reviews  |700 |         |         |         |[#58:349]|[#60:349]|         |         |         |         |         |         |         |         |         |         |This i...|         |\n",
      "|17  |#26:481|Restau...|964 |         |restau...|         |         |         |         |         |         |Stierb...|         |[#50:23] |         |[#58:349]|         |         |         |         |\n",
      "|18  |#37:3  |Customers|    |7        |         |+13371...|         |         |[#53:3]  |[#43:3]  |[#56:1...|         |[#47:8...|         |[#60:3...|         |         |[#50:2...|         |[#52:2...|\n",
      "|19  |#39:398|Reviews  |797 |         |         |         |[#57:398]|[#59:398]|         |         |         |         |         |         |         |         |         |         |This i...|         |\n",
      "+----+-------+---------+----+---------+---------+---------+---------+---------+---------+---------+---------+---------+---------+---------+---------+---------+---------+---------+---------+---------+\n",
      "LIMIT EXCEEDED: resultset contains more items not displayed (limit=20)\n",
      "\n",
      "20 item(s) found. Query executed in 0.606 sec(s).\n"
     ]
    }
   ],
   "source": [
    "#Find all reviewed Services and the Customer who made the review:\n",
    "\n",
    "/oc \"\n",
    "MATCH {class: Services, as: s}-HasReview->{class: Reviews, as: r}<-MadeReview-{class: Customers, as: c} \n",
    "RETURN \\$pathelements\n",
    "\""
   ]
  },
  {
   "cell_type": "markdown",
   "metadata": {},
   "source": [
    "### &nbsp;&nbsp;&nbsp;  Example 4\n",
    "\n",
    "https://orientdb.com/docs/3.0.x/gettingstarted/demodb/queries/DemoDB-Queries-Reviews.html#example-4"
   ]
  },
  {
   "cell_type": "code",
   "execution_count": 79,
   "metadata": {},
   "outputs": [
    {
     "name": "stdout",
     "output_type": "stream",
     "text": [
      "\n",
      "OrientDB console v.3.1.0-SNAPSHOT - Veloce (build f02ad980bcf5db727497e5877fc12898d8a5f31e, branch develop) https://www.orientdb.com\n",
      "Type 'help' to display all the supported commands.\n",
      "Connecting to database [remote:orientdb/demodb] with user 'admin'...OK\n",
      "+----+-----------+----------------------+-------------------+-------------+\n",
      "|#   |Service_RID|Service_Name          |Service_Type       |ReviewNumbers|\n",
      "+----+-----------+----------------------+-------------------+-------------+\n",
      "|0   |#24:481    |Hotel Felicyta        |hotel              |5            |\n",
      "|1   |#25:609    |Pizzeria Il Pirata    |restaurant         |4            |\n",
      "|2   |#25:691    |Antiche Mura          |pub                |4            |\n",
      "|3   |#23:209    |Rifugio Pian Cavallone|guest_house        |3            |\n",
      "|4   |#23:210    |Bellarta              |hotel              |3            |\n",
      "|5   |#23:260    |Hotel Brigantino      |hotel              |3            |\n",
      "|6   |#23:346    |Hotel Armentarola     |hotel              |3            |\n",
      "|7   |#23:431    |Les Coupoles          |hotel              |3            |\n",
      "|8   |#23:485    |Duca di Kent          |hotel              |3            |\n",
      "|9   |#24:183    |Hotel 'Alla Posta'    |hotel              |3            |\n",
      "|10  |#24:310    |Hotel Bavaria         |hotel              |3            |\n",
      "|11  |#25:180    |Aglsbodenalm          |restaurant         |3            |\n",
      "|12  |#25:242    |Footlight             |pub                |3            |\n",
      "|13  |#25:535    |Agritur Le Vallene    |restaurant         |3            |\n",
      "|14  |#25:944    |Baita di Trela        |restaurant         |3            |\n",
      "|15  |#26:61     |Las Vegas Caf��       |pub                |3            |\n",
      "|16  |#26:275    |Trattoria Il Serraglio|restaurant         |3            |\n",
      "|17  |#26:295    |Marzoner Alm          |restaurant         |3            |\n",
      "|18  |#26:348    |Il Pirata             |restaurant         |3            |\n",
      "|19  |#26:650    |Agriturismo           | casa delle rondini|3            |\n",
      "+----+-----------+----------------------+-------------------+-------------+\n",
      "LIMIT EXCEEDED: resultset contains more items not displayed (limit=20)\n",
      "\n",
      "20 item(s) found. Query executed in 0.382 sec(s).\n"
     ]
    }
   ],
   "source": [
    "# Find the numbers of reviews per Service:\n",
    "\n",
    "/oc \"\n",
    "SELECT \n",
    "  @rid as Service_RID,\n",
    "  Name as Service_Name,\n",
    "  Type as Service_Type,\n",
    "  out('HasReview').size() AS ReviewNumbers \n",
    "FROM Services \n",
    "ORDER BY ReviewNumbers DESC\n",
    "\""
   ]
  },
  {
   "cell_type": "markdown",
   "metadata": {},
   "source": [
    "### &nbsp;&nbsp;&nbsp;  Example 5\n",
    "\n",
    "https://orientdb.com/docs/3.0.x/gettingstarted/demodb/queries/DemoDB-Queries-Reviews.html#example-5"
   ]
  },
  {
   "cell_type": "code",
   "execution_count": 81,
   "metadata": {},
   "outputs": [
    {
     "name": "stdout",
     "output_type": "stream",
     "text": [
      "\n",
      "OrientDB console v.3.1.0-SNAPSHOT - Veloce (build f02ad980bcf5db727497e5877fc12898d8a5f31e, branch develop) https://www.orientdb.com\n",
      "Type 'help' to display all the supported commands.\n",
      "Connecting to database [remote:orientdb/demodb] with user 'admin'...OK\n",
      "+----+---------+----------------------+-----------+-------------+\n",
      "|#   |Hotel_RID|Hotel_Name            |Hotel_Type |ReviewNumbers|\n",
      "+----+---------+----------------------+-----------+-------------+\n",
      "|0   |#24:481  |Hotel Felicyta        |hotel      |5            |\n",
      "|1   |#23:209  |Rifugio Pian Cavallone|guest_house|3            |\n",
      "|2   |#23:210  |Bellarta              |hotel      |3            |\n",
      "+----+---------+----------------------+-----------+-------------+\n",
      "\n",
      "3 item(s) found. Query executed in 0.041 sec(s).\n"
     ]
    }
   ],
   "source": [
    "# Find the 3 Hotels that have most reviews:\n",
    "\n",
    "/oc \"\n",
    "SELECT \n",
    "  @rid as Hotel_RID,\n",
    "  Name as Hotel_Name,\n",
    "  Type as Hotel_Type,\n",
    "  out('HasReview').size() AS ReviewNumbers \n",
    "FROM Hotels \n",
    "ORDER BY ReviewNumbers DESC \n",
    "LIMIT 3\n",
    "\""
   ]
  },
  {
   "cell_type": "markdown",
   "metadata": {},
   "source": [
    "### &nbsp;&nbsp;&nbsp;  Example 6\n",
    "\n",
    "https://orientdb.com/docs/3.0.x/gettingstarted/demodb/queries/DemoDB-Queries-Reviews.html#example-6"
   ]
  },
  {
   "cell_type": "code",
   "execution_count": 82,
   "metadata": {},
   "outputs": [
    {
     "name": "stdout",
     "output_type": "stream",
     "text": [
      "\n",
      "OrientDB console v.3.1.0-SNAPSHOT - Veloce (build f02ad980bcf5db727497e5877fc12898d8a5f31e, branch develop) https://www.orientdb.com\n",
      "Type 'help' to display all the supported commands.\n",
      "Connecting to database [remote:orientdb/demodb] with user 'admin'...OK\n",
      "+----+----------+-------------+\n",
      "|#   |CustomerId|ReviewNumbers|\n",
      "+----+----------+-------------+\n",
      "|0   |384       |29           |\n",
      "|1   |322       |26           |\n",
      "|2   |332       |23           |\n",
      "+----+----------+-------------+\n",
      "\n",
      "3 item(s) found. Query executed in 0.013 sec(s).\n"
     ]
    }
   ],
   "source": [
    "# Find the 3 Customers who made more reviews:\n",
    "\n",
    "/oc \"\n",
    "SELECT \n",
    "  OrderedId as CustomerId,\n",
    "  out('MadeReview').size() AS ReviewNumbers \n",
    "FROM Customers \n",
    "ORDER BY ReviewNumbers DESC \n",
    "LIMIT 3\n",
    "\""
   ]
  },
  {
   "cell_type": "markdown",
   "metadata": {},
   "source": [
    "## Recommendations"
   ]
  },
  {
   "cell_type": "markdown",
   "metadata": {},
   "source": [
    "### &nbsp;&nbsp;&nbsp;  Example 1\n",
    "\n",
    "https://orientdb.com/docs/3.0.x/gettingstarted/demodb/queries/DemoDB-Queries-Recommendations.html#example-1\n"
   ]
  },
  {
   "cell_type": "code",
   "execution_count": 83,
   "metadata": {},
   "outputs": [
    {
     "name": "stdout",
     "output_type": "stream",
     "text": [
      "\n",
      "OrientDB console v.3.1.0-SNAPSHOT - Veloce (build f02ad980bcf5db727497e5877fc12898d8a5f31e, branch develop) https://www.orientdb.com\n",
      "Type 'help' to display all the supported commands.\n",
      "Connecting to database [remote:orientdb/demodb] with user 'admin'...OK\n",
      "+----+-------------------+\n",
      "|#   |friendOfFriend.Name|\n",
      "+----+-------------------+\n",
      "|0   |Matthew            |\n",
      "|1   |Roxie              |\n",
      "|2   |Antonio            |\n",
      "|3   |Maurice            |\n",
      "|4   |Patrick            |\n",
      "|5   |Abbie              |\n",
      "|6   |Kenneth            |\n",
      "|7   |Bernard            |\n",
      "|8   |Marie              |\n",
      "|9   |Leonard            |\n",
      "|10  |Polly              |\n",
      "|11  |Roger              |\n",
      "|12  |Lulu               |\n",
      "|13  |Brian              |\n",
      "|14  |Harvey             |\n",
      "|15  |Georgia            |\n",
      "|16  |Jon                |\n",
      "|17  |Rachel             |\n",
      "|18  |Rosalie            |\n",
      "|19  |Harriet            |\n",
      "+----+-------------------+\n",
      "LIMIT EXCEEDED: resultset contains more items not displayed (limit=20)\n",
      "\n",
      "20 item(s) found. Query executed in 0.077 sec(s).\n"
     ]
    }
   ],
   "source": [
    "# Recommend some friends to Profile 'Isabella Gomez' (friends of friends):\n",
    "\n",
    "/oc \"\n",
    "MATCH \n",
    "  {class: Profiles, as: profile, where: (Name = 'Isabella' AND Surname='Gomez')}-HasFriend-{as: friend},\n",
    "  {as: friend}-HasFriend-{as: friendOfFriend, where: (\\$matched.profile not in \\$currentMatch.both('HasFriend') and \\$matched.profile != \\$currentMatch)} \n",
    "RETURN DISTINCT friendOfFriend.Name\n",
    "\""
   ]
  },
  {
   "cell_type": "markdown",
   "metadata": {},
   "source": [
    "### &nbsp;&nbsp;&nbsp;  Example 2\n",
    "\n",
    "https://orientdb.com/docs/3.0.x/gettingstarted/demodb/queries/DemoDB-Queries-Recommendations.html#example-2"
   ]
  },
  {
   "cell_type": "code",
   "execution_count": 84,
   "metadata": {},
   "outputs": [
    {
     "name": "stdout",
     "output_type": "stream",
     "text": [
      "\n",
      "OrientDB console v.3.1.0-SNAPSHOT - Veloce (build f02ad980bcf5db727497e5877fc12898d8a5f31e, branch develop) https://www.orientdb.com\n",
      "Type 'help' to display all the supported commands.\n",
      "Connecting to database [remote:orientdb/demodb] with user 'admin'...OK\n",
      "+----+-------+---------+----+-----+------+--------+---------+---------+---------+---------+---------+---------+---------+---------+---------+---------+---------+---------+---------+---------+---------+---------+---------+---------+---------+---------+\n",
      "|#   |@RID   |@CLASS   |Id  |Type |Gender|Surname |OrderedId|Phone    |in_HasRev|Bio      |in_HasPro|in_MadeRe|out_HasPr|in_HasCus|out_HasFr|out_IsFro|Name     |out_MadeR|Email    |out_HasSt|out_HasEa|out_HasRe|out_HasVi|in_HasSta|Text     |in_HasFri|\n",
      "+----+-------+---------+----+-----+------+--------+---------+---------+---------+---------+---------+---------+---------+---------+---------+---------+---------+---------+---------+---------+---------+---------+---------+---------+---------+---------+\n",
      "|0   |#37:0  |Customers|    |     |      |        |1        |+14008...|         |         |         |         |[#53:0]  |[#55:0]  |         |[#43:0]  |         |         |         |[#47:0]  |[#49:0...|         |[#51:0...|         |         |         |\n",
      "|1   |#17:4  |Profiles |9   |     |Male  |OrientDB|         |         |         |Orient...|[#53:0]  |         |         |         |[#61:2...|         |Colin    |         |colin@...|         |         |         |         |         |         |[#62:3...|\n",
      "|2   |#18:4  |Profiles |10  |     |Male  |OrientDB|         |         |         |Orient...|[#53:2]  |         |         |         |[#61:27] |         |Andrey   |         |andrey...|         |         |         |         |         |         |[#61:4...|\n",
      "|3   |#37:2  |Customers|    |     |      |        |5        |+16946...|         |         |         |         |[#53:2]  |[#56:51] |         |[#43:2]  |         |[#59:2...|         |[#47:6...|[#49:1...|         |[#52:2...|         |         |         |\n",
      "|4   |#24:310|Hotels   |622 |hotel|      |        |         |         |         |         |         |         |         |         |         |         |Hotel ...|         |         |         |         |[#57:1...|         |[#48:6...|         |         |\n",
      "|5   |#39:239|Reviews  |479 |     |      |        |         |         |[#57:239]|         |         |[#59:239]|         |         |         |         |         |         |         |         |         |         |         |         |This i...|         |\n",
      "|6   |#37:0  |Customers|    |     |      |        |1        |+14008...|         |         |         |         |[#53:0]  |[#55:0]  |         |[#43:0]  |         |         |         |[#47:0]  |[#49:0...|         |[#51:0...|         |         |         |\n",
      "|7   |#17:4  |Profiles |9   |     |Male  |OrientDB|         |         |         |Orient...|[#53:0]  |         |         |         |[#61:2...|         |Colin    |         |colin@...|         |         |         |         |         |         |[#62:3...|\n",
      "|8   |#18:4  |Profiles |10  |     |Male  |OrientDB|         |         |         |Orient...|[#53:2]  |         |         |         |[#61:27] |         |Andrey   |         |andrey...|         |         |         |         |         |         |[#61:4...|\n",
      "|9   |#37:2  |Customers|    |     |      |        |5        |+16946...|         |         |         |         |[#53:2]  |[#56:51] |         |[#43:2]  |         |[#59:2...|         |[#47:6...|[#49:1...|         |[#52:2...|         |         |         |\n",
      "|10  |#23:21 |Hotels   |43  |hotel|      |        |         |         |         |         |         |         |         |         |         |         |Alberg...|         |         |         |         |[#58:318]|         |[#47:7...|         |         |\n",
      "|11  |#40:318|Reviews  |638 |     |      |        |         |         |[#58:318]|         |         |[#60:318]|         |         |         |         |         |         |         |         |         |         |         |         |This i...|         |\n",
      "+----+-------+---------+----+-----+------+--------+---------+---------+---------+---------+---------+---------+---------+---------+---------+---------+---------+---------+---------+---------+---------+---------+---------+---------+---------+---------+\n",
      "\n",
      "12 item(s) found. Query executed in 0.11 sec(s).\n"
     ]
    }
   ],
   "source": [
    "# Recommend some Hotels to Customer with OrderedId 1:\n",
    "\n",
    "/oc \"\n",
    "MATCH \n",
    "  {Class: Customers, as: customer, where: (OrderedId=1)}-HasProfile->{class: Profiles, as: profile},\n",
    "  {as: profile}-HasFriend->{class: Profiles, as: friend},\n",
    "  {as: friend}<-HasProfile-{Class: Customers, as: customerFriend},\n",
    "  {as: customerFriend}-HasStayed->{Class: Hotels, as: hotel},\n",
    "  {as: customerFriend}-MadeReview->{Class: Reviews, as: review},\n",
    "  {as: hotel}-HasReview->{as: review}\n",
    "RETURN \\$pathelements\n",
    "\""
   ]
  },
  {
   "cell_type": "markdown",
   "metadata": {},
   "source": [
    "## Business Opportunities"
   ]
  },
  {
   "cell_type": "markdown",
   "metadata": {},
   "source": [
    "### &nbsp;&nbsp;&nbsp;  Example 1\n",
    "\n",
    "https://orientdb.com/docs/3.0.x/gettingstarted/demodb/queries/DemoDB-Queries-Business-Opportunities.html#example-1\n"
   ]
  },
  {
   "cell_type": "code",
   "execution_count": 109,
   "metadata": {},
   "outputs": [
    {
     "name": "stdout",
     "output_type": "stream",
     "text": [
      "CONNECT remote:orientdb/demodb admin admin;\n",
      "SELECT   @Rid as Friend_RID,   Name as Friend_Name,   Surname as Friend_Surname FROM (  SELECT expand(customerFriend)   FROM (    MATCH {Class:Customers, as: customer, where:(OrderedId=1)}-HasProfile-{Class:Profiles, as: profile}-HasFriend-{Class:Profiles, as: customerFriend} RETURN customerFriend  )) WHERE in('HasProfile').size()=0ORDER BY Friend_Name ASC========= debug\n",
      "\n",
      "OrientDB console v.3.1.0-SNAPSHOT - Veloce (build f02ad980bcf5db727497e5877fc12898d8a5f31e, branch develop) https://www.orientdb.com\n",
      "Type 'help' to display all the supported commands.\n",
      "Connecting to database [remote:orientdb/demodb] with user 'admin'...OK\n",
      "+----+----------+-----------+--------------+\n",
      "|#   |Friend_RID|Friend_Name|Friend_Surname|\n",
      "+----+----------+-----------+--------------+\n",
      "|0   |#17:3     |Emanuele   |OrientDB      |\n",
      "|1   |#18:1     |Enrico     |OrientDB      |\n",
      "|2   |#18:2     |Gabriele   |OrientDB      |\n",
      "|3   |#18:3     |Paolo      |OrientDB      |\n",
      "|4   |#17:5     |Sergey     |OrientDB      |\n",
      "+----+----------+-----------+--------------+\n",
      "\n",
      "5 item(s) found. Query executed in 0.038 sec(s).\n"
     ]
    }
   ],
   "source": [
    "# Find all the Friends of Customer identified with OrderedId 1 that are not Customers (so that a product can be proposed):\n",
    "\n",
    "/oc d \"\n",
    "SELECT \n",
    "  @Rid as Friend_RID, \n",
    "  Name as Friend_Name, \n",
    "  Surname as Friend_Surname \n",
    "FROM (\n",
    "  SELECT expand(customerFriend) \n",
    "  FROM (\n",
    "    MATCH {Class:Customers, as: customer, where:(OrderedId=1)}-HasProfile-{Class:Profiles, as: profile}-HasFriend-{Class:Profiles, as: customerFriend} RETURN customerFriend\n",
    "  )\n",
    ") \n",
    "WHERE in('HasProfile').size()=0\n",
    "ORDER BY Friend_Name ASC\n",
    "\""
   ]
  },
  {
   "cell_type": "markdown",
   "metadata": {},
   "source": [
    "### &nbsp;&nbsp;&nbsp;  Example 2\n",
    "\n",
    "https://orientdb.com/docs/3.0.x/gettingstarted/demodb/queries/DemoDB-Queries-Business-Opportunities.html#example-2"
   ]
  },
  {
   "cell_type": "code",
   "execution_count": 116,
   "metadata": {},
   "outputs": [
    {
     "name": "stdout",
     "output_type": "stream",
     "text": [
      "\n",
      "OrientDB console v.3.1.0-SNAPSHOT - Veloce (build f02ad980bcf5db727497e5877fc12898d8a5f31e, branch develop) https://www.orientdb.com\n",
      "Type 'help' to display all the supported commands.\n",
      "Connecting to database [remote:orientdb/demodb] with user 'admin'...OK\n",
      "+----+-------+--------+----+------+--------+---------+---------+----------+-----------------------+-------------------------+-------------------------------------+\n",
      "|#   |@RID   |@CLASS  |Id  |Gender|Surname |Name     |Birthday |Email     |out_HasFriend          |in_HasFriend             |Bio                                  |\n",
      "+----+-------+--------+----+------+--------+---------+---------+----------+-----------------------+-------------------------+-------------------------------------+\n",
      "|0   |#17:5  |Profiles|11  |Male  |OrientDB|Sergey   |         |sergey@...|                       |[#62:4,#61:9,#61:13,#6...|OrientDB Team                        |\n",
      "|1   |#18:1  |Profiles|4   |Male  |OrientDB|Enrico   |         |enrico@...|[#62:13,#61:14,#62:1...|[#61:1,#62:5,#62:9]      |OrientDB Team                        |\n",
      "|2   |#18:2  |Profiles|6   |Male  |OrientDB|Gabriele |         |gabriel...|[#61:20,#62:20,#61:2...|[#61:2,#62:6,#62:10,#6...|OrientDB Team                        |\n",
      "|3   |#17:3  |Profiles|7   |Male  |OrientDB|Emanuele |         |emanuel...|[#62:22,#61:23,#62:2...|[#62:2,#61:7,#61:11,#6...|OrientDB Team                        |\n",
      "|4   |#18:3  |Profiles|8   |Male  |OrientDB|Paolo    |         |paolo@e...|[#62:24,#61:25,#62:25] |[#61:3,#62:7,#62:11,#6...|OrientDB Team                        |\n",
      "|5   |#17:417|Profiles|835 |Male  |Colon   |Henrietta|1952-0...|laeba@i...|[#62:287,#61:288,#62...|                         |Sevuhe fiuni gupwo mak irota sopeh...|\n",
      "|6   |#17:318|Profiles|637 |Male  |Austin  |Richard  |1953-0...|lopcire...|[#62:486]              |[#61:284,#61:449,#62:807]|Ubor edad ocrone mib cicehija mahu...|\n",
      "|7   |#17:323|Profiles|647 |Male  |Castillo|Willie   |1960-0...|eluna@m...|[#61:663]              |[#62:355]                |Ganuh wacul hodnab loibha sat vihe...|\n",
      "|8   |#18:23 |Profiles|48  |Male  |Lane    |Logan    |1973-0...|cusnab@...|[#62:709,#61:710]      |[#62:426,#62:549,#61:7...|Lumi pusma velbu tabjacjij zo geki...|\n",
      "|9   |#17:369|Profiles|739 |Male  |Wade    |Hilda    |1950-0...|ujzupo@...|[#62:279,#61:280,#62...|[#61:31]                 |Naveje muw vebso kehladuw reviho c...|\n",
      "|10  |#18:305|Profiles|612 |Female|Ramos   |John     |1989-0...|em@ogef...|[#61:372]              |[#61:290]                |Guz besew ovjofmab ejjupes popnuta...|\n",
      "|11  |#17:265|Profiles|531 |Female|Guerrero|Max      |1973-0...|sejrewz...|[#62:263]              |[#62:117,#62:224]        |Hiadjin ko wevusow wa etuel sizeki...|\n",
      "|12  |#17:299|Profiles|599 |Male  |Higgins |Loretta  |1978-1...|zesgoec...|[#61:657,#62:657,#61...|[#61:151,#62:516,#62:5...|Cup lek jig ebadokta ot ruphez at ...|\n",
      "|13  |#18:155|Profiles|312 |Male  |Simpson |Alan     |1955-0...|uhionu@...|[#61:740,#62:740]      |[#61:98,#61:226,#62:31...|Zeodsuz ru zokit ufuvi razej dod b...|\n",
      "|14  |#17:149|Profiles|299 |Female|Marshall|Georgia  |1994-0...|wohwopa...|[#61:243,#62:243]      |[#61:128,#61:132]        |Je ruj painbub notamcul jaroh vuuj...|\n",
      "|15  |#17:398|Profiles|797 |Female|Townsend|Jesse    |1970-0...|ka@gowe...|[#62:497,#61:498,#62...|[#61:106,#61:524]        |Ciruf ne suh kazmadruh vohku gebar...|\n",
      "|16  |#18:39 |Profiles|80  |Female|Tran    |Charlie  |1995-1...|kadcah@...|[#61:713,#62:713,#61...|[#61:315,#61:346,#61:348]|Aha eje lakraw egifo temuzdeh manu...|\n",
      "|17  |#18:399|Profiles|800 |Female|Foster  |Viola    |1955-0...|us@lovk...|[#62:785,#61:786,#62...|[#61:615]                |Saag unu jier ruze er morpi ibcezo...|\n",
      "|18  |#18:397|Profiles|796 |Female|Ross    |Ina      |1962-0...|kipum@p...|[#61:392]              |[#62:31,#61:44,#61:156...|Enianu rokse gud zevner rutkanhal ...|\n",
      "|19  |#17:253|Profiles|507 |Male  |Obrien  |Ruby     |1970-0...|mat@pag...|[#61:261,#62:261,#61...|[#61:208]                |Fuwzi halpose ufnezim odi mioti am...|\n",
      "+----+-------+--------+----+------+--------+---------+---------+----------+-----------------------+-------------------------+-------------------------------------+\n",
      "LIMIT EXCEEDED: resultset contains more items not displayed (limit=20)\n",
      "\n",
      "20 item(s) found. Query executed in 0.305 sec(s).\n"
     ]
    }
   ],
   "source": [
    "# Find all the Customer Friends that are not Customers (so that a product can be proposed).\n",
    "\n",
    "/oc \"\n",
    "SELECT DISTINCT * FROM (\n",
    "  SELECT expand(customerFriend) \n",
    "  FROM ( \n",
    "    MATCH \n",
    "      {Class:Customers, as: customer}-HasProfile-{Class:Profiles, as: profile}-HasFriend-{Class:Profiles, as: customerFriend} \n",
    "    RETURN customerFriend\n",
    "  )\n",
    ") \n",
    "WHERE in('HasProfile').size()=0\n",
    "\""
   ]
  },
  {
   "cell_type": "code",
   "execution_count": 114,
   "metadata": {},
   "outputs": [
    {
     "name": "stdout",
     "output_type": "stream",
     "text": [
      "\n",
      "OrientDB console v.3.1.0-SNAPSHOT - Veloce (build f02ad980bcf5db727497e5877fc12898d8a5f31e, branch develop) https://www.orientdb.com\n",
      "Type 'help' to display all the supported commands.\n",
      "Connecting to database [remote:orientdb/demodb] with user 'admin'...OK\n",
      "+----+------+---------+----+----+------------------------+----------------------------------------+\n",
      "|#   |@RID  |@CLASS   |Id  |Code|Name                    |in_IsFromCountry                        |\n",
      "+----+------+---------+----+----+------------------------+----------------------------------------+\n",
      "|0   |#15:0 |Countries|1   |AD  |Andorra                 |                                        |\n",
      "|1   |#15:1 |Countries|3   |AF  |Afghanistan             |[#44:108,#44:125]                       |\n",
      "|2   |#15:2 |Countries|5   |AI  |Anguilla                |[#43:8]                                 |\n",
      "|3   |#15:3 |Countries|7   |AM  |Armenia                 |[#43:26,#43:29,#44:119]                 |\n",
      "|4   |#15:4 |Countries|9   |AQ  |Antarctica              |[#44:184]                               |\n",
      "|5   |#15:5 |Countries|11  |AS  |American Samoa          |                                        |\n",
      "|6   |#15:6 |Countries|13  |AU  |Australia               |                                        |\n",
      "|7   |#15:7 |Countries|15  |AX  |��land Islands          |[#44:98,#44:103]                        |\n",
      "|8   |#15:8 |Countries|17  |BA  |Bosnia and Herzegovina  |[#44:81]                                |\n",
      "|9   |#15:9 |Countries|19  |BD  |Bangladesh              |[#43:83,#43:103,#44:111,#44:138,#44:176]|\n",
      "|10  |#15:10|Countries|21  |BF  |Burkina Faso            |[#44:33,#43:88]                         |\n",
      "|11  |#15:11|Countries|23  |BH  |Bahrain                 |[#43:22,#43:104]                        |\n",
      "|12  |#15:12|Countries|25  |BJ  |Benin                   |                                        |\n",
      "|13  |#15:13|Countries|27  |BM  |Bermuda                 |[#43:18,#43:157]                        |\n",
      "|14  |#15:14|Countries|29  |BO  |Bolivia                 |                                        |\n",
      "|15  |#15:15|Countries|31  |BR  |Brazil                  |                                        |\n",
      "|16  |#15:16|Countries|33  |BT  |Bhutan                  |                                        |\n",
      "|17  |#15:17|Countries|35  |BW  |Botswana                |[#43:132]                               |\n",
      "|18  |#15:18|Countries|37  |BZ  |Belize                  |                                        |\n",
      "|19  |#15:19|Countries|39  |CC  |Cocos (Keeling) Islands |[#44:194]                               |\n",
      "+----+------+---------+----+----+------------------------+----------------------------------------+\n",
      "LIMIT EXCEEDED: resultset contains more items not displayed (limit=20)\n",
      "\n",
      "20 item(s) found. Query executed in 0.326 sec(s).\n"
     ]
    }
   ],
   "source": [
    "/oc \"select * from V\""
   ]
  },
  {
   "cell_type": "markdown",
   "metadata": {},
   "source": [
    "## Polymorphism\n"
   ]
  },
  {
   "cell_type": "markdown",
   "metadata": {},
   "source": [
    "### &nbsp;&nbsp;&nbsp;  Example 1\n",
    "\n",
    "https://orientdb.com/docs/3.0.x/gettingstarted/demodb/queries/DemoDB-Queries-Polymorphism.html#example-1"
   ]
  },
  {
   "cell_type": "code",
   "execution_count": 117,
   "metadata": {},
   "outputs": [
    {
     "name": "stdout",
     "output_type": "stream",
     "text": [
      "\n",
      "OrientDB console v.3.1.0-SNAPSHOT - Veloce (build f02ad980bcf5db727497e5877fc12898d8a5f31e, branch develop) https://www.orientdb.com\n",
      "Type 'help' to display all the supported commands.\n",
      "Connecting to database [remote:orientdb/demodb] with user 'admin'...OK\n",
      "+----+-------+---------+----+---------+---------+---------+---------+---------+---------+---------+---------+---------+---------+---------+---------+---------+---------+\n",
      "|#   |@RID   |@CLASS   |Id  |OrderedId|Phone    |out_HasSt|out_HasPr|in_HasCus|out_IsFro|out_HasRe|out_HasEa|Type     |in_HasSta|out_HasVi|Name     |in_HasEat|in_HasVis|\n",
      "+----+-------+---------+----+---------+---------+---------+---------+---------+---------+---------+---------+---------+---------+---------+---------+---------+---------+\n",
      "|0   |#37:0  |Customers|    |1        |+14008...|[#47:0]  |[#53:0]  |[#55:0]  |[#43:0]  |         |[#49:0...|         |         |[#51:0...|         |         |         |\n",
      "|1   |#31:63 |Castles  |127 |         |         |         |         |         |         |         |         |castle   |         |         |Ch��te...|         |[#51:0...|\n",
      "|2   |#37:0  |Customers|    |1        |+14008...|[#47:0]  |[#53:0]  |[#55:0]  |[#43:0]  |         |[#49:0...|         |         |[#51:0...|         |         |         |\n",
      "|3   |#35:23 |Archae...|47  |         |         |         |         |         |         |         |         |archae...|         |         |Incisi...|         |[#52:0...|\n",
      "|4   |#37:0  |Customers|    |1        |+14008...|[#47:0]  |[#53:0]  |[#55:0]  |[#43:0]  |         |[#49:0...|         |         |[#51:0...|         |         |         |\n",
      "|5   |#30:30 |Monuments|62  |         |         |         |         |         |         |         |         |monument |         |         |Statua...|         |[#51:1...|\n",
      "|6   |#37:0  |Customers|    |1        |+14008...|[#47:0]  |[#53:0]  |[#55:0]  |[#43:0]  |         |[#49:0...|         |         |[#51:0...|         |         |         |\n",
      "|7   |#33:32 |Theatres |65  |         |         |         |         |         |         |         |         |theatre  |         |         |Teatro...|         |[#52:1...|\n",
      "|8   |#37:0  |Customers|    |1        |+14008...|[#47:0]  |[#53:0]  |[#55:0]  |[#43:0]  |         |[#49:0...|         |         |[#51:0...|         |         |         |\n",
      "|9   |#24:364|Hotels   |730 |         |         |         |         |         |         |         |         |alpine...|[#47:0...|         |Carrel   |         |         |\n",
      "|10  |#37:0  |Customers|    |1        |+14008...|[#47:0]  |[#53:0]  |[#55:0]  |[#43:0]  |         |[#49:0...|         |         |[#51:0...|         |         |         |\n",
      "|11  |#26:916|Restau...|1834|         |         |         |         |         |         |[#57:2...|         |pub      |         |         |Einsie...|[#49:0...|         |\n",
      "|12  |#37:0  |Customers|    |1        |+14008...|[#47:0]  |[#53:0]  |[#55:0]  |[#43:0]  |         |[#49:0...|         |         |[#51:0...|         |         |         |\n",
      "|13  |#25:549|Restau...|1099|         |         |         |         |         |         |[#58:229]|         |restau...|         |         |Baita ...|[#50:0...|         |\n",
      "|14  |#37:0  |Customers|    |1        |+14008...|[#47:0]  |[#53:0]  |[#55:0]  |[#43:0]  |         |[#49:0...|         |         |[#51:0...|         |         |         |\n",
      "|15  |#26:868|Restau...|1738|         |         |         |         |         |         |         |         |restau...|         |         |Locand...|[#49:1]  |         |\n",
      "+----+-------+---------+----+---------+---------+---------+---------+---------+---------+---------+---------+---------+---------+---------+---------+---------+---------+\n",
      "\n",
      "16 item(s) found. Query executed in 0.037 sec(s).\n"
     ]
    }
   ],
   "source": [
    "# Find all Locations (Services + Attractions) connected with Customer with OrderedId 1:\n",
    "\n",
    "/oc \"\n",
    "MATCH {class: Customers, as: customer, where: (OrderedId=1)}--{Class: Locations, as: location} \n",
    "RETURN \\$pathelements\n",
    "\""
   ]
  },
  {
   "cell_type": "markdown",
   "metadata": {},
   "source": [
    "### &nbsp;&nbsp;&nbsp;  Example 2\n",
    "\n",
    "https://orientdb.com/docs/3.0.x/gettingstarted/demodb/queries/DemoDB-Queries-Polymorphism.html#example-2"
   ]
  },
  {
   "cell_type": "code",
   "execution_count": 119,
   "metadata": {},
   "outputs": [
    {
     "name": "stdout",
     "output_type": "stream",
     "text": [
      "\n",
      "OrientDB console v.3.1.0-SNAPSHOT - Veloce (build f02ad980bcf5db727497e5877fc12898d8a5f31e, branch develop) https://www.orientdb.com\n",
      "Type 'help' to display all the supported commands.\n",
      "Connecting to database [remote:orientdb/demodb] with user 'admin'...OK\n",
      "+----+---------+----------------------+-----------+-------------+\n",
      "|#   |Hotel_RID|Hotel_Name            |Hotel_Type |ReviewNumbers|\n",
      "+----+---------+----------------------+-----------+-------------+\n",
      "|0   |#24:481  |Hotel Felicyta        |hotel      |5            |\n",
      "|1   |#23:209  |Rifugio Pian Cavallone|guest_house|3            |\n",
      "|2   |#23:210  |Bellarta              |hotel      |3            |\n",
      "+----+---------+----------------------+-----------+-------------+\n",
      "\n",
      "3 item(s) found. Query executed in 0.027 sec(s).\n"
     ]
    }
   ],
   "source": [
    "# Find the 3 Hotels that have most reviews:\n",
    "\n",
    "/oc \"\n",
    "SELECT \n",
    "  @rid as Hotel_RID,\n",
    "  Name as Hotel_Name,\n",
    "  Type as Hotel_Type,\n",
    "  out('HasReview').size() AS ReviewNumbers \n",
    "FROM Hotels \n",
    "ORDER BY ReviewNumbers DESC \n",
    "LIMIT 3\n",
    "\""
   ]
  },
  {
   "cell_type": "markdown",
   "metadata": {},
   "source": [
    "## Shortest Paths"
   ]
  },
  {
   "cell_type": "markdown",
   "metadata": {},
   "source": [
    "### &nbsp;&nbsp;&nbsp;  Example 1\n",
    "\n",
    "https://orientdb.com/docs/3.0.x/gettingstarted/demodb/queries/DemoDB-Queries-Shortest-Paths.html#example-1"
   ]
  },
  {
   "cell_type": "code",
   "execution_count": 120,
   "metadata": {},
   "outputs": [
    {
     "name": "stdout",
     "output_type": "stream",
     "text": [
      "\n",
      "OrientDB console v.3.1.0-SNAPSHOT - Veloce (build f02ad980bcf5db727497e5877fc12898d8a5f31e, branch develop) https://www.orientdb.com\n",
      "Type 'help' to display all the supported commands.\n",
      "Connecting to database [remote:orientdb/demodb] with user 'admin'...OK\n",
      "+----+-------+---------+----+----+------+--------+---------+---------+---------+---------+---------+---------+---------+---------+---------+---------+---------+---------+---------+---------+---------+\n",
      "|#   |@RID   |@CLASS   |Id  |Code|Gender|Surname |OrderedId|Phone    |Name     |in_HasPro|Bio      |out_HasSt|out_HasPr|in_HasCus|in_IsFrom|Email    |out_IsFro|out_HasEa|out_HasVi|in_HasFri|out_HasFr|\n",
      "+----+-------+---------+----+----+------+--------+---------+---------+---------+---------+---------+---------+---------+---------+---------+---------+---------+---------+---------+---------+---------+\n",
      "|0   |#17:1  |Profiles |3   |    |Male  |OrientDB|         |         |Santo    |[#54:2]  |Orient...|         |         |         |         |santo@...|         |         |         |[#62:0...|[#62:9...|\n",
      "|1   |#17:4  |Profiles |9   |    |Male  |OrientDB|         |         |Colin    |[#53:0]  |Orient...|         |         |         |         |colin@...|         |         |         |[#62:3...|[#61:2...|\n",
      "|2   |#37:0  |Customers|    |    |      |        |1        |+14008...|         |         |         |[#47:0]  |[#53:0]  |[#55:0]  |         |         |[#43:0]  |[#49:0...|[#51:0...|         |         |\n",
      "|3   |#15:116|Countries|233 |US  |      |        |         |         |United...|         |         |         |         |         |[#43:0]  |         |         |         |         |         |         |\n",
      "+----+-------+---------+----+----+------+--------+---------+---------+---------+---------+---------+---------+---------+---------+---------+---------+---------+---------+---------+---------+---------+\n",
      "\n",
      "4 item(s) found. Query executed in 0.054 sec(s).\n"
     ]
    }
   ],
   "source": [
    "# Find the shortest path between the Profile 'Santo' and the Country 'United States':\n",
    "\n",
    "/oc \"\n",
    "SELECT expand(path) FROM (\n",
    "  SELECT shortestPath(\\$from, \\$to) AS path \n",
    "  LET \n",
    "    \\$from = (SELECT FROM Profiles WHERE Name='Santo' and Surname='OrientDB'), \n",
    "    \\$to = (SELECT FROM Countries WHERE Name='United States') \n",
    "  UNWIND path\n",
    ")\n",
    "\""
   ]
  },
  {
   "cell_type": "markdown",
   "metadata": {},
   "source": [
    "### &nbsp;&nbsp;&nbsp;  Example 2\n",
    "\n",
    "\n",
    "https://orientdb.com/docs/3.0.x/gettingstarted/demodb/queries/DemoDB-Queries-Shortest-Paths.html#example-2"
   ]
  },
  {
   "cell_type": "code",
   "execution_count": 122,
   "metadata": {
    "scrolled": true
   },
   "outputs": [
    {
     "name": "stdout",
     "output_type": "stream",
     "text": [
      "\n",
      "OrientDB console v.3.1.0-SNAPSHOT - Veloce (build f02ad980bcf5db727497e5877fc12898d8a5f31e, branch develop) https://www.orientdb.com\n",
      "Type 'help' to display all the supported commands.\n",
      "Connecting to database [remote:orientdb/demodb] with user 'admin'...OK\n",
      "+----+-------+---------+----+------+--------+---------+---------+---------+---------+---------+---------+---------+---------+---------+---------+---------+---------+---------+---------+---------+---------+\n",
      "|#   |@RID   |@CLASS   |Id  |Gender|Surname |OrderedId|Type     |Phone    |in_HasFri|in_HasPro|Bio      |Name     |out_HasPr|in_HasEat|Email    |out_IsFro|out_HasSt|in_HasCus|out_HasFr|out_HasEa|out_HasVi|\n",
      "+----+-------+---------+----+------+--------+---------+---------+---------+---------+---------+---------+---------+---------+---------+---------+---------+---------+---------+---------+---------+---------+\n",
      "|0   |#17:1  |Profiles |3   |Male  |OrientDB|         |         |         |[#62:0...|[#54:2]  |Orient...|Santo    |         |         |santo@...|         |         |         |[#62:9...|         |         |\n",
      "|1   |#18:0  |Profiles |2   |Male  |OrientDB|         |         |         |[#61:0]  |[#54:1]  |Orient...|Luigi    |         |         |luigi@...|         |         |         |[#61:5...|         |         |\n",
      "|2   |#38:1  |Customers|    |      |        |4        |         |+13198...|         |         |         |         |[#54:1]  |         |         |[#44:1]  |[#47:4...|[#56:0...|         |[#49:9...|[#52:1...|\n",
      "|3   |#26:256|Restau...|514 |      |        |         |restau...|         |         |         |         |Malga ...|         |[#49:1...|         |         |         |         |         |         |         |\n",
      "+----+-------+---------+----+------+--------+---------+---------+---------+---------+---------+---------+---------+---------+---------+---------+---------+---------+---------+---------+---------+---------+\n",
      "\n",
      "4 item(s) found. Query executed in 0.048 sec(s).\n"
     ]
    }
   ],
   "source": [
    "# Find the shortest path between the Profile 'Santo' and the Restaurant 'Malga Granezza':\n",
    "\n",
    "/oc \"\n",
    "SELECT expand(path) FROM (\n",
    "  SELECT shortestPath(\\$from,\\$to) AS path \n",
    "  LET \n",
    "    \\$from = (SELECT FROM Profiles WHERE Name='Santo' and Surname='OrientDB'), \n",
    "    \\$to = (SELECT FROM Restaurants WHERE Name='Malga Granezza') \n",
    "  UNWIND path\n",
    ")\n",
    "\""
   ]
  },
  {
   "cell_type": "markdown",
   "metadata": {},
   "source": [
    "## Traverses"
   ]
  },
  {
   "cell_type": "markdown",
   "metadata": {},
   "source": [
    "### &nbsp;&nbsp;&nbsp;  Example 1\n",
    "\n",
    "https://orientdb.com/docs/3.0.x/gettingstarted/demodb/queries/DemoDB-Queries-Traverses.html#example-1"
   ]
  },
  {
   "cell_type": "code",
   "execution_count": 123,
   "metadata": {},
   "outputs": [
    {
     "name": "stdout",
     "output_type": "stream",
     "text": [
      "\n",
      "OrientDB console v.3.1.0-SNAPSHOT - Veloce (build f02ad980bcf5db727497e5877fc12898d8a5f31e, branch develop) https://www.orientdb.com\n",
      "Type 'help' to display all the supported commands.\n",
      "Connecting to database [remote:orientdb/demodb] with user 'admin'...OK\n",
      "+----+------+---------+----+-----+-----+------+------+--------+---------+---------+---------+----------+---------------------------+---------------------------------+\n",
      "|#   |@RID  |@CLASS   |Id  |in   |out  |Name  |Gender|Surname |From     |Bio      |in_HasPro|Email     |out_HasFriend              |in_HasFriend                     |\n",
      "+----+------+---------+----+-----+-----+------+------+--------+---------+---------+---------+----------+---------------------------+---------------------------------+\n",
      "|0   |#17:1 |Profiles |3   |     |     |Santo |Male  |OrientDB|         |Orient...|[#54:2]  |santo@e...|[#62:9,#61:10,#62:10,#61...|[#62:0,#61:5]                    |\n",
      "|1   |#62:11|HasFriend|    |#18:3|#17:1|      |      |        |2010-0...|         |         |          |                           |                                 |\n",
      "|2   |#18:3 |Profiles |8   |     |     |Paolo |Male  |OrientDB|         |Orient...|         |paolo@e...|[#62:24,#61:25,#62:25]     |[#61:3,#62:7,#62:11,#61:15,#61...|\n",
      "|3   |#62:20|HasFriend|    |#18:3|#18:2|      |      |        |2010-0...|         |         |          |                           |                                 |\n",
      "|4   |#62:22|HasFriend|    |#18:3|#17:3|      |      |        |8        |         |         |          |                           |                                 |\n",
      "|5   |#61:15|HasFriend|    |#18:3|#18:1|      |      |        |2010-0...|         |         |          |                           |                                 |\n",
      "|6   |#62:24|HasFriend|    |#17:4|#18:3|      |      |        |8        |         |         |          |                           |                                 |\n",
      "|7   |#61:3 |HasFriend|    |#18:3|#17:0|      |      |        |2010-0...|         |         |          |                           |                                 |\n",
      "|8   |#62:7 |HasFriend|    |#18:3|#18:0|      |      |        |2010-0...|         |         |          |                           |                                 |\n",
      "|9   |#61:25|HasFriend|    |#18:4|#18:3|      |      |        |8        |         |         |          |                           |                                 |\n",
      "|10  |#62:25|HasFriend|    |#17:5|#18:3|      |      |        |2010-0...|         |         |          |                           |                                 |\n",
      "|11  |#61:18|HasFriend|    |#18:3|#17:2|      |      |        |2010-0...|         |         |          |                           |                                 |\n",
      "|12  |#61:13|HasFriend|    |#17:5|#17:1|      |      |        |2010-0...|         |         |          |                           |                                 |\n",
      "|13  |#17:5 |Profiles |11  |     |     |Sergey|Male  |OrientDB|         |Orient...|         |sergey@...|                           |[#62:4,#61:9,#61:13,#62:16,#62...|\n",
      "|14  |#62:4 |HasFriend|    |#17:5|#17:0|      |      |        |2010-0...|         |         |          |                           |                                 |\n",
      "|15  |#61:22|HasFriend|    |#17:5|#18:2|      |      |        |8        |         |         |          |                           |                                 |\n",
      "|16  |#61:24|HasFriend|    |#17:5|#17:3|      |      |        |8        |         |         |          |                           |                                 |\n",
      "|17  |#62:26|HasFriend|    |#17:5|#17:4|      |      |        |2010-0...|         |         |          |                           |                                 |\n",
      "|18  |#62:19|HasFriend|    |#17:5|#17:2|      |      |        |2010-0...|         |         |          |                           |                                 |\n",
      "|19  |#62:16|HasFriend|    |#17:5|#18:1|      |      |        |2010-0...|         |         |          |                           |                                 |\n",
      "+----+------+---------+----+-----+-----+------+------+--------+---------+---------+---------+----------+---------------------------+---------------------------------+\n",
      "LIMIT EXCEEDED: resultset contains more items not displayed (limit=20)\n",
      "\n",
      "85 item(s) found. Traverse executed in 0.135 sec(s).\n"
     ]
    }
   ],
   "source": [
    "# Traverse everything from Profile 'Santo' up to depth three:\n",
    "\n",
    "/oc \"\n",
    "TRAVERSE * FROM (\n",
    "  SELECT FROM Profiles WHERE Name='Santo' and Surname='OrientDB'\n",
    ") MAXDEPTH 3\n",
    "\""
   ]
  },
  {
   "cell_type": "markdown",
   "metadata": {},
   "source": [
    "### &nbsp;&nbsp;&nbsp;  Example 2\n",
    "\n",
    "https://orientdb.com/docs/3.0.x/gettingstarted/demodb/queries/DemoDB-Queries-Traverses.html#example-2"
   ]
  },
  {
   "cell_type": "code",
   "execution_count": 124,
   "metadata": {},
   "outputs": [
    {
     "name": "stdout",
     "output_type": "stream",
     "text": [
      "\n",
      "OrientDB console v.3.1.0-SNAPSHOT - Veloce (build f02ad980bcf5db727497e5877fc12898d8a5f31e, branch develop) https://www.orientdb.com\n",
      "Type 'help' to display all the supported commands.\n",
      "Connecting to database [remote:orientdb/demodb] with user 'admin'...OK\n",
      "+----+-------+---------+----+----+-----+-------+-------+---------+---------+---------+---------+---------+---------+---------+---------+---------+---------+-------------+\n",
      "|#   |@RID   |@CLASS   |Id  |Code|Name |in     |out    |OrderedId|From     |Phone    |out_HasSt|out_HasPr|in_HasCus|out_IsFro|out_HasEa|in_IsFrom|out_MadeR|out_HasVisite|\n",
      "+----+-------+---------+----+----+-----+-------+-------+---------+---------+---------+---------+---------+---------+---------+---------+---------+---------+-------------+\n",
      "|0   |#16:54 |Countries|110 |IT  |Italy|       |       |         |         |         |         |         |         |         |         |[#44:0...|         |             |\n",
      "|1   |#43:1  |IsFrom...|    |    |     |#16:54 |#37:1  |         |         |         |         |         |         |         |         |         |         |             |\n",
      "|2   |#37:1  |Customers|    |    |     |       |       |3        |         |+15442...|[#48:3]  |[#53:1]  |[#55:204]|[#43:1]  |[#50:7...|         |[#59:1...|[#52:13,#5...|\n",
      "|3   |#50:7  |HasEaten |    |    |     |#26:32 |#37:1  |         |         |         |         |         |         |         |         |         |         |             |\n",
      "|4   |#55:204|HasCus...|    |    |     |#37:1  |#41:204|         |         |         |         |         |         |         |         |         |         |             |\n",
      "|5   |#51:16 |HasVis...|    |    |     |#35:3  |#37:1  |         |         |         |         |         |         |         |         |         |         |             |\n",
      "|6   |#52:16 |HasVis...|    |    |     |#30:27 |#37:1  |         |         |         |         |         |         |         |         |         |         |             |\n",
      "|7   |#60:190|MadeRe...|    |    |     |#40:190|#37:1  |         |         |         |         |         |         |         |         |         |         |             |\n",
      "|8   |#51:15 |HasVis...|    |    |     |#34:15 |#37:1  |         |         |         |         |         |         |         |         |         |         |             |\n",
      "|9   |#52:15 |HasVis...|    |    |     |#31:57 |#37:1  |         |         |         |         |         |         |         |         |         |         |             |\n",
      "|10  |#53:1  |HasPro...|    |    |     |#17:0  |#37:1  |         |2011-0...|         |         |         |         |         |         |         |         |             |\n",
      "|11  |#51:14 |HasVis...|    |    |     |#35:20 |#37:1  |         |         |         |         |         |         |         |         |         |         |             |\n",
      "|12  |#59:111|MadeRe...|    |    |     |#39:111|#37:1  |         |         |         |         |         |         |         |         |         |         |             |\n",
      "|13  |#52:14 |HasVis...|    |    |     |#30:51 |#37:1  |         |         |         |         |         |         |         |         |         |         |             |\n",
      "|14  |#49:8  |HasEaten |    |    |     |#26:782|#37:1  |         |         |         |         |         |         |         |         |         |         |             |\n",
      "|15  |#59:270|MadeRe...|    |    |     |#39:270|#37:1  |         |         |         |         |         |         |         |         |         |         |             |\n",
      "|16  |#52:13 |HasVis...|    |    |     |#32:25 |#37:1  |         |         |         |         |         |         |         |         |         |         |             |\n",
      "|17  |#50:8  |HasEaten |    |    |     |#25:53 |#37:1  |         |         |         |         |         |         |         |         |         |         |             |\n",
      "|18  |#48:3  |HasStayed|    |    |     |#24:422|#37:1  |         |         |         |         |         |         |         |         |         |         |             |\n",
      "|19  |#51:17 |HasVis...|    |    |     |#34:33 |#37:1  |         |         |         |         |         |         |         |         |         |         |             |\n",
      "+----+-------+---------+----+----+-----+-------+-------+---------+---------+---------+---------+---------+---------+---------+---------+---------+---------+-------------+\n",
      "LIMIT EXCEEDED: resultset contains more items not displayed (limit=20)\n",
      "\n",
      "135 item(s) found. Traverse executed in 0.088 sec(s).\n"
     ]
    }
   ],
   "source": [
    "# Traverse everything from Country 'Italy' up to depth three:\n",
    "\n",
    "/oc \"\n",
    "TRAVERSE * FROM (\n",
    "  SELECT FROM Countries WHERE Name='Italy'\n",
    ") MAXDEPTH 3\n",
    "\""
   ]
  }
 ],
 "metadata": {
  "kernelspec": {
   "display_name": "Bash",
   "language": "bash",
   "name": "bash"
  },
  "language_info": {
   "codemirror_mode": "shell",
   "file_extension": ".sh",
   "mimetype": "text/x-sh",
   "name": "bash"
  }
 },
 "nbformat": 4,
 "nbformat_minor": 2
}
