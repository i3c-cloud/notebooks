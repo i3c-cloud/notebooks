{
 "cells": [
  {
   "cell_type": "markdown",
   "metadata": {},
   "source": [
    "# Deployment pipeline\n",
    "\n",
    "\n",
    "Deployment pipeline will be served by Jenkins – below I described how Jenkis will know what and where\n",
    "to deploy.\n",
    "1. Jenkins will receive webhook from GitHub / Gitlab (Source control hosting service) from master\n",
    "branch\n",
    "2. Then will test the code in sonarcube or other similar tool used for Code Quality\n",
    "3. Later after succesfull build Jenkins will deploy application to Elastic Beanstalk using dedicated\n",
    "plugin which will deploy application directly to AWS"
   ]
  },
  {
   "cell_type": "markdown",
   "metadata": {},
   "source": [
    "## 1. We'll start from installing ebs-cli\n",
    "\n",
    "https://docs.aws.amazon.com/elasticbeanstalk/latest/dg/eb-cli3-install.html\n"
   ]
  },
  {
   "cell_type": "code",
   "execution_count": 2,
   "metadata": {},
   "outputs": [
    {
     "name": "stdout",
     "output_type": "stream",
     "text": [
      "Reading package lists... Done\n",
      "Building dependency tree       \n",
      "Reading state information... Done\n",
      "libffi-dev is already the newest version (3.2.1-8).\n",
      "unzip is already the newest version (6.0-21ubuntu1).\n",
      "zip is already the newest version (3.0-11build1).\n",
      "zlib1g-dev is already the newest version (1:1.2.11.dfsg-0ubuntu2).\n",
      "pandoc is already the newest version (1.19.2.4~dfsg-1build4).\n",
      "texlive is already the newest version (2017.20180305-1).\n",
      "texlive-xetex is already the newest version (2017.20180305-1).\n",
      "git is already the newest version (1:2.17.1-1ubuntu0.4).\n",
      "0 upgraded, 0 newly installed, 0 to remove and 4 not upgraded.\n",
      "git version 2.17.1\n"
     ]
    }
   ],
   "source": [
    "DEBIAN_FRONTEND=noninteractive apt-get install -y git zlib1g-dev libffi-dev zip unzip pandoc texlive texlive-xetex\n",
    "git --version"
   ]
  },
  {
   "cell_type": "code",
   "execution_count": 4,
   "metadata": {},
   "outputs": [
    {
     "name": "stdout",
     "output_type": "stream",
     "text": [
      "remote: Enumerating objects: 4, done.        \n",
      "remote: Counting objects: 100% (4/4), done.        \n",
      "remote: Compressing objects: 100% (2/2), done.        \n",
      "remote: Total 4 (delta 2), reused 3 (delta 2), pack-reused 0        \n",
      "Unpacking objects: 100% (4/4), done.\n",
      "From https://github.com/aws/aws-elastic-beanstalk-cli-setup\n",
      "   f9d448f..0011472  master     -> origin/master\n",
      " * [new branch]      AddTroubleshootingInstructions -> origin/AddTroubleshootingInstructions\n",
      "Updating f9d448f..0011472\n",
      "Fast-forward\n",
      " README.md | 52 +++++++++++++++++++++++++++++++++++++++-------------\n",
      " 1 file changed, 39 insertions(+), 13 deletions(-)\n"
     ]
    }
   ],
   "source": [
    "# cd to persistent folder (we're inside container) and clone ebs repo\n",
    "cd /data\n",
    "if [ ! -e aws-elastic-beanstalk-cli-setup ]; then\n",
    "    git clone https://github.com/aws/aws-elastic-beanstalk-cli-setup.git\n",
    "else\n",
    "    cd aws-elastic-beanstalk-cli-setup\n",
    "    git pull\n",
    "    cd ..\n",
    "fi"
   ]
  },
  {
   "cell_type": "code",
   "execution_count": 5,
   "metadata": {},
   "outputs": [
    {
     "name": "stdout",
     "output_type": "stream",
     "text": [
      "\n",
      "\u001b[7m==============================================\u001b[0m\n",
      "\u001b[7mI. Installing Python                          \u001b[0m\n",
      "\u001b[7m==============================================\u001b[0m\n",
      "\n",
      "*************************************************************\n",
      "1. Determining whether pyenv is already installed and in PATH\n",
      "*************************************************************\n",
      "    - pyenv was not found in PATH.\n",
      "\n",
      "*********************************************************\n",
      "2. Determining whether pyenv should be cloned from GitHub\n",
      "*********************************************************\n",
      "\n",
      "*********************************************************************************\n",
      "3. Cloning the pyenv GitHub project located at https://github.com/pyenv/pyenv.git\n",
      "*********************************************************************************\n",
      "Cloning into '/root/.pyenv-repository'...\n",
      "remote: Enumerating objects: 26, done.        \n",
      "remote: Counting objects: 100% (26/26), done.        \n",
      "remote: Compressing objects: 100% (19/19), done.        \n",
      "remote: Total 17324 (delta 6), reused 16 (delta 6), pack-reused 17298        \n",
      "Receiving objects: 100% (17324/17324), 3.39 MiB | 5.17 MiB/s, done.\n",
      "Resolving deltas: 100% (11793/11793), done.\n",
      "Switched to a new branch 'rel-1.2.9'\n",
      "\n",
      "*******************************************\n",
      "4. Temporarily export necessary pyenv paths\n",
      "*******************************************\n",
      "\n",
      "****************************************************************************\n",
      "5. Checking whether Python can be downloaded (through curl, wget, or aria2c)\n",
      "****************************************************************************\n",
      "\n",
      "**************************\n",
      "6. Installing Python 3.7.2\n",
      "**************************\n",
      "Downloading Python-3.7.2.tar.xz...\n",
      "-> https://www.python.org/ftp/python/3.7.2/Python-3.7.2.tar.xz\n",
      "Installing Python-3.7.2...\n",
      "\u001b[1mWARNING\u001b[m: The Python bz2 extension was not compiled. Missing the bzip2 lib?\n",
      "\u001b[1mWARNING\u001b[m: The Python readline extension was not compiled. Missing the GNU readline lib?\n",
      "\u001b[1mWARNING\u001b[m: The Python sqlite3 extension was not compiled. Missing the SQLite3 lib?\n",
      "Installed Python-3.7.2 to /root/.pyenv/versions/3.7.2\n",
      "\n",
      "   \u001b[38;5;2m - Python 3.7.2 is installed at /root/.pyenv/versions/3.7.2/bin\u001b[0m\n",
      "   \n",
      "   \u001b[38;5;11m - NOTE: To complete installation, ensure `python` is in PATH. You can ensure this by executing:\u001b[0m\n",
      "   \n",
      "   \u001b[38;5;11m   1. Bash:\u001b[0m\n",
      "   \n",
      "   \u001b[38;5;11m      echo 'export PATH=/root/.pyenv/versions/3.7.2/bin:$PATH' >> /root/.bash_profile && source /root/.bash_profile\u001b[0m\n",
      "   \n",
      "   \u001b[38;5;11m   2. Zsh:\u001b[0m\n",
      "   \n",
      "   \u001b[38;5;11m      echo 'export PATH=/root/.pyenv/versions/3.7.2/bin:$PATH' >> /root/.zshrc && source /root/.zshrc\u001b[0m\n",
      "\n",
      "******************************************************************\n",
      "7. Installing virtualenv using /root/.pyenv/versions/3.7.2/bin/pip\n",
      "******************************************************************\n",
      "Collecting virtualenv\n",
      "\u001b[?25l  Downloading https://files.pythonhosted.org/packages/ca/ee/8375c01412abe6ff462ec80970e6bb1c4308724d4366d7519627c98691ab/virtualenv-16.6.0-py2.py3-none-any.whl (2.0MB)\n",
      "\u001b[K    100% |████████████████████████████████| 2.0MB 10.3MB/s ta 0:00:01\n",
      "\u001b[?25hInstalling collected packages: virtualenv\n",
      "Successfully installed virtualenv-16.6.0\n",
      "\u001b[33mYou are using pip version 18.1, however version 19.1.1 is available.\n",
      "You should consider upgrading via the 'pip install --upgrade pip' command.\u001b[0m\n",
      "\n",
      "\u001b[7m==============================================\u001b[0m\n",
      "\u001b[7mII. Creating self-contained EBCLI installation\u001b[0m\n",
      "\u001b[7m==============================================\u001b[0m\n",
      "\n",
      "******************************************\n",
      "1. Creating exclusive virtualenv for EBCLI\n",
      "******************************************\n",
      "Running virtualenv with interpreter /root/.pyenv/versions/3.7.2/bin/python\n",
      "Using base prefix '/root/.pyenv/versions/3.7.2'\n",
      "New python executable in /root/.ebcli-virtual-env/bin/python\n",
      "Installing setuptools, pip, wheel...\n",
      "done.\n",
      "\n",
      "************************\n",
      "2. Activating virtualenv\n",
      "************************\n",
      "\n",
      "*******************\n",
      "3. Installing EBCLI\n",
      "*******************\n",
      "Collecting awsebcli\n",
      "\u001b[?25l  Downloading https://files.pythonhosted.org/packages/1f/fb/1f26062201bbdf798ac7843e325e060dc3b86551a69ef9a8eb352550b5b5/awsebcli-3.15.2.tar.gz (237kB)\n",
      "\u001b[K     |████████████████████████████████| 245kB 10.1MB/s eta 0:00:01\n",
      "\u001b[?25hCollecting botocore<1.13,>=1.12.29 (from awsebcli)\n",
      "\u001b[?25l  Downloading https://files.pythonhosted.org/packages/cd/6d/7c1b99671d14db8e0318ceb3d5655eb29a34b25174fe5a71edb076ef81c8/botocore-1.12.165-py2.py3-none-any.whl (5.5MB)\n",
      "\u001b[K     |████████████████████████████████| 5.5MB 5.5MB/s eta 0:00:01\n",
      "\u001b[?25hCollecting cement==2.8.2 (from awsebcli)\n",
      "\u001b[?25l  Downloading https://files.pythonhosted.org/packages/70/60/608f0b8975f4ee7deaaaa7052210d095e0b96e7cd3becdeede9bd13674a1/cement-2.8.2.tar.gz (165kB)\n",
      "\u001b[K     |████████████████████████████████| 174kB 10.1MB/s eta 0:00:01\n",
      "\u001b[?25hCollecting colorama<0.4.0,>=0.3.9 (from awsebcli)\n",
      "  Downloading https://files.pythonhosted.org/packages/db/c8/7dcf9dbcb22429512708fe3a547f8b6101c0d02137acbd892505aee57adf/colorama-0.3.9-py2.py3-none-any.whl\n",
      "Collecting future<0.17.0,>=0.16.0 (from awsebcli)\n",
      "\u001b[?25l  Downloading https://files.pythonhosted.org/packages/00/2b/8d082ddfed935f3608cc61140df6dcbf0edea1bc3ab52fb6c29ae3e81e85/future-0.16.0.tar.gz (824kB)\n",
      "\u001b[K     |████████████████████████████████| 829kB 8.6MB/s eta 0:00:01\n",
      "\u001b[?25hCollecting pathspec==0.5.9 (from awsebcli)\n",
      "  Downloading https://files.pythonhosted.org/packages/84/2a/bfee636b1e2f7d6e30dd74f49201ccfa5c3cf322d44929ecc6c137c486c5/pathspec-0.5.9.tar.gz\n",
      "Collecting python-dateutil<3.0.0,>=2.1 (from awsebcli)\n",
      "  Using cached https://files.pythonhosted.org/packages/41/17/c62faccbfbd163c7f57f3844689e3a78bae1f403648a6afb1d0866d87fbb/python_dateutil-2.8.0-py2.py3-none-any.whl\n",
      "Collecting PyYAML<=3.13,>=3.10 (from awsebcli)\n",
      "\u001b[?25l  Downloading https://files.pythonhosted.org/packages/9e/a3/1d13970c3f36777c583f136c136f804d70f500168edc1edea6daa7200769/PyYAML-3.13.tar.gz (270kB)\n",
      "\u001b[K     |████████████████████████████████| 276kB 15.2MB/s eta 0:00:01\n",
      "\u001b[?25hCollecting requests<2.21,>=2.20.1 (from awsebcli)\n",
      "\u001b[?25l  Downloading https://files.pythonhosted.org/packages/ff/17/5cbb026005115301a8fb2f9b0e3e8d32313142fe8b617070e7baad20554f/requests-2.20.1-py2.py3-none-any.whl (57kB)\n",
      "\u001b[K     |████████████████████████████████| 61kB 9.2MB/s  eta 0:00:01\n",
      "\u001b[?25hRequirement already up-to-date: setuptools>=20.0 in /root/.ebcli-virtual-env/lib/python3.7/site-packages (from awsebcli) (41.0.1)\n",
      "Collecting semantic_version==2.5.0 (from awsebcli)\n",
      "  Downloading https://files.pythonhosted.org/packages/bd/8d/49a968bafda84c2f1c39a9ed429e37cb75cc03896e8d6b873001e6456fad/semantic_version-2.5.0-py3-none-any.whl\n",
      "Collecting six<1.12.0,>=1.11.0 (from awsebcli)\n",
      "  Downloading https://files.pythonhosted.org/packages/67/4b/141a581104b1f6397bfa78ac9d43d8ad29a7ca43ea90a2d863fe3056e86a/six-1.11.0-py2.py3-none-any.whl\n",
      "Collecting termcolor==1.1.0 (from awsebcli)\n",
      "  Downloading https://files.pythonhosted.org/packages/8a/48/a76be51647d0eb9f10e2a4511bf3ffb8cc1e6b14e9e4fab46173aa79f981/termcolor-1.1.0.tar.gz\n",
      "Collecting urllib3<1.25,>=1.24.1 (from awsebcli)\n",
      "\u001b[?25l  Downloading https://files.pythonhosted.org/packages/01/11/525b02e4acc0c747de8b6ccdab376331597c569c42ea66ab0a1dbd36eca2/urllib3-1.24.3-py2.py3-none-any.whl (118kB)\n",
      "\u001b[K     |████████████████████████████████| 122kB 16.3MB/s eta 0:00:01\n",
      "\u001b[?25hCollecting wcwidth<0.2.0,>=0.1.7 (from awsebcli)\n",
      "  Using cached https://files.pythonhosted.org/packages/7e/9f/526a6947247599b084ee5232e4f9190a38f398d7300d866af3ab571a5bfe/wcwidth-0.1.7-py2.py3-none-any.whl\n",
      "Collecting docker-compose<1.24.0,>=1.23.2 (from awsebcli)\n",
      "\u001b[?25l  Downloading https://files.pythonhosted.org/packages/1e/6c/bf9879305530c4b765ef4eb3be76202788ca1037aec74d2c0ec73191d467/docker_compose-1.23.2-py2.py3-none-any.whl (131kB)\n",
      "\u001b[K     |████████████████████████████████| 133kB 15.3MB/s eta 0:00:01\n",
      "\u001b[?25hCollecting blessed>=1.9.5 (from awsebcli)\n",
      "\u001b[?25l  Downloading https://files.pythonhosted.org/packages/3f/96/1915827a8e411613d364dd3a56ef1fbfab84ee878070a69c21b10b5ad1bb/blessed-1.15.0-py2.py3-none-any.whl (60kB)\n",
      "\u001b[K     |████████████████████████████████| 61kB 9.3MB/s  eta 0:00:01\n",
      "\u001b[?25hCollecting jmespath<1.0.0,>=0.7.1 (from botocore<1.13,>=1.12.29->awsebcli)\n"
     ]
    },
    {
     "name": "stdout",
     "output_type": "stream",
     "text": [
      "  Downloading https://files.pythonhosted.org/packages/83/94/7179c3832a6d45b266ddb2aac329e101367fbdb11f425f13771d27f225bb/jmespath-0.9.4-py2.py3-none-any.whl\n",
      "Collecting docutils>=0.10 (from botocore<1.13,>=1.12.29->awsebcli)\n",
      "\u001b[?25l  Downloading https://files.pythonhosted.org/packages/36/fa/08e9e6e0e3cbd1d362c3bbee8d01d0aedb2155c4ac112b19ef3cae8eed8d/docutils-0.14-py3-none-any.whl (543kB)\n",
      "\u001b[K     |████████████████████████████████| 552kB 15.7MB/s eta 0:00:01\n",
      "\u001b[?25hCollecting idna<2.8,>=2.5 (from requests<2.21,>=2.20.1->awsebcli)\n",
      "\u001b[?25l  Downloading https://files.pythonhosted.org/packages/4b/2a/0276479a4b3caeb8a8c1af2f8e4355746a97fab05a372e4a2c6a6b876165/idna-2.7-py2.py3-none-any.whl (58kB)\n",
      "\u001b[K     |████████████████████████████████| 61kB 9.6MB/s  eta 0:00:01\n",
      "\u001b[?25hCollecting chardet<3.1.0,>=3.0.2 (from requests<2.21,>=2.20.1->awsebcli)\n",
      "\u001b[?25l  Downloading https://files.pythonhosted.org/packages/bc/a9/01ffebfb562e4274b6487b4bb1ddec7ca55ec7510b22e4c51f14098443b8/chardet-3.0.4-py2.py3-none-any.whl (133kB)\n",
      "\u001b[K     |████████████████████████████████| 143kB 16.3MB/s eta 0:00:01\n",
      "\u001b[?25hCollecting certifi>=2017.4.17 (from requests<2.21,>=2.20.1->awsebcli)\n",
      "\u001b[?25l  Downloading https://files.pythonhosted.org/packages/60/75/f692a584e85b7eaba0e03827b3d51f45f571c2e793dd731e598828d380aa/certifi-2019.3.9-py2.py3-none-any.whl (158kB)\n",
      "\u001b[K     |████████████████████████████████| 163kB 17.2MB/s eta 0:00:01\n",
      "\u001b[?25hCollecting texttable<0.10,>=0.9.0 (from docker-compose<1.24.0,>=1.23.2->awsebcli)\n",
      "  Downloading https://files.pythonhosted.org/packages/02/e1/2565e6b842de7945af0555167d33acfc8a615584ef7abd30d1eae00a4d80/texttable-0.9.1.tar.gz\n",
      "Collecting jsonschema<3,>=2.5.1 (from docker-compose<1.24.0,>=1.23.2->awsebcli)\n",
      "  Downloading https://files.pythonhosted.org/packages/77/de/47e35a97b2b05c2fadbec67d44cfcdcd09b8086951b331d82de90d2912da/jsonschema-2.6.0-py2.py3-none-any.whl\n",
      "Collecting websocket-client<1.0,>=0.32.0 (from docker-compose<1.24.0,>=1.23.2->awsebcli)\n",
      "\u001b[?25l  Downloading https://files.pythonhosted.org/packages/29/19/44753eab1fdb50770ac69605527e8859468f3c0fd7dc5a76dd9c4dbd7906/websocket_client-0.56.0-py2.py3-none-any.whl (200kB)\n",
      "\u001b[K     |████████████████████████████████| 204kB 13.9MB/s eta 0:00:01\n",
      "\u001b[?25hCollecting docker<4.0,>=3.6.0 (from docker-compose<1.24.0,>=1.23.2->awsebcli)\n",
      "\u001b[?25l  Downloading https://files.pythonhosted.org/packages/48/68/c3afca1a5aa8d2997ec3b8ee822a4d752cf85907b321f07ea86888545152/docker-3.7.2-py2.py3-none-any.whl (134kB)\n",
      "\u001b[K     |████████████████████████████████| 143kB 9.7MB/s eta 0:00:01\n",
      "\u001b[?25hCollecting dockerpty<0.5,>=0.4.1 (from docker-compose<1.24.0,>=1.23.2->awsebcli)\n",
      "  Downloading https://files.pythonhosted.org/packages/8d/ee/e9ecce4c32204a6738e0a5d5883d3413794d7498fe8b06f44becc028d3ba/dockerpty-0.4.1.tar.gz\n",
      "Collecting cached-property<2,>=1.2.0 (from docker-compose<1.24.0,>=1.23.2->awsebcli)\n",
      "  Downloading https://files.pythonhosted.org/packages/3b/86/85c1be2e8db9e13ef9a350aecd6dea292bd612fa288c2f40d035bb750ded/cached_property-1.5.1-py2.py3-none-any.whl\n",
      "Collecting docopt<0.7,>=0.6.1 (from docker-compose<1.24.0,>=1.23.2->awsebcli)\n",
      "  Downloading https://files.pythonhosted.org/packages/a2/55/8f8cab2afd404cf578136ef2cc5dfb50baa1761b68c9da1fb1e4eed343c9/docopt-0.6.2.tar.gz\n",
      "Collecting docker-pycreds>=0.4.0 (from docker<4.0,>=3.6.0->docker-compose<1.24.0,>=1.23.2->awsebcli)\n",
      "  Downloading https://files.pythonhosted.org/packages/f5/e8/f6bd1eee09314e7e6dee49cbe2c5e22314ccdb38db16c9fc72d2fa80d054/docker_pycreds-0.4.0-py2.py3-none-any.whl\n",
      "Building wheels for collected packages: awsebcli, cement, future, pathspec, PyYAML, termcolor, texttable, dockerpty, docopt\n",
      "  Building wheel for awsebcli (setup.py) ... \u001b[?25ldone\n",
      "\u001b[?25h  Stored in directory: /root/.cache/pip/wheels/6d/1c/1d/a8c8a8fbe65f6b8fc8cce1cea45509063c139efb07a2744274\n",
      "  Building wheel for cement (setup.py) ... \u001b[?25ldone\n",
      "\u001b[?25h  Stored in directory: /root/.cache/pip/wheels/35/9e/02/0af61a0ed625ea3decf29b8602fc0cbecc38943f19e076bb2e\n",
      "  Building wheel for future (setup.py) ... \u001b[?25ldone\n",
      "\u001b[?25h  Stored in directory: /root/.cache/pip/wheels/bf/c9/a3/c538d90ef17cf7823fa51fc701a7a7a910a80f6a405bf15b1a\n",
      "  Building wheel for pathspec (setup.py) ... \u001b[?25ldone\n",
      "\u001b[?25h  Stored in directory: /root/.cache/pip/wheels/45/cb/7e/ce6e6062c69446e39e328170524ca8213498bc66a74c6a210b\n",
      "  Building wheel for PyYAML (setup.py) ... \u001b[?25ldone\n",
      "\u001b[?25h  Stored in directory: /root/.cache/pip/wheels/ad/da/0c/74eb680767247273e2cf2723482cb9c924fe70af57c334513f\n",
      "  Building wheel for termcolor (setup.py) ... \u001b[?25ldone\n",
      "\u001b[?25h  Stored in directory: /root/.cache/pip/wheels/7c/06/54/bc84598ba1daf8f970247f550b175aaaee85f68b4b0c5ab2c6\n",
      "  Building wheel for texttable (setup.py) ... \u001b[?25ldone\n",
      "\u001b[?25h  Stored in directory: /root/.cache/pip/wheels/99/1e/2b/8452d3a48dad98632787556a0f2f90d56703b39cdf7d142dd1\n",
      "  Building wheel for dockerpty (setup.py) ... \u001b[?25ldone\n",
      "\u001b[?25h  Stored in directory: /root/.cache/pip/wheels/e5/1e/86/bd0a97a0907c6c654af654d5875d1d4383dd1f575f77cee4aa\n",
      "  Building wheel for docopt (setup.py) ... \u001b[?25ldone\n",
      "\u001b[?25h  Stored in directory: /root/.cache/pip/wheels/9b/04/dd/7daf4150b6d9b12949298737de9431a324d4b797ffd63f526e\n",
      "Successfully built awsebcli cement future pathspec PyYAML termcolor texttable dockerpty docopt\n",
      "Installing collected packages: jmespath, urllib3, docutils, six, python-dateutil, botocore, cement, colorama, future, pathspec, PyYAML, idna, chardet, certifi, requests, semantic-version, termcolor, wcwidth, texttable, jsonschema, websocket-client, docker-pycreds, docker, dockerpty, cached-property, docopt, docker-compose, blessed, awsebcli\n",
      "Successfully installed PyYAML-3.13 awsebcli-3.15.2 blessed-1.15.0 botocore-1.12.165 cached-property-1.5.1 cement-2.8.2 certifi-2019.3.9 chardet-3.0.4 colorama-0.3.9 docker-3.7.2 docker-compose-1.23.2 docker-pycreds-0.4.0 dockerpty-0.4.1 docopt-0.6.2 docutils-0.14 future-0.16.0 idna-2.7 jmespath-0.9.4 jsonschema-2.6.0 pathspec-0.5.9 python-dateutil-2.8.0 requests-2.20.1 semantic-version-2.5.0 six-1.11.0 termcolor-1.1.0 texttable-0.9.1 urllib3-1.24.3 wcwidth-0.1.7 websocket-client-0.56.0\n",
      "\n",
      "***********************\n",
      "4. Creating EB wrappers\n",
      "***********************\n",
      "\n",
      "***************\n",
      "5. Finishing up\n",
      "***************\n",
      "\u001b[38;5;10mSuccess!\u001b[0m\n",
      "\u001b[38;5;11m\n",
      "    Note: To complete installation, ensure `eb` is in PATH. You can ensure this by executing:\n",
      "\n",
      "    1. Bash:\n",
      "\n",
      "       echo 'export PATH=\"/root/.ebcli-virtual-env/executables:$PATH\"' >> ~/.bash_profile && source ~/.bash_profile\n",
      "\n",
      "    2. Zsh:\n",
      "\n",
      "       echo 'export PATH=\"/root/.ebcli-virtual-env/executables:$PATH\"' >> ~/.zshenv && source ~/.zshenv\n",
      "\u001b[0m\n"
     ]
    }
   ],
   "source": [
    "./aws-elastic-beanstalk-cli-setup/scripts/bundled_installer"
   ]
  },
  {
   "cell_type": "code",
   "execution_count": 7,
   "metadata": {},
   "outputs": [
    {
     "name": "stdout",
     "output_type": "stream",
     "text": [
      "export PATH=\"/root/.ebcli-virtual-env/executables:$PATH\"\n",
      "export PATH=\"/root/.ebcli-virtual-env/executables:$PATH\"\n"
     ]
    }
   ],
   "source": [
    "echo 'export PATH=\"/root/.ebcli-virtual-env/executables:$PATH\"' >> ~/.bash_profile && source ~/.bash_profile\n",
    "cat ~/.bash_profile"
   ]
  },
  {
   "cell_type": "markdown",
   "metadata": {},
   "source": [
    "\n",
    "# 2. Time to setup jenkins server\n",
    "\n",
    "https://medium.com/@rafiek/deploying-a-simple-jenkins-installation-to-aws-elastic-beanstalk-6336a4baa451"
   ]
  },
  {
   "cell_type": "code",
   "execution_count": 8,
   "metadata": {},
   "outputs": [
    {
     "name": "stdout",
     "output_type": "stream",
     "text": [
      "--2019-06-11 17:36:41--  http://mirrors.jenkins-ci.org/war/latest/jenkins.war\n",
      "Resolving mirrors.jenkins-ci.org (mirrors.jenkins-ci.org)... 52.202.51.185\n",
      "Connecting to mirrors.jenkins-ci.org (mirrors.jenkins-ci.org)|52.202.51.185|:80... connected.\n",
      "HTTP request sent, awaiting response... 302 Found\n",
      "Location: http://ftp-nyc.osuosl.org/pub/jenkins/war/2.180/jenkins.war [following]\n",
      "--2019-06-11 17:36:41--  http://ftp-nyc.osuosl.org/pub/jenkins/war/2.180/jenkins.war\n",
      "Resolving ftp-nyc.osuosl.org (ftp-nyc.osuosl.org)... 64.50.233.100, 2600:3404:200:237::2\n",
      "Connecting to ftp-nyc.osuosl.org (ftp-nyc.osuosl.org)|64.50.233.100|:80... connected.\n",
      "HTTP request sent, awaiting response... 200 OK\n",
      "Length: 77259066 (74M) [application/x-java-archive]\n",
      "Saving to: 'jenkins.jar'\n",
      "\n",
      "jenkins.jar         100%[===================>]  73.68M  6.84MB/s    in 8.4s    \n",
      "\n",
      "2019-06-11 17:36:50 (8.73 MB/s) - 'jenkins.jar' saved [77259066/77259066]\n",
      "\n"
     ]
    }
   ],
   "source": [
    "# get latest jenkins\n",
    "cd /data\n",
    "mkdir -p jenkins\n",
    "cd jenkins\n",
    "rm jenk*\n",
    "wget -O jenkins.jar http://mirrors.jenkins-ci.org/war/latest/jenkins.war\n"
   ]
  },
  {
   "cell_type": "code",
   "execution_count": 28,
   "metadata": {},
   "outputs": [],
   "source": [
    "# Create a folder called .ebextensions and create in that folder a file called jenkins.config\n",
    "\n",
    "mkdir -p .ebextensions\n",
    "\n",
    "cat > .ebextensions/jenkins.config <<EOF\n",
    "packages: \n",
    "  yum:\n",
    "    git: []\n",
    "EOF"
   ]
  },
  {
   "cell_type": "code",
   "execution_count": 26,
   "metadata": {},
   "outputs": [],
   "source": [
    "# Create Procfile\n",
    "\n",
    "cat > Procfile <<EOF\n",
    "web: java -jar jenkins.jar --httpPort=5000\n",
    "EOF"
   ]
  },
  {
   "cell_type": "code",
   "execution_count": 31,
   "metadata": {},
   "outputs": [
    {
     "name": "stdout",
     "output_type": "stream",
     "text": [
      "  adding: jenkins.jar (deflated 0%)\n",
      "  adding: .ebextensions/ (stored 0%)\n",
      "  adding: .ebextensions/jenkins.config (stored 0%)\n",
      "  adding: Procfile (deflated 2%)\n"
     ]
    }
   ],
   "source": [
    "# Create zip package \n",
    "\n",
    "zip -r -X jenkins.zip jenkins.jar .ebextensions Procfile"
   ]
  },
  {
   "cell_type": "markdown",
   "metadata": {},
   "source": [
    "The EB CLI looks for credentials and configuration settings in the following order:\n",
    "\n",
    "1. Command line options – Specify a named profile by using --profile to override default settings.\n",
    "\n",
    "2. Environment variables – AWS_ACCESS_KEY_ID and AWS_SECRET_ACCESS_KEY.\n",
    "\n",
    "3. The AWS credentials file – Located at ~/.aws/credentials on Linux and OS X systems, or at C:/Users/USERNAME/.aws/credentials on Windows systems. This file can contain multiple named profiles in addition to a default profile.\n",
    "\n",
    "4. The AWS CLI configuration file – Located at ~/.aws/config on Linux and OS X systems or C:/Users/USERNAME/.aws/config on Windows systems. This file can contain a default profile, named profiles, and AWS CLI–specific configuration parameters for each.\n",
    "\n",
    "5. Legacy EB CLI configuration file – Located at ~/.elasticbeanstalk/config on Linux and OS X systems or C:/Users/USERNAME/.elasticbeanstalk/config on Windows systems.\n",
    "\n",
    "6. Instance profile credentials – These credentials can be used on Amazon EC2 instances with an assigned instance role, and are delivered through the Amazon EC2 metadata service. The instance profile must have permission to use Elastic Beanstalk.\n",
    "\n",
    "## <span style=\"color:red\">To setup credentials replace \"&lt;key id&gt;\" and \"&lt;key secret&gt;\" with Your credentials</span>.\n",
    "    \n",
    "https://docs.aws.amazon.com/general/latest/gr/acct-identifiers.html    "
   ]
  },
  {
   "cell_type": "code",
   "execution_count": 41,
   "metadata": {},
   "outputs": [],
   "source": [
    "# setup credentials\n",
    "\n",
    "mkdir -p $HOME/.aws\n",
    "\n",
    "cat >$HOME/.aws/config <<EOF\n",
    "[default]\n",
    "aws_access_key_id = <key id>\n",
    "aws_secret_access_key = <key secret>\n",
    "region = us-east-1\n",
    "EOF\n",
    "\n",
    "# secure the file\n",
    "chmod 600 $HOME/.aws/config\n",
    "\n",
    "#Optionally set an environment variable pointing to the config file, especially if you put it in a non-standard location. For future convenience, also add this line to your $HOME/.bashrc\n",
    "export AWS_CONFIG_FILE=$HOME/.aws/config"
   ]
  },
  {
   "cell_type": "code",
   "execution_count": 42,
   "metadata": {},
   "outputs": [
    {
     "name": "stdout",
     "output_type": "stream",
     "text": [
      "Application jenkins has been created.\n"
     ]
    }
   ],
   "source": [
    "# Create the EB environment\n",
    "\n",
    "eb init --region eu-west-1 --platform Java jenkins"
   ]
  },
  {
   "cell_type": "code",
   "execution_count": 45,
   "metadata": {},
   "outputs": [
    {
     "name": "stdout",
     "output_type": "stream",
     "text": [
      "branch-defaults:\n",
      "  default:\n",
      "    environment: null\n",
      "    group_suffix: null\n",
      "global:\n",
      "  application_name: jenkins\n",
      "  branch: null\n",
      "  default_ec2_keyname: null\n",
      "  default_platform: Java\n",
      "  default_region: eu-west-1\n",
      "  include_git_submodules: true\n",
      "  instance_profile: null\n",
      "  platform_name: null\n",
      "  platform_version: null\n",
      "  profile: null\n",
      "  repository: null\n",
      "  sc: null\n",
      "  workspace_type: Application\n",
      "deploy: \n",
      "  artifact: jenkins.zip\n"
     ]
    }
   ],
   "source": [
    "# show config file\n",
    "\n",
    "cat .elasticbeanstalk/config.yml"
   ]
  },
  {
   "cell_type": "code",
   "execution_count": 44,
   "metadata": {},
   "outputs": [],
   "source": [
    "# add our deployment (to be run only once!)\n",
    "\n",
    "cat >>.elasticbeanstalk/config.yml <<EOF\n",
    "deploy: \n",
    "  artifact: jenkins.zip\n",
    "EOF"
   ]
  },
  {
   "cell_type": "code",
   "execution_count": 47,
   "metadata": {},
   "outputs": [
    {
     "name": "stdout",
     "output_type": "stream",
     "text": [
      "Uploading: [##################################################] 100% Done...\n",
      "Environment details for: env-Jenkins\n",
      "  Application name: jenkins\n",
      "  Region: eu-west-1\n",
      "  Deployed Version: app-190605_174053\n",
      "  Environment ID: e-red8adsper\n",
      "  Platform: arn:aws:elasticbeanstalk:eu-west-1::platform/Java 8 running on 64bit Amazon Linux/2.8.3\n",
      "  Tier: WebServer-Standard-1.0\n",
      "  CNAME: UNKNOWN\n",
      "  Updated: 2019-06-05 17:40:58.753000+00:00\n",
      "Printing Status:\n",
      "2019-06-05 17:40:57    INFO    createEnvironment is starting.\n",
      "2019-06-05 17:40:58    INFO    Using elasticbeanstalk-eu-west-1-216210436769 as Amazon S3 storage bucket for environment data.\n",
      "2019-06-05 17:41:27    INFO    Created security group named: sg-0ce94aadf25d3e7ab\n",
      "2019-06-05 17:41:43    INFO    Created load balancer named: awseb-e-r-AWSEBLoa-1NBVFXT48WF77\n",
      "2019-06-05 17:41:43    INFO    Created security group named: awseb-e-red8adsper-stack-AWSEBSecurityGroup-15Q0JGCH7IBC6\n",
      "2019-06-05 17:41:43    INFO    Created Auto Scaling launch configuration named: awseb-e-red8adsper-stack-AWSEBAutoScalingLaunchConfiguration-RFXA4LNCMG3M\n",
      "2019-06-05 17:43:17    INFO    Created Auto Scaling group named: awseb-e-red8adsper-stack-AWSEBAutoScalingGroup-QXCNZ1KQDYUK\n",
      "2019-06-05 17:43:17    INFO    Waiting for EC2 instances to launch. This may take a few minutes.\n",
      "2019-06-05 17:43:33    INFO    Created Auto Scaling group policy named: arn:aws:autoscaling:eu-west-1:216210436769:scalingPolicy:fb008763-6f60-4b5f-a1a9-1934cfc88fd7:autoScalingGroupName/awseb-e-red8adsper-stack-AWSEBAutoScalingGroup-QXCNZ1KQDYUK:policyName/awseb-e-red8adsper-stack-AWSEBAutoScalingScaleUpPolicy-PFK2VSS8K0E0\n",
      "2019-06-05 17:43:33    INFO    Created Auto Scaling group policy named: arn:aws:autoscaling:eu-west-1:216210436769:scalingPolicy:128df02b-ed77-42fb-bdc4-3dac22609088:autoScalingGroupName/awseb-e-red8adsper-stack-AWSEBAutoScalingGroup-QXCNZ1KQDYUK:policyName/awseb-e-red8adsper-stack-AWSEBAutoScalingScaleDownPolicy-1R766YLTJPG95\n",
      "2019-06-05 17:43:33    INFO    Created CloudWatch alarm named: awseb-e-red8adsper-stack-AWSEBCloudwatchAlarmHigh-5QKNZWEIJ69J\n",
      "2019-06-05 17:43:33    INFO    Created CloudWatch alarm named: awseb-e-red8adsper-stack-AWSEBCloudwatchAlarmLow-FCDJ2AH51YUL\n",
      "2019-06-05 17:44:54    INFO    Application available at env-Jenkins.phusajmpfq.eu-west-1.elasticbeanstalk.com.\n",
      "2019-06-05 17:44:55    INFO    Successfully launched environment: env-Jenkins\n",
      "                                \n"
     ]
    }
   ],
   "source": [
    "# create the environment\n",
    "\n",
    "eb create env-Jenkins"
   ]
  },
  {
   "cell_type": "code",
   "execution_count": 48,
   "metadata": {},
   "outputs": [
    {
     "name": "stdout",
     "output_type": "stream",
     "text": [
      "Environment details for: env-Jenkins\n",
      "  Application name: jenkins\n",
      "  Region: eu-west-1\n",
      "  Deployed Version: app-190605_174053\n",
      "  Environment ID: e-red8adsper\n",
      "  Platform: arn:aws:elasticbeanstalk:eu-west-1::platform/Java 8 running on 64bit Amazon Linux/2.8.3\n",
      "  Tier: WebServer-Standard-1.0\n",
      "  CNAME: env-Jenkins.phusajmpfq.eu-west-1.elasticbeanstalk.com\n",
      "  Updated: 2019-06-05 17:44:55.278000+00:00\n",
      "  Status: Ready\n",
      "  Health: Green\n"
     ]
    }
   ],
   "source": [
    "# read the target url of jenkins service from following command\n",
    "\n",
    "eb status\n",
    "\n",
    "# should be something like: CNAME: env-Jenkins.phusajmpfq.eu-west-1.elasticbeanstalk.com"
   ]
  },
  {
   "cell_type": "markdown",
   "metadata": {},
   "source": [
    "# 3. Jenkins server should be up and running at CNAME url"
   ]
  },
  {
   "cell_type": "markdown",
   "metadata": {},
   "source": [
    "# =======================================================\n",
    "# 4. END/CLEANUP"
   ]
  },
  {
   "cell_type": "code",
   "execution_count": 55,
   "metadata": {},
   "outputs": [
    {
     "name": "stdout",
     "output_type": "stream",
     "text": [
      "2019-06-05 18:04:08    INFO    terminateEnvironment is starting.\n",
      "2019-06-05 18:04:25    INFO    Deleted CloudWatch alarm named: awseb-e-red8adsper-stack-AWSEBCloudwatchAlarmLow-FCDJ2AH51YUL \n",
      "2019-06-05 18:04:25    INFO    Deleted CloudWatch alarm named: awseb-e-red8adsper-stack-AWSEBCloudwatchAlarmHigh-5QKNZWEIJ69J \n",
      "2019-06-05 18:04:25    INFO    Deleted Auto Scaling group policy named: arn:aws:autoscaling:eu-west-1:216210436769:scalingPolicy:fb008763-6f60-4b5f-a1a9-1934cfc88fd7:autoScalingGroupName/awseb-e-red8adsper-stack-AWSEBAutoScalingGroup-QXCNZ1KQDYUK:policyName/awseb-e-red8adsper-stack-AWSEBAutoScalingScaleUpPolicy-PFK2VSS8K0E0\n",
      "2019-06-05 18:04:25    INFO    Deleted Auto Scaling group policy named: arn:aws:autoscaling:eu-west-1:216210436769:scalingPolicy:128df02b-ed77-42fb-bdc4-3dac22609088:autoScalingGroupName/awseb-e-red8adsper-stack-AWSEBAutoScalingGroup-QXCNZ1KQDYUK:policyName/awseb-e-red8adsper-stack-AWSEBAutoScalingScaleDownPolicy-1R766YLTJPG95\n",
      "2019-06-05 18:04:25    INFO    Waiting for EC2 instances to terminate. This may take a few minutes.\n",
      "2019-06-05 18:06:12    INFO    Deleted Auto Scaling group named: awseb-e-red8adsper-stack-AWSEBAutoScalingGroup-QXCNZ1KQDYUK\n",
      "2019-06-05 18:06:12    INFO    Deleted load balancer named: awseb-e-r-AWSEBLoa-1NBVFXT48WF77\n",
      "2019-06-05 18:06:12    INFO    Deleted Auto Scaling launch configuration named: awseb-e-red8adsper-stack-AWSEBAutoScalingLaunchConfiguration-RFXA4LNCMG3M\n",
      "2019-06-05 18:06:12    INFO    Deleted security group named: awseb-e-red8adsper-stack-AWSEBSecurityGroup-15Q0JGCH7IBC6\n",
      "2019-06-05 18:07:44    INFO    Deleted security group named: sg-0ce94aadf25d3e7ab\n",
      "2019-06-05 18:07:46    INFO    Deleting SNS topic for environment env-Jenkins.\n",
      "2019-06-05 18:07:47    INFO    terminateEnvironment completed successfully.\n",
      "                                \n"
     ]
    }
   ],
   "source": [
    "# At the end - terminate the env-Jenkins to clean\n",
    "\n",
    "eb  terminate env-Jenkins --force\n"
   ]
  },
  {
   "cell_type": "code",
   "execution_count": 56,
   "metadata": {},
   "outputs": [],
   "source": [
    "# .. and remove credentials\n",
    "\n",
    "rm $HOME/.aws/config"
   ]
  },
  {
   "cell_type": "code",
   "execution_count": null,
   "metadata": {},
   "outputs": [],
   "source": [
    "refs:\n",
    "\n",
    "https://aws.amazon.com/blogs/devops/building-continuous-deployment-on-aws-with-aws-codepipeline-jenkins-and-aws-elastic-beanstalk/"
   ]
  }
 ],
 "metadata": {
  "kernelspec": {
   "display_name": "Bash",
   "language": "bash",
   "name": "bash"
  },
  "language_info": {
   "codemirror_mode": "shell",
   "file_extension": ".sh",
   "mimetype": "text/x-sh",
   "name": "bash"
  }
 },
 "nbformat": 4,
 "nbformat_minor": 2
}
