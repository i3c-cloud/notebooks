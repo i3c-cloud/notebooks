{
 "cells": [
  {
   "cell_type": "markdown",
   "metadata": {},
   "source": [
    "https://orientdb.com/docs/3.0.x/tuning/Performance-Tuning.html"
   ]
  },
  {
   "cell_type": "code",
   "execution_count": 1,
   "metadata": {
    "scrolled": true
   },
   "outputs": [
    {
     "name": "stdout",
     "output_type": "stream",
     "text": [
      "262144+0 records in\n",
      "262144+0 records out\n",
      "2147483648 bytes (2.1 GB, 2.0 GiB) copied, 11.4017 s, 188 MB/s\n"
     ]
    }
   ],
   "source": [
    "dd if=/dev/zero of=/tmp/output.img bs=8k count=256k\n",
    "rm /tmp/output.img"
   ]
  },
  {
   "cell_type": "code",
   "execution_count": 3,
   "metadata": {
    "scrolled": true
   },
   "outputs": [],
   "source": [
    "alias oc=/orientdb-console/bin/consoleWrapper.sh"
   ]
  },
  {
   "cell_type": "code",
   "execution_count": 7,
   "metadata": {
    "scrolled": true
   },
   "outputs": [
    {
     "name": "stdout",
     "output_type": "stream",
     "text": [
      "    #!/bin/bash\n",
      "    uuid=6868a8f1-a065-40b5-8c31-35aebc035eee\n",
      "    sfile=/tmp/oc-$uuid\n",
      "    cat /root/.orientdb/connString >> $sfile \n",
      "    if [ $1 == 'f' ]; then\n",
      "        cat $f >> $sfile \n",
      "    else \n",
      "        echo $1 >> $sfile\n",
      "    fi\n",
      "    /orientdb-console/bin/console.sh $sfile\n"
     ]
    }
   ],
   "source": [
    "cat /orientdb-console/bin/consoleWrapper.sh"
   ]
  },
  {
   "cell_type": "code",
   "execution_count": 8,
   "metadata": {
    "scrolled": true
   },
   "outputs": [
    {
     "name": "stdout",
     "output_type": "stream",
     "text": [
      "/orientdb-console/bin/consoleWrapper.sh: line 5: [: too many arguments\n",
      "\n",
      "OrientDB console v.3.1.0-SNAPSHOT - Veloce (build f02ad980bcf5db727497e5877fc12898d8a5f31e, branch develop) https://www.orientdb.com\n",
      "Type 'help' to display all the supported commands.\n",
      "Connecting to database [remote:orientdb/demodb] with user 'admin'...OK\n",
      "+----+------+---------+----+----+------------------------+----------------------------------------+\n",
      "|#   |@RID  |@CLASS   |Id  |Code|Name                    |in_IsFromCountry                        |\n",
      "+----+------+---------+----+----+------------------------+----------------------------------------+\n",
      "|0   |#15:0 |Countries|1   |AD  |Andorra                 |                                        |\n",
      "|1   |#15:1 |Countries|3   |AF  |Afghanistan             |[#44:108,#44:125]                       |\n",
      "|2   |#15:2 |Countries|5   |AI  |Anguilla                |[#43:8]                                 |\n",
      "|3   |#15:3 |Countries|7   |AM  |Armenia                 |[#43:26,#43:29,#44:119]                 |\n",
      "|4   |#15:4 |Countries|9   |AQ  |Antarctica              |[#44:184]                               |\n",
      "|5   |#15:5 |Countries|11  |AS  |American Samoa          |                                        |\n",
      "|6   |#15:6 |Countries|13  |AU  |Australia               |                                        |\n",
      "|7   |#15:7 |Countries|15  |AX  |��land Islands          |[#44:98,#44:103]                        |\n",
      "|8   |#15:8 |Countries|17  |BA  |Bosnia and Herzegovina  |[#44:81]                                |\n",
      "|9   |#15:9 |Countries|19  |BD  |Bangladesh              |[#43:83,#43:103,#44:111,#44:138,#44:176]|\n",
      "|10  |#15:10|Countries|21  |BF  |Burkina Faso            |[#44:33,#43:88]                         |\n",
      "|11  |#15:11|Countries|23  |BH  |Bahrain                 |[#43:22,#43:104]                        |\n",
      "|12  |#15:12|Countries|25  |BJ  |Benin                   |                                        |\n",
      "|13  |#15:13|Countries|27  |BM  |Bermuda                 |[#43:18,#43:157]                        |\n",
      "|14  |#15:14|Countries|29  |BO  |Bolivia                 |                                        |\n",
      "|15  |#15:15|Countries|31  |BR  |Brazil                  |                                        |\n",
      "|16  |#15:16|Countries|33  |BT  |Bhutan                  |                                        |\n",
      "|17  |#15:17|Countries|35  |BW  |Botswana                |[#43:132]                               |\n",
      "|18  |#15:18|Countries|37  |BZ  |Belize                  |                                        |\n",
      "|19  |#15:19|Countries|39  |CC  |Cocos (Keeling) Islands |[#44:194]                               |\n",
      "+----+------+---------+----+----+------------------------+----------------------------------------+\n",
      "LIMIT EXCEEDED: resultset contains more items not displayed (limit=20)\n",
      "\n",
      "20 item(s) found. Query executed in 0.372 sec(s).\n"
     ]
    }
   ],
   "source": [
    "oc \"select from V\""
   ]
  },
  {
   "cell_type": "code",
   "execution_count": 9,
   "metadata": {
    "scrolled": true
   },
   "outputs": [
    {
     "name": "stdout",
     "output_type": "stream",
     "text": [
      "/orientdb-console/bin/consoleWrapper.sh: line 5: [: too many arguments\n",
      "\n",
      "OrientDB console v.3.1.0-SNAPSHOT - Veloce (build f02ad980bcf5db727497e5877fc12898d8a5f31e, branch develop) https://www.orientdb.com\n",
      "Type 'help' to display all the supported commands.\n",
      "Connecting to database [remote:orientdb/demodb] with user 'admin'...OK\n",
      "Error: com.orientechnologies.orient.core.exception.OCommandExecutionException: Class not found: Profile\n",
      "\tDB name=\"demodb\"\n",
      "\tDB name=\"demodb\"\n",
      "\n"
     ]
    },
    {
     "ename": "",
     "evalue": "1",
     "output_type": "error",
     "traceback": []
    }
   ],
   "source": [
    " oc \"SELECT OUT('out_Friend') as friends from Profile fetchplan friends:1\""
   ]
  },
  {
   "cell_type": "code",
   "execution_count": 11,
   "metadata": {},
   "outputs": [
    {
     "name": "stdout",
     "output_type": "stream",
     "text": [
      "/root/.jupyter\n",
      "jupyter_notebook_config.py  migrated  nbconfig\n"
     ]
    }
   ],
   "source": [
    "jupyter --config-dir\n",
    "ls /root/.jupyter"
   ]
  },
  {
   "cell_type": "code",
   "execution_count": 12,
   "metadata": {},
   "outputs": [],
   "source": [
    "cd /root/.jupyter\n",
    "mkdir custom\n",
    "\n",
    "cat>custom.js << EOF\n",
    "define([\n",
    "    'base/js/namespace',\n",
    "    'base/js/events'\n",
    "    ],\n",
    "    function(IPython, events) {\n",
    "        events.on(\"app_initialized.NotebookApp\",\n",
    "            function () {\n",
    "                IPython.Cell.options_default.cm_config.lineNumbers = true;\n",
    "            }\n",
    "        );\n",
    "    }\n",
    ");\n",
    "EOF"
   ]
  }
 ],
 "metadata": {
  "kernelspec": {
   "display_name": "Bash",
   "language": "bash",
   "name": "bash"
  },
  "language_info": {
   "codemirror_mode": "shell",
   "file_extension": ".sh",
   "mimetype": "text/x-sh",
   "name": "bash"
  }
 },
 "nbformat": 4,
 "nbformat_minor": 2
}
