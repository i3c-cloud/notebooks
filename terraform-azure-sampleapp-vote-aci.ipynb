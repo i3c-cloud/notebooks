{
 "cells": [
  {
   "cell_type": "markdown",
   "metadata": {},
   "source": [
    "\n",
    " \n",
    "&nbsp; \n",
    "&nbsp; \n",
    "## A sample i3c project - runing terraform/azure qickstart example application\n",
    "&nbsp; \n",
    "&nbsp; \n",
    " \n",
    "\n",
    "https://docs.microsoft.com/pl-pl/azure/terraform/terrafom-quickstart"
   ]
  },
  {
   "cell_type": "code",
   "execution_count": null,
   "metadata": {},
   "outputs": [],
   "source": [
    "# init local i3c repository from https://github.com/i3c-cloud/i3c.l1.git\n",
    "\n",
    "alias iend='/i echoi \"=============================================\\nEnd.\"'\n",
    "\n",
    "/i wrem terraform\n",
    "rm -R /i3c/repos/devops\n",
    "mkdir -p /i3c/repos/devops\n",
    "cd /i3c/repos/devops\n",
    "/i winit https://github.com/i3c-cloud/i3c.l1.git\n",
    "/i wadd terraform\n",
    "\n",
    "iend"
   ]
  },
  {
   "cell_type": "code",
   "execution_count": null,
   "metadata": {},
   "outputs": [],
   "source": [
    "# rebuild/up i3c terraform container\n",
    "\n",
    "/i dup terraform\n",
    "\n",
    "iend"
   ]
  },
  {
   "cell_type": "code",
   "execution_count": null,
   "metadata": {},
   "outputs": [],
   "source": [
    "# install azure cli in the terraform container\n",
    "\n",
    "alias itf='/i execd terraform sh -c'\n",
    "\n",
    "itf \"curl -sL https://aka.ms/InstallAzureCLIDeb | sudo bash\"\n",
    "\n",
    "iend"
   ]
  },
  {
   "cell_type": "code",
   "execution_count": null,
   "metadata": {},
   "outputs": [],
   "source": [
    "# create terraform project file(s) in container's global persistent i3c data folder \n",
    "# host folder \"/i3c/i3c.data/terraform\" is mapped to local \"/i3c/data\" inside container\n",
    "\n",
    "# global project dir (from i3c platform level)\n",
    "test1GlobalDir=/i3c/i3c.data/terraform/test1\n",
    "# local project dir (from terraform container level)\n",
    "test1LocalDir=/data/test1\n",
    "\n",
    "# clear the dir from prevoius content and cd into it\n",
    "if [ -e $test1GlobalDir ]; then\n",
    "    rm -R $test1GlobalDir\n",
    "fi\n",
    "mkdir -p $test1GlobalDir\n",
    "cd $test1GlobalDir\n",
    "\n",
    "# create main.tf file with terraform resources defs\n",
    "cat > main.tf <<EOF\n",
    "resource \"azurerm_resource_group\" \"vote-resource-group\" {\n",
    "  name     = \"vote-resource-group\"\n",
    "  location = \"westus\"\n",
    "}\n",
    "\n",
    "resource \"random_integer\" \"ri\" {\n",
    "  min = 10000\n",
    "  max = 99999\n",
    "}\n",
    "\n",
    "resource \"azurerm_cosmosdb_account\" \"vote-cosmos-db\" {\n",
    "  name                = \"tfex-cosmos-db-\\${random_integer.ri.result}\"\n",
    "  location            = \"\\${azurerm_resource_group.vote-resource-group.location}\"\n",
    "  resource_group_name = \"\\${azurerm_resource_group.vote-resource-group.name}\"\n",
    "  offer_type          = \"Standard\"\n",
    "  kind                = \"GlobalDocumentDB\"\n",
    "\n",
    "  consistency_policy {\n",
    "    consistency_level       = \"BoundedStaleness\"\n",
    "    max_interval_in_seconds = 10\n",
    "    max_staleness_prefix    = 200\n",
    "  }\n",
    "\n",
    "  geo_location {\n",
    "    location          = \"westus\"\n",
    "    failover_priority = 0\n",
    "  }\n",
    "}\n",
    "\n",
    "resource \"azurerm_container_group\" \"vote-aci\" {\n",
    "  name                = \"vote-aci\"\n",
    "  location            = \"\\${azurerm_resource_group.vote-resource-group.location}\"\n",
    "  resource_group_name = \"\\${azurerm_resource_group.vote-resource-group.name}\"\n",
    "  ip_address_type     = \"public\"\n",
    "  dns_name_label      = \"vote-aci\"\n",
    "  os_type             = \"linux\"\n",
    "\n",
    "  container {\n",
    "    name   = \"vote-aci\"\n",
    "    image  = \"microsoft/azure-vote-front:cosmosdb\"\n",
    "    cpu    = \"0.5\"\n",
    "    memory = \"1.5\"\n",
    "    ports {\n",
    "      port     = 80\n",
    "      protocol = \"TCP\"\n",
    "    }\n",
    "\n",
    "    secure_environment_variables {\n",
    "      \"COSMOS_DB_ENDPOINT\"  = \"\\${azurerm_cosmosdb_account.vote-cosmos-db.endpoint}\"\n",
    "      \"COSMOS_DB_MASTERKEY\" = \"\\${azurerm_cosmosdb_account.vote-cosmos-db.primary_master_key}\"\n",
    "      \"TITLE\"               = \"Azure Voting App\"\n",
    "      \"VOTE1VALUE\"          = \"Cats\"\n",
    "      \"VOTE2VALUE\"          = \"Dogs\"\n",
    "    }\n",
    "  }\n",
    "}\n",
    "\n",
    "output \"dns\" {\n",
    "  value = \"\\${azurerm_container_group.vote-aci.fqdn}\"\n",
    "}\n",
    "EOF\n",
    "echo \"File written\"\n",
    "iend"
   ]
  },
  {
   "cell_type": "code",
   "execution_count": null,
   "metadata": {
    "scrolled": true
   },
   "outputs": [],
   "source": [
    "# check file contents\n",
    "\n",
    "cat main.tf\n",
    "\n",
    "iend"
   ]
  },
  {
   "cell_type": "code",
   "execution_count": null,
   "metadata": {},
   "outputs": [],
   "source": [
    "# init the terraform project\n",
    "\n",
    "itf \"cd $test1LocalDir && terraform init\"\n",
    "\n",
    "iend"
   ]
  },
  {
   "cell_type": "code",
   "execution_count": null,
   "metadata": {},
   "outputs": [],
   "source": [
    "# login into azure (follow instructions in cell output)\n",
    "\n",
    "itf \"az login\"\n",
    "\n",
    "iend"
   ]
  },
  {
   "cell_type": "code",
   "execution_count": null,
   "metadata": {},
   "outputs": [],
   "source": [
    "# check the plan\n",
    "\n",
    "/i execd terraform sh -c \"cd $test1LocalDir && terraform plan\"\n",
    "\n",
    "iend"
   ]
  },
  {
   "cell_type": "code",
   "execution_count": null,
   "metadata": {},
   "outputs": [],
   "source": [
    "# apply the plan (unattended -auto-approve)\n",
    "\n",
    "itf \"cd $test1LocalDir && terraform apply -input=false -auto-approve\"\n",
    "\n",
    "iend"
   ]
  },
  {
   "cell_type": "markdown",
   "metadata": {},
   "source": [
    "-------------------------------\n",
    "**When finished - check \"vote-aci\" application availability at url presented (\"dns = \")**\n",
    "\n",
    "------------"
   ]
  },
  {
   "cell_type": "code",
   "execution_count": null,
   "metadata": {},
   "outputs": [],
   "source": [
    "# destroy azure resources\n",
    "\n",
    "itf \"cd $test1LocalDir && terraform destroy -input=false -auto-approve\"\n",
    "\n",
    "iend"
   ]
  }
 ],
 "metadata": {
  "kernelspec": {
   "display_name": "Bash",
   "language": "bash",
   "name": "bash"
  },
  "language_info": {
   "codemirror_mode": "shell",
   "file_extension": ".sh",
   "mimetype": "text/x-sh",
   "name": "bash"
  }
 },
 "nbformat": 4,
 "nbformat_minor": 2
}
